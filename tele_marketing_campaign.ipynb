{
 "cells": [
  {
   "cell_type": "markdown",
   "metadata": {},
   "source": [
    "## Capstone Assignment - Office Supply Store Data Analysis"
   ]
  },
  {
   "cell_type": "markdown",
   "metadata": {},
   "source": [
    "### Background:\n",
    "\n",
    "An office supply store tests a telemarketing campaign to its existing business customers. The company targeted approximately 16,000 customers for the campaign. Assume you are a consultant brought on board to help the company leverage and use the findings from the tests to its advantage. Refer to the accompanying spreadsheet, which contain the results of the tests. \n",
    "\n",
    "### Project objectives:\n",
    "\n",
    "* Profile the customers that responded to the campaign to make the company aware of who its typical customer is.\n",
    "* Develop models that will allow the company to use the results of the campaign to target future, similar campaigns.\n",
    "* Show the financial value of your models.\n",
    "\n",
    "### Expected deliverables:\n",
    "A deck that details your findings and the models (must include a clear gains chart showing the financial contribution of your results) and the percent of the base that can be profitably targeted for the next campaign.\n",
    "\n",
    "### Relevant financials:\n",
    "\n",
    "* Gross margin on sales: 22%\n",
    "\n",
    "* Campaign cost: `$45.65` per business contacted.\n",
    "\n",
    "* Transaction cost: $`8.40` per transaction\n",
    "\n",
    "\n",
    "### Methodology:\n",
    "\n",
    "* Create model and validation sets\n",
    "* Develop a model to estimate the probability of responding to this campaign\n",
    "* Develop a model to estimate the size (dollar) of the transaction\n",
    "* Calculate the expected profit resulting from each target; use the formula below:\n",
    "* E(Profit)=.22*Prob(Sale)*Est(Transaction Size)-$ `8.40` *Prob(Sale)- $ `45.65`\n",
    "* Illustrate the contribution to profitability associated with your models versus random targeting\n",
    "* Create a presentation for your client"
   ]
  },
  {
   "cell_type": "markdown",
   "metadata": {},
   "source": [
    "## Import some Libraries"
   ]
  },
  {
   "cell_type": "code",
   "execution_count": 62,
   "metadata": {},
   "outputs": [],
   "source": [
    "%matplotlib inline\n",
    "import matplotlib.pyplot as plt\n",
    "import numpy as np\n",
    "import pandas as pd\n",
    "import scipy.stats as st\n",
    "import seaborn as sns\n",
    "from datetime import datetime\n",
    "\n",
    "from sklearn.model_selection import train_test_split\n",
    "from sklearn.metrics import accuracy_score, recall_score, precision_score, confusion_matrix, precision_recall_curve, classification_report, mean_squared_error, mean_absolute_error\n",
    "# from sklearn.preprocessing import RobustSca"
   ]
  },
  {
   "cell_type": "code",
   "execution_count": 63,
   "metadata": {},
   "outputs": [],
   "source": [
    "pd.set_option('display.max_columns', 50)"
   ]
  },
  {
   "cell_type": "markdown",
   "metadata": {},
   "source": [
    "## Get the data"
   ]
  },
  {
   "cell_type": "code",
   "execution_count": 64,
   "metadata": {},
   "outputs": [],
   "source": [
    "df = pd.read_excel('data/Office Supply Campaign ResultS 7-23-19.xlsx')"
   ]
  },
  {
   "cell_type": "code",
   "execution_count": 65,
   "metadata": {},
   "outputs": [
    {
     "name": "stdout",
     "output_type": "stream",
     "text": [
      "<class 'pandas.core.frame.DataFrame'>\n",
      "RangeIndex: 16173 entries, 0 to 16172\n",
      "Data columns (total 21 columns):\n",
      "Customer Number                      16172 non-null float64\n",
      "Campaign Period Sales                16172 non-null float64\n",
      "Historical Sales Volume              16172 non-null float64\n",
      "Date of First Purchase               16172 non-null datetime64[ns]\n",
      "Number of Prior Year Transactions    16172 non-null float64\n",
      "Do Not Direct Mail Solicit           16172 non-null float64\n",
      "Do Not Email                         16172 non-null float64\n",
      "Do Not Telemarket                    16172 non-null float64\n",
      "Repurchase Method                    16172 non-null object\n",
      "Last Transaction Channel             15730 non-null object\n",
      "Desk                                 16173 non-null object\n",
      "Executive Chair                      16171 non-null object\n",
      "Standard Chair                       16171 non-null object\n",
      "Monitor                              16171 non-null object\n",
      "Printer                              16171 non-null object\n",
      "Computer                             16172 non-null object\n",
      "Insurance                            16170 non-null object\n",
      "Toner                                16170 non-null object\n",
      "Office Supplies                      16172 non-null object\n",
      "Number of Employees                  16170 non-null object\n",
      "Language                             11701 non-null object\n",
      "dtypes: datetime64[ns](1), float64(7), object(13)\n",
      "memory usage: 2.6+ MB\n"
     ]
    }
   ],
   "source": [
    "df.info()"
   ]
  },
  {
   "cell_type": "code",
   "execution_count": 66,
   "metadata": {},
   "outputs": [
    {
     "data": {
      "text/html": [
       "<div>\n",
       "<style scoped>\n",
       "    .dataframe tbody tr th:only-of-type {\n",
       "        vertical-align: middle;\n",
       "    }\n",
       "\n",
       "    .dataframe tbody tr th {\n",
       "        vertical-align: top;\n",
       "    }\n",
       "\n",
       "    .dataframe thead th {\n",
       "        text-align: right;\n",
       "    }\n",
       "</style>\n",
       "<table border=\"1\" class=\"dataframe\">\n",
       "  <thead>\n",
       "    <tr style=\"text-align: right;\">\n",
       "      <th></th>\n",
       "      <th>Customer Number</th>\n",
       "      <th>Campaign Period Sales</th>\n",
       "      <th>Historical Sales Volume</th>\n",
       "      <th>Date of First Purchase</th>\n",
       "      <th>Number of Prior Year Transactions</th>\n",
       "      <th>Do Not Direct Mail Solicit</th>\n",
       "      <th>Do Not Email</th>\n",
       "      <th>Do Not Telemarket</th>\n",
       "      <th>Repurchase Method</th>\n",
       "      <th>Last Transaction Channel</th>\n",
       "      <th>Desk</th>\n",
       "      <th>Executive Chair</th>\n",
       "      <th>Standard Chair</th>\n",
       "      <th>Monitor</th>\n",
       "      <th>Printer</th>\n",
       "      <th>Computer</th>\n",
       "      <th>Insurance</th>\n",
       "      <th>Toner</th>\n",
       "      <th>Office Supplies</th>\n",
       "      <th>Number of Employees</th>\n",
       "      <th>Language</th>\n",
       "    </tr>\n",
       "  </thead>\n",
       "  <tbody>\n",
       "    <tr>\n",
       "      <td>0</td>\n",
       "      <td>86734.0</td>\n",
       "      <td>238.704762</td>\n",
       "      <td>146803.428571</td>\n",
       "      <td>1968-10-01</td>\n",
       "      <td>15.0</td>\n",
       "      <td>0.0</td>\n",
       "      <td>0.0</td>\n",
       "      <td>0.0</td>\n",
       "      <td>AUTO RENEW</td>\n",
       "      <td>AUTO RENEW</td>\n",
       "      <td>N</td>\n",
       "      <td>N</td>\n",
       "      <td>N</td>\n",
       "      <td>N</td>\n",
       "      <td>N</td>\n",
       "      <td>N</td>\n",
       "      <td>Y</td>\n",
       "      <td>N</td>\n",
       "      <td>Y</td>\n",
       "      <td>6-10</td>\n",
       "      <td>English</td>\n",
       "    </tr>\n",
       "    <tr>\n",
       "      <td>1</td>\n",
       "      <td>97098.0</td>\n",
       "      <td>281.680000</td>\n",
       "      <td>439984.160000</td>\n",
       "      <td>1981-06-15</td>\n",
       "      <td>22.0</td>\n",
       "      <td>0.0</td>\n",
       "      <td>0.0</td>\n",
       "      <td>0.0</td>\n",
       "      <td>NOTICE</td>\n",
       "      <td>MAIL</td>\n",
       "      <td>N</td>\n",
       "      <td>N</td>\n",
       "      <td>N</td>\n",
       "      <td>N</td>\n",
       "      <td>N</td>\n",
       "      <td>N</td>\n",
       "      <td>N</td>\n",
       "      <td>N</td>\n",
       "      <td>Y</td>\n",
       "      <td>11-50</td>\n",
       "      <td>English</td>\n",
       "    </tr>\n",
       "    <tr>\n",
       "      <td>2</td>\n",
       "      <td>100836.0</td>\n",
       "      <td>432.857143</td>\n",
       "      <td>970465.714286</td>\n",
       "      <td>1962-11-01</td>\n",
       "      <td>19.0</td>\n",
       "      <td>0.0</td>\n",
       "      <td>0.0</td>\n",
       "      <td>0.0</td>\n",
       "      <td>NOTICE</td>\n",
       "      <td>MAIL</td>\n",
       "      <td>N</td>\n",
       "      <td>N</td>\n",
       "      <td>N</td>\n",
       "      <td>N</td>\n",
       "      <td>N</td>\n",
       "      <td>N</td>\n",
       "      <td>N</td>\n",
       "      <td>N</td>\n",
       "      <td>Y</td>\n",
       "      <td>6-10</td>\n",
       "      <td>English</td>\n",
       "    </tr>\n",
       "    <tr>\n",
       "      <td>3</td>\n",
       "      <td>116390.0</td>\n",
       "      <td>0.000000</td>\n",
       "      <td>230193.600000</td>\n",
       "      <td>1983-06-01</td>\n",
       "      <td>17.0</td>\n",
       "      <td>0.0</td>\n",
       "      <td>0.0</td>\n",
       "      <td>0.0</td>\n",
       "      <td>NOTICE</td>\n",
       "      <td>PHONE</td>\n",
       "      <td>N</td>\n",
       "      <td>N</td>\n",
       "      <td>N</td>\n",
       "      <td>N</td>\n",
       "      <td>N</td>\n",
       "      <td>N</td>\n",
       "      <td>N</td>\n",
       "      <td>N</td>\n",
       "      <td>Y</td>\n",
       "      <td>1-5</td>\n",
       "      <td>English</td>\n",
       "    </tr>\n",
       "    <tr>\n",
       "      <td>4</td>\n",
       "      <td>127914.0</td>\n",
       "      <td>1370.166667</td>\n",
       "      <td>27403.333333</td>\n",
       "      <td>1987-07-15</td>\n",
       "      <td>21.0</td>\n",
       "      <td>0.0</td>\n",
       "      <td>0.0</td>\n",
       "      <td>0.0</td>\n",
       "      <td>NOTICE</td>\n",
       "      <td>BRANCH (PHONE)</td>\n",
       "      <td>N</td>\n",
       "      <td>N</td>\n",
       "      <td>N</td>\n",
       "      <td>N</td>\n",
       "      <td>N</td>\n",
       "      <td>N</td>\n",
       "      <td>Y</td>\n",
       "      <td>N</td>\n",
       "      <td>N</td>\n",
       "      <td></td>\n",
       "      <td>NaN</td>\n",
       "    </tr>\n",
       "  </tbody>\n",
       "</table>\n",
       "</div>"
      ],
      "text/plain": [
       "   Customer Number  Campaign Period Sales  Historical Sales Volume  \\\n",
       "0          86734.0             238.704762            146803.428571   \n",
       "1          97098.0             281.680000            439984.160000   \n",
       "2         100836.0             432.857143            970465.714286   \n",
       "3         116390.0               0.000000            230193.600000   \n",
       "4         127914.0            1370.166667             27403.333333   \n",
       "\n",
       "  Date of First Purchase  Number of Prior Year Transactions  \\\n",
       "0             1968-10-01                               15.0   \n",
       "1             1981-06-15                               22.0   \n",
       "2             1962-11-01                               19.0   \n",
       "3             1983-06-01                               17.0   \n",
       "4             1987-07-15                               21.0   \n",
       "\n",
       "   Do Not Direct Mail Solicit  Do Not Email  Do Not Telemarket  \\\n",
       "0                         0.0           0.0                0.0   \n",
       "1                         0.0           0.0                0.0   \n",
       "2                         0.0           0.0                0.0   \n",
       "3                         0.0           0.0                0.0   \n",
       "4                         0.0           0.0                0.0   \n",
       "\n",
       "  Repurchase Method Last Transaction Channel Desk Executive Chair  \\\n",
       "0        AUTO RENEW               AUTO RENEW    N               N   \n",
       "1            NOTICE                     MAIL    N               N   \n",
       "2            NOTICE                     MAIL    N               N   \n",
       "3            NOTICE                    PHONE    N               N   \n",
       "4            NOTICE           BRANCH (PHONE)    N               N   \n",
       "\n",
       "  Standard Chair Monitor Printer Computer Insurance Toner Office Supplies  \\\n",
       "0              N       N       N        N         Y     N               Y   \n",
       "1              N       N       N        N         N     N               Y   \n",
       "2              N       N       N        N         N     N               Y   \n",
       "3              N       N       N        N         N     N               Y   \n",
       "4              N       N       N        N         Y     N               N   \n",
       "\n",
       "  Number of Employees Language  \n",
       "0                6-10  English  \n",
       "1               11-50  English  \n",
       "2                6-10  English  \n",
       "3                 1-5  English  \n",
       "4                          NaN  "
      ]
     },
     "execution_count": 66,
     "metadata": {},
     "output_type": "execute_result"
    }
   ],
   "source": [
    "df.head()"
   ]
  },
  {
   "cell_type": "markdown",
   "metadata": {},
   "source": [
    "### Clean the column names"
   ]
  },
  {
   "cell_type": "code",
   "execution_count": 67,
   "metadata": {},
   "outputs": [],
   "source": [
    "# clean a column names\n",
    "df.columns = [col.strip().lower().replace(' ', '_') for col in df.columns]"
   ]
  },
  {
   "cell_type": "code",
   "execution_count": 68,
   "metadata": {},
   "outputs": [
    {
     "data": {
      "text/html": [
       "<div>\n",
       "<style scoped>\n",
       "    .dataframe tbody tr th:only-of-type {\n",
       "        vertical-align: middle;\n",
       "    }\n",
       "\n",
       "    .dataframe tbody tr th {\n",
       "        vertical-align: top;\n",
       "    }\n",
       "\n",
       "    .dataframe thead th {\n",
       "        text-align: right;\n",
       "    }\n",
       "</style>\n",
       "<table border=\"1\" class=\"dataframe\">\n",
       "  <thead>\n",
       "    <tr style=\"text-align: right;\">\n",
       "      <th></th>\n",
       "      <th>customer_number</th>\n",
       "      <th>campaign_period_sales</th>\n",
       "      <th>historical_sales_volume</th>\n",
       "      <th>date_of_first_purchase</th>\n",
       "      <th>number_of_prior_year_transactions</th>\n",
       "      <th>do_not_direct_mail_solicit</th>\n",
       "      <th>do_not_email</th>\n",
       "      <th>do_not_telemarket</th>\n",
       "      <th>repurchase_method</th>\n",
       "      <th>last_transaction_channel</th>\n",
       "      <th>desk</th>\n",
       "      <th>executive_chair</th>\n",
       "      <th>standard_chair</th>\n",
       "      <th>monitor</th>\n",
       "      <th>printer</th>\n",
       "      <th>computer</th>\n",
       "      <th>insurance</th>\n",
       "      <th>toner</th>\n",
       "      <th>office_supplies</th>\n",
       "      <th>number_of_employees</th>\n",
       "      <th>language</th>\n",
       "    </tr>\n",
       "  </thead>\n",
       "  <tbody>\n",
       "    <tr>\n",
       "      <td>0</td>\n",
       "      <td>86734.0</td>\n",
       "      <td>238.704762</td>\n",
       "      <td>146803.428571</td>\n",
       "      <td>1968-10-01</td>\n",
       "      <td>15.0</td>\n",
       "      <td>0.0</td>\n",
       "      <td>0.0</td>\n",
       "      <td>0.0</td>\n",
       "      <td>AUTO RENEW</td>\n",
       "      <td>AUTO RENEW</td>\n",
       "      <td>N</td>\n",
       "      <td>N</td>\n",
       "      <td>N</td>\n",
       "      <td>N</td>\n",
       "      <td>N</td>\n",
       "      <td>N</td>\n",
       "      <td>Y</td>\n",
       "      <td>N</td>\n",
       "      <td>Y</td>\n",
       "      <td>6-10</td>\n",
       "      <td>English</td>\n",
       "    </tr>\n",
       "  </tbody>\n",
       "</table>\n",
       "</div>"
      ],
      "text/plain": [
       "   customer_number  campaign_period_sales  historical_sales_volume  \\\n",
       "0          86734.0             238.704762            146803.428571   \n",
       "\n",
       "  date_of_first_purchase  number_of_prior_year_transactions  \\\n",
       "0             1968-10-01                               15.0   \n",
       "\n",
       "   do_not_direct_mail_solicit  do_not_email  do_not_telemarket  \\\n",
       "0                         0.0           0.0                0.0   \n",
       "\n",
       "  repurchase_method last_transaction_channel desk executive_chair  \\\n",
       "0        AUTO RENEW               AUTO RENEW    N               N   \n",
       "\n",
       "  standard_chair monitor printer computer insurance toner office_supplies  \\\n",
       "0              N       N       N        N         Y     N               Y   \n",
       "\n",
       "  number_of_employees language  \n",
       "0                6-10  English  "
      ]
     },
     "execution_count": 68,
     "metadata": {},
     "output_type": "execute_result"
    }
   ],
   "source": [
    "df.head(1)"
   ]
  },
  {
   "cell_type": "markdown",
   "metadata": {},
   "source": [
    "# Dealing with missing Data"
   ]
  },
  {
   "cell_type": "markdown",
   "metadata": {},
   "source": [
    "### Heatmap to visulaize the missing data"
   ]
  },
  {
   "cell_type": "code",
   "execution_count": 69,
   "metadata": {},
   "outputs": [
    {
     "data": {
      "text/plain": [
       "<matplotlib.axes._subplots.AxesSubplot at 0x1a28297710>"
      ]
     },
     "execution_count": 69,
     "metadata": {},
     "output_type": "execute_result"
    },
    {
     "data": {
      "image/png": "[encoded data removed]",
      "text/plain": [
       "<Figure size 432x288 with 1 Axes>"
      ]
     },
     "metadata": {
      "needs_background": "light"
     },
     "output_type": "display_data"
    }
   ],
   "source": [
    "sns.heatmap(df.isnull(), yticklabels=False, cbar=False, cmap='viridis')"
   ]
  },
  {
   "cell_type": "markdown",
   "metadata": {},
   "source": [
    "* Most of the data in `language` attribuate and  some date in  `last_transaction_channel` attribuate are missing."
   ]
  },
  {
   "cell_type": "markdown",
   "metadata": {},
   "source": [
    "------"
   ]
  },
  {
   "cell_type": "markdown",
   "metadata": {},
   "source": [
    "## Percentage of the missing data for each feature "
   ]
  },
  {
   "cell_type": "code",
   "execution_count": 70,
   "metadata": {},
   "outputs": [
    {
     "name": "stdout",
     "output_type": "stream",
     "text": [
      "customer_number: 0.0061831447474185374%\n",
      "campaign_period_sales: 0.0061831447474185374%\n",
      "historical_sales_volume: 0.0061831447474185374%\n",
      "date_of_first_purchase: 0.0061831447474185374%\n",
      "number_of_prior_year_transactions: 0.0061831447474185374%\n",
      "do_not_direct_mail_solicit: 0.0061831447474185374%\n",
      "do_not_email: 0.0061831447474185374%\n",
      "do_not_telemarket: 0.0061831447474185374%\n",
      "repurchase_method: 0.0061831447474185374%\n",
      "last_transaction_channel: 2.739133123106412%\n",
      "desk: 0.0%\n",
      "executive_chair: 0.012366289494837075%\n",
      "standard_chair: 0.012366289494837075%\n",
      "monitor: 0.012366289494837075%\n",
      "printer: 0.012366289494837075%\n",
      "computer: 0.0061831447474185374%\n",
      "insurance: 0.01854943424225561%\n",
      "toner: 0.01854943424225561%\n",
      "office_supplies: 0.0061831447474185374%\n",
      "number_of_employees: 0.01854943424225561%\n",
      "language: 27.6510233104557%\n"
     ]
    }
   ],
   "source": [
    "def NaN_percent(df, column_name):\n",
    "    row_count = df[column_name].shape[0]\n",
    "    empty_values = row_count - df[column_name].count()\n",
    "    return (100.0*empty_values)/row_count\n",
    "for i in list(df):\n",
    "    print(i +': ' + str(NaN_percent(df,i))+'%')  "
   ]
  },
  {
   "cell_type": "markdown",
   "metadata": {},
   "source": [
    "-----"
   ]
  },
  {
   "cell_type": "markdown",
   "metadata": {},
   "source": [
    "* **About 27% of the `language` are missing; 2.7% of `last_transaction_channel` are missing.**"
   ]
  },
  {
   "cell_type": "markdown",
   "metadata": {},
   "source": [
    "-------------"
   ]
  },
  {
   "cell_type": "markdown",
   "metadata": {},
   "source": [
    "## Counting these missing values"
   ]
  },
  {
   "cell_type": "code",
   "execution_count": 71,
   "metadata": {},
   "outputs": [
    {
     "data": {
      "text/plain": [
       "customer_number                         1\n",
       "campaign_period_sales                   1\n",
       "historical_sales_volume                 1\n",
       "date_of_first_purchase                  1\n",
       "number_of_prior_year_transactions       1\n",
       "do_not_direct_mail_solicit              1\n",
       "do_not_email                            1\n",
       "do_not_telemarket                       1\n",
       "repurchase_method                       1\n",
       "last_transaction_channel              443\n",
       "desk                                    0\n",
       "executive_chair                         2\n",
       "standard_chair                          2\n",
       "monitor                                 2\n",
       "printer                                 2\n",
       "computer                                1\n",
       "insurance                               3\n",
       "toner                                   3\n",
       "office_supplies                         1\n",
       "number_of_employees                     3\n",
       "language                             4472\n",
       "dtype: int64"
      ]
     },
     "execution_count": 71,
     "metadata": {},
     "output_type": "execute_result"
    }
   ],
   "source": [
    "df.isnull().sum()"
   ]
  },
  {
   "cell_type": "markdown",
   "metadata": {},
   "source": [
    "-----"
   ]
  },
  {
   "cell_type": "markdown",
   "metadata": {},
   "source": [
    "## Dealing with Missing Data"
   ]
  },
  {
   "cell_type": "code",
   "execution_count": 72,
   "metadata": {},
   "outputs": [
    {
     "data": {
      "text/plain": [
       "0        English\n",
       "1        English\n",
       "2        English\n",
       "3        English\n",
       "4            NaN\n",
       "          ...   \n",
       "16168        NaN\n",
       "16169        NaN\n",
       "16170        NaN\n",
       "16171        NaN\n",
       "16172        NaN\n",
       "Name: language, Length: 16173, dtype: object"
      ]
     },
     "execution_count": 72,
     "metadata": {},
     "output_type": "execute_result"
    }
   ],
   "source": [
    " df.language"
   ]
  },
  {
   "cell_type": "code",
   "execution_count": 73,
   "metadata": {},
   "outputs": [
    {
     "name": "stdout",
     "output_type": "stream",
     "text": [
      "<class 'pandas.core.frame.DataFrame'>\n",
      "Int64Index: 16170 entries, 0 to 16171\n",
      "Data columns (total 21 columns):\n",
      "customer_number                      16170 non-null float64\n",
      "campaign_period_sales                16170 non-null float64\n",
      "historical_sales_volume              16170 non-null float64\n",
      "date_of_first_purchase               16170 non-null datetime64[ns]\n",
      "number_of_prior_year_transactions    16170 non-null float64\n",
      "do_not_direct_mail_solicit           16170 non-null float64\n",
      "do_not_email                         16170 non-null float64\n",
      "do_not_telemarket                    16170 non-null float64\n",
      "repurchase_method                    16170 non-null object\n",
      "last_transaction_channel             15728 non-null object\n",
      "desk                                 16170 non-null object\n",
      "executive_chair                      16170 non-null object\n",
      "standard_chair                       16170 non-null object\n",
      "monitor                              16170 non-null object\n",
      "printer                              16170 non-null object\n",
      "computer                             16170 non-null object\n",
      "insurance                            16170 non-null object\n",
      "toner                                16170 non-null object\n",
      "office_supplies                      16170 non-null object\n",
      "number_of_employees                  16168 non-null object\n",
      "language                             11701 non-null object\n",
      "dtypes: datetime64[ns](1), float64(7), object(13)\n",
      "memory usage: 2.7+ MB\n"
     ]
    }
   ],
   "source": [
    "# look for rows missing for certain product entries\n",
    "idx_missing=df.loc[df.toner.isnull()].index\n",
    "# df.loc[df.idx_missing]\n",
    "df.drop(labels=idx_missing, axis=0, inplace=True) # drop missing rows for products.\n",
    "df.info()"
   ]
  },
  {
   "cell_type": "code",
   "execution_count": 74,
   "metadata": {},
   "outputs": [
    {
     "name": "stdout",
     "output_type": "stream",
     "text": [
      "<class 'pandas.core.frame.DataFrame'>\n",
      "Int64Index: 15728 entries, 0 to 16171\n",
      "Data columns (total 21 columns):\n",
      "customer_number                      15728 non-null float64\n",
      "campaign_period_sales                15728 non-null float64\n",
      "historical_sales_volume              15728 non-null float64\n",
      "date_of_first_purchase               15728 non-null datetime64[ns]\n",
      "number_of_prior_year_transactions    15728 non-null float64\n",
      "do_not_direct_mail_solicit           15728 non-null float64\n",
      "do_not_email                         15728 non-null float64\n",
      "do_not_telemarket                    15728 non-null float64\n",
      "repurchase_method                    15728 non-null object\n",
      "last_transaction_channel             15728 non-null object\n",
      "desk                                 15728 non-null object\n",
      "executive_chair                      15728 non-null object\n",
      "standard_chair                       15728 non-null object\n",
      "monitor                              15728 non-null object\n",
      "printer                              15728 non-null object\n",
      "computer                             15728 non-null object\n",
      "insurance                            15728 non-null object\n",
      "toner                                15728 non-null object\n",
      "office_supplies                      15728 non-null object\n",
      "number_of_employees                  15726 non-null object\n",
      "language                             11413 non-null object\n",
      "dtypes: datetime64[ns](1), float64(7), object(13)\n",
      "memory usage: 2.6+ MB\n"
     ]
    }
   ],
   "source": [
    "df.loc[df.last_transaction_channel.isnull()]\n",
    "# Get rid of rows missing in ast_transaction_channnel\n",
    "df.drop(labels=df.loc[df.last_transaction_channel.isnull()].index, inplace=True)\n",
    "df.info()"
   ]
  },
  {
   "cell_type": "code",
   "execution_count": 75,
   "metadata": {},
   "outputs": [
    {
     "data": {
      "text/plain": [
       "English       11039\n",
       "Spanish          88\n",
       "Italian          45\n",
       "Portuguese       40\n",
       "Hindi            39\n",
       "Chinese          30\n",
       "Russian          24\n",
       "Hebrew           20\n",
       "Arabic           16\n",
       "German           15\n",
       "Greek            14\n",
       "Japanese         11\n",
       "Polish           10\n",
       "Vietnamese        9\n",
       "French            6\n",
       "Korean            4\n",
       "Thai              2\n",
       "Pashto            1\n",
       "Name: language, dtype: int64"
      ]
     },
     "execution_count": 75,
     "metadata": {},
     "output_type": "execute_result"
    }
   ],
   "source": [
    "df.drop(labels=df.loc[df.language.isnull()].index, inplace=True)\n",
    "df.language.value_counts()"
   ]
  },
  {
   "cell_type": "code",
   "execution_count": 76,
   "metadata": {},
   "outputs": [
    {
     "data": {
      "text/html": [
       "<div>\n",
       "<style scoped>\n",
       "    .dataframe tbody tr th:only-of-type {\n",
       "        vertical-align: middle;\n",
       "    }\n",
       "\n",
       "    .dataframe tbody tr th {\n",
       "        vertical-align: top;\n",
       "    }\n",
       "\n",
       "    .dataframe thead th {\n",
       "        text-align: right;\n",
       "    }\n",
       "</style>\n",
       "<table border=\"1\" class=\"dataframe\">\n",
       "  <thead>\n",
       "    <tr style=\"text-align: right;\">\n",
       "      <th></th>\n",
       "      <th>customer_number</th>\n",
       "      <th>campaign_period_sales</th>\n",
       "      <th>historical_sales_volume</th>\n",
       "      <th>date_of_first_purchase</th>\n",
       "      <th>number_of_prior_year_transactions</th>\n",
       "      <th>do_not_direct_mail_solicit</th>\n",
       "      <th>do_not_email</th>\n",
       "      <th>do_not_telemarket</th>\n",
       "      <th>repurchase_method</th>\n",
       "      <th>last_transaction_channel</th>\n",
       "      <th>desk</th>\n",
       "      <th>executive_chair</th>\n",
       "      <th>standard_chair</th>\n",
       "      <th>monitor</th>\n",
       "      <th>printer</th>\n",
       "      <th>computer</th>\n",
       "      <th>insurance</th>\n",
       "      <th>toner</th>\n",
       "      <th>office_supplies</th>\n",
       "      <th>number_of_employees</th>\n",
       "      <th>language</th>\n",
       "    </tr>\n",
       "  </thead>\n",
       "  <tbody>\n",
       "    <tr>\n",
       "      <td>10802</td>\n",
       "      <td>24078364.0</td>\n",
       "      <td>3093.454000</td>\n",
       "      <td>6384889.056</td>\n",
       "      <td>1965-08-15</td>\n",
       "      <td>24.0</td>\n",
       "      <td>0.0</td>\n",
       "      <td>1.0</td>\n",
       "      <td>0.0</td>\n",
       "      <td>AUTO RENEW</td>\n",
       "      <td>AUTO RENEW</td>\n",
       "      <td>N</td>\n",
       "      <td>N</td>\n",
       "      <td>N</td>\n",
       "      <td>N</td>\n",
       "      <td>N</td>\n",
       "      <td>Y</td>\n",
       "      <td>Y</td>\n",
       "      <td>Y</td>\n",
       "      <td>Y</td>\n",
       "      <td>NaN</td>\n",
       "      <td>English</td>\n",
       "    </tr>\n",
       "    <tr>\n",
       "      <td>11865</td>\n",
       "      <td>26537607.0</td>\n",
       "      <td>234.146667</td>\n",
       "      <td>189658.800</td>\n",
       "      <td>2012-10-30</td>\n",
       "      <td>15.0</td>\n",
       "      <td>0.0</td>\n",
       "      <td>0.0</td>\n",
       "      <td>0.0</td>\n",
       "      <td>NOTICE</td>\n",
       "      <td>WEB</td>\n",
       "      <td>Y</td>\n",
       "      <td>N</td>\n",
       "      <td>N</td>\n",
       "      <td>N</td>\n",
       "      <td>N</td>\n",
       "      <td>N</td>\n",
       "      <td>N</td>\n",
       "      <td>N</td>\n",
       "      <td>Y</td>\n",
       "      <td>NaN</td>\n",
       "      <td>English</td>\n",
       "    </tr>\n",
       "  </tbody>\n",
       "</table>\n",
       "</div>"
      ],
      "text/plain": [
       "       customer_number  campaign_period_sales  historical_sales_volume  \\\n",
       "10802       24078364.0            3093.454000              6384889.056   \n",
       "11865       26537607.0             234.146667               189658.800   \n",
       "\n",
       "      date_of_first_purchase  number_of_prior_year_transactions  \\\n",
       "10802             1965-08-15                               24.0   \n",
       "11865             2012-10-30                               15.0   \n",
       "\n",
       "       do_not_direct_mail_solicit  do_not_email  do_not_telemarket  \\\n",
       "10802                         0.0           1.0                0.0   \n",
       "11865                         0.0           0.0                0.0   \n",
       "\n",
       "      repurchase_method last_transaction_channel desk executive_chair  \\\n",
       "10802        AUTO RENEW               AUTO RENEW    N               N   \n",
       "11865            NOTICE                      WEB    Y               N   \n",
       "\n",
       "      standard_chair monitor printer computer insurance toner office_supplies  \\\n",
       "10802              N       N       N        Y         Y     Y               Y   \n",
       "11865              N       N       N        N         N     N               Y   \n",
       "\n",
       "      number_of_employees language  \n",
       "10802                 NaN  English  \n",
       "11865                 NaN  English  "
      ]
     },
     "execution_count": 76,
     "metadata": {},
     "output_type": "execute_result"
    }
   ],
   "source": [
    "df.loc[df.number_of_employees.isnull()]"
   ]
  },
  {
   "cell_type": "code",
   "execution_count": 77,
   "metadata": {},
   "outputs": [
    {
     "data": {
      "text/plain": [
       "6-10       4775\n",
       "1-5        2455\n",
       "11-50      2033\n",
       "51-100     1264\n",
       "101-500     599\n",
       "500+        210\n",
       "             75\n",
       "Name: number_of_employees, dtype: int64"
      ]
     },
     "execution_count": 77,
     "metadata": {},
     "output_type": "execute_result"
    }
   ],
   "source": [
    "df.number_of_employees.value_counts()\n",
    "# we see we have empyt string"
   ]
  },
  {
   "cell_type": "code",
   "execution_count": 78,
   "metadata": {},
   "outputs": [],
   "source": [
    "idx= df.loc[df.number_of_employees.isnull()].index\n",
    "df.loc[idx, 'number_of_employees'] = ' '"
   ]
  },
  {
   "cell_type": "code",
   "execution_count": 79,
   "metadata": {},
   "outputs": [
    {
     "data": {
      "text/plain": [
       "0        False\n",
       "1        False\n",
       "2        False\n",
       "3        False\n",
       "5        False\n",
       "         ...  \n",
       "14939    False\n",
       "14941    False\n",
       "14945    False\n",
       "14946    False\n",
       "14947    False\n",
       "Name: number_of_employees, Length: 11413, dtype: bool"
      ]
     },
     "execution_count": 79,
     "metadata": {},
     "output_type": "execute_result"
    }
   ],
   "source": [
    "df.number_of_employees.str.contains(' ')"
   ]
  },
  {
   "cell_type": "code",
   "execution_count": 80,
   "metadata": {},
   "outputs": [
    {
     "name": "stdout",
     "output_type": "stream",
     "text": [
      "<class 'pandas.core.frame.DataFrame'>\n",
      "Int64Index: 11411 entries, 0 to 14947\n",
      "Data columns (total 21 columns):\n",
      "customer_number                      11411 non-null float64\n",
      "campaign_period_sales                11411 non-null float64\n",
      "historical_sales_volume              11411 non-null float64\n",
      "date_of_first_purchase               11411 non-null datetime64[ns]\n",
      "number_of_prior_year_transactions    11411 non-null float64\n",
      "do_not_direct_mail_solicit           11411 non-null float64\n",
      "do_not_email                         11411 non-null float64\n",
      "do_not_telemarket                    11411 non-null float64\n",
      "repurchase_method                    11411 non-null object\n",
      "last_transaction_channel             11411 non-null object\n",
      "desk                                 11411 non-null object\n",
      "executive_chair                      11411 non-null object\n",
      "standard_chair                       11411 non-null object\n",
      "monitor                              11411 non-null object\n",
      "printer                              11411 non-null object\n",
      "computer                             11411 non-null object\n",
      "insurance                            11411 non-null object\n",
      "toner                                11411 non-null object\n",
      "office_supplies                      11411 non-null object\n",
      "number_of_employees                  11411 non-null object\n",
      "language                             11411 non-null object\n",
      "dtypes: datetime64[ns](1), float64(7), object(13)\n",
      "memory usage: 1.9+ MB\n"
     ]
    }
   ],
   "source": [
    "idx_unknown_employees = (df.number_of_employees.str.contains(' '))\n",
    "# idx = (idx_language_none | idx_unknown_employees)\n",
    "df.drop(labels=df.loc[idx].index, axis=0).info()"
   ]
  },
  {
   "cell_type": "code",
   "execution_count": 81,
   "metadata": {},
   "outputs": [
    {
     "name": "stdout",
     "output_type": "stream",
     "text": [
      "<class 'pandas.core.frame.DataFrame'>\n",
      "Int64Index: 11336 entries, 0 to 14947\n",
      "Data columns (total 21 columns):\n",
      "customer_number                      11336 non-null float64\n",
      "campaign_period_sales                11336 non-null float64\n",
      "historical_sales_volume              11336 non-null float64\n",
      "date_of_first_purchase               11336 non-null datetime64[ns]\n",
      "number_of_prior_year_transactions    11336 non-null float64\n",
      "do_not_direct_mail_solicit           11336 non-null float64\n",
      "do_not_email                         11336 non-null float64\n",
      "do_not_telemarket                    11336 non-null float64\n",
      "repurchase_method                    11336 non-null object\n",
      "last_transaction_channel             11336 non-null object\n",
      "desk                                 11336 non-null object\n",
      "executive_chair                      11336 non-null object\n",
      "standard_chair                       11336 non-null object\n",
      "monitor                              11336 non-null object\n",
      "printer                              11336 non-null object\n",
      "computer                             11336 non-null object\n",
      "insurance                            11336 non-null object\n",
      "toner                                11336 non-null object\n",
      "office_supplies                      11336 non-null object\n",
      "number_of_employees                  11336 non-null object\n",
      "language                             11336 non-null object\n",
      "dtypes: datetime64[ns](1), float64(7), object(13)\n",
      "memory usage: 1.9+ MB\n"
     ]
    }
   ],
   "source": [
    "idx =(df.number_of_employees.str.contains(' '))\n",
    "df.drop(labels=df.loc[idx].index, inplace=True)\n",
    "df.info()"
   ]
  },
  {
   "cell_type": "code",
   "execution_count": 82,
   "metadata": {},
   "outputs": [
    {
     "data": {
      "text/plain": [
       "(11336, 21)"
      ]
     },
     "execution_count": 82,
     "metadata": {},
     "output_type": "execute_result"
    }
   ],
   "source": [
    "df.shape\n"
   ]
  },
  {
   "cell_type": "code",
   "execution_count": 83,
   "metadata": {},
   "outputs": [
    {
     "name": "stdout",
     "output_type": "stream",
     "text": [
      "repurchase_method \n",
      " NOTICE        8507\n",
      "AUTO RENEW    2829\n",
      "Name: repurchase_method, dtype: int64 \n",
      "-------------\n",
      "\n",
      "last_transaction_channel \n",
      " MAIL              5858\n",
      "AUTO RENEW        2183\n",
      "WEB               1808\n",
      "PHONE              726\n",
      "BRANCH (POS)       450\n",
      "BRANCH (PHONE)     291\n",
      "BILLING             12\n",
      "IT                   8\n",
      "Name: last_transaction_channel, dtype: int64 \n",
      "-------------\n",
      "\n",
      "desk \n",
      " N    10746\n",
      "Y      590\n",
      "Name: desk, dtype: int64 \n",
      "-------------\n",
      "\n",
      "executive_chair \n",
      " N    10528\n",
      "Y      808\n",
      "Name: executive_chair, dtype: int64 \n",
      "-------------\n",
      "\n",
      "standard_chair \n",
      " N    11239\n",
      "Y       97\n",
      "Name: standard_chair, dtype: int64 \n",
      "-------------\n",
      "\n",
      "monitor \n",
      " N    11235\n",
      "Y      101\n",
      "Name: monitor, dtype: int64 \n",
      "-------------\n",
      "\n",
      "printer \n",
      " N    11127\n",
      "Y      209\n",
      "Name: printer, dtype: int64 \n",
      "-------------\n",
      "\n",
      "computer \n",
      " N    11277\n",
      "Y       59\n",
      "Name: computer, dtype: int64 \n",
      "-------------\n",
      "\n",
      "insurance \n",
      " N    10151\n",
      "Y     1185\n",
      "Name: insurance, dtype: int64 \n",
      "-------------\n",
      "\n",
      "toner \n",
      " N    10682\n",
      "Y      654\n",
      "Name: toner, dtype: int64 \n",
      "-------------\n",
      "\n",
      "office_supplies \n",
      " Y    10736\n",
      "N      600\n",
      "Name: office_supplies, dtype: int64 \n",
      "-------------\n",
      "\n",
      "number_of_employees \n",
      " 6-10       4775\n",
      "1-5        2455\n",
      "11-50      2033\n",
      "51-100     1264\n",
      "101-500     599\n",
      "500+        210\n",
      "Name: number_of_employees, dtype: int64 \n",
      "-------------\n",
      "\n",
      "language \n",
      " English       10964\n",
      "Spanish          87\n",
      "Italian          44\n",
      "Portuguese       40\n",
      "Hindi            39\n",
      "Chinese          30\n",
      "Russian          24\n",
      "Hebrew           20\n",
      "Arabic           16\n",
      "German           15\n",
      "Greek            14\n",
      "Japanese         11\n",
      "Polish           10\n",
      "Vietnamese        9\n",
      "French            6\n",
      "Korean            4\n",
      "Thai              2\n",
      "Pashto            1\n",
      "Name: language, dtype: int64 \n",
      "-------------\n",
      "\n"
     ]
    }
   ],
   "source": [
    "for col in df.columns[-13:]:\n",
    "    print(col, '\\n', df[col].value_counts(), '\\n-------------\\n')"
   ]
  },
  {
   "cell_type": "markdown",
   "metadata": {},
   "source": [
    "## Visualizing Corelations"
   ]
  },
  {
   "cell_type": "markdown",
   "metadata": {},
   "source": [
    "### Using Heat Map "
   ]
  },
  {
   "cell_type": "code",
   "execution_count": 84,
   "metadata": {},
   "outputs": [
    {
     "name": "stdout",
     "output_type": "stream",
     "text": [
      "------------------------------------------------------------------------------------------------------------------\n"
     ]
    },
    {
     "data": {
      "image/png": "[encoded data removed]",
      "text/plain": [
       "<Figure size 432x288 with 2 Axes>"
      ]
     },
     "metadata": {
      "needs_background": "light"
     },
     "output_type": "display_data"
    }
   ],
   "source": [
    "# Corelation between the varaiables using the whole dataset\n",
    "\n",
    "sns.heatmap(df.corr(), annot=True, cmap='viridis')\n",
    "plt.title(\"Corelation between the varaiables using the whole dataset\")\n",
    "print(\"--\"*len('Corelation between the varaiables using the whole dataset'))\n",
    "plt.show()"
   ]
  },
  {
   "cell_type": "markdown",
   "metadata": {},
   "source": [
    "* The heatmap shows that `campaign period sales` is corelated with the `historical sale volume`; `historical sale volume` in turn corelated with `number of prior year transaction`. "
   ]
  },
  {
   "cell_type": "code",
   "execution_count": null,
   "metadata": {},
   "outputs": [],
   "source": []
  },
  {
   "cell_type": "markdown",
   "metadata": {},
   "source": [
    "## Corelation between `campaign_period_sales` and `historical_sales_volume`"
   ]
  },
  {
   "cell_type": "code",
   "execution_count": 85,
   "metadata": {},
   "outputs": [
    {
     "data": {
      "text/plain": [
       "Index(['customer_number', 'campaign_period_sales', 'historical_sales_volume',\n",
       "       'date_of_first_purchase', 'number_of_prior_year_transactions',\n",
       "       'do_not_direct_mail_solicit', 'do_not_email', 'do_not_telemarket',\n",
       "       'repurchase_method', 'last_transaction_channel', 'desk',\n",
       "       'executive_chair', 'standard_chair', 'monitor', 'printer', 'computer',\n",
       "       'insurance', 'toner', 'office_supplies', 'number_of_employees',\n",
       "       'language'],\n",
       "      dtype='object')"
      ]
     },
     "execution_count": 85,
     "metadata": {},
     "output_type": "execute_result"
    }
   ],
   "source": [
    "df.columns"
   ]
  },
  {
   "cell_type": "code",
   "execution_count": 86,
   "metadata": {},
   "outputs": [
    {
     "name": "stderr",
     "output_type": "stream",
     "text": [
      "/opt/anaconda3/lib/python3.7/site-packages/sklearn/linear_model/logistic.py:432: FutureWarning: Default solver will be changed to 'lbfgs' in 0.22. Specify a solver to silence this warning.\n",
      "  FutureWarning)\n",
      "/opt/anaconda3/lib/python3.7/site-packages/sklearn/linear_model/logistic.py:432: FutureWarning: Default solver will be changed to 'lbfgs' in 0.22. Specify a solver to silence this warning.\n",
      "  FutureWarning)\n"
     ]
    },
    {
     "data": {
      "text/plain": [
       "0.7381792519407199"
      ]
     },
     "execution_count": 86,
     "metadata": {},
     "output_type": "execute_result"
    },
    {
     "data": {
      "image/png": "[encoded data removed]",
      "text/plain": [
       "<Figure size 432x288 with 1 Axes>"
      ]
     },
     "metadata": {
      "needs_background": "light"
     },
     "output_type": "display_data"
    }
   ],
   "source": [
    "sub_df = df[['campaign_period_sales', 'number_of_prior_year_transactions']].dropna()\n",
    "\n",
    "buyers = np.where(sub_df['campaign_period_sales'] >0, 1, 0)\n",
    "sns.countplot(buyers)\n",
    "\n",
    "X = sub_df[['number_of_prior_year_transactions']]\n",
    "y = buyers\n",
    "from sklearn.linear_model import LogisticRegression\n",
    "lgr= LogisticRegression()\n",
    "lgr.fit(X,y)\n",
    "\n",
    "pd.DataFrame(lgr.predict_proba(X))\n",
    "\n",
    "from sklearn.model_selection import train_test_split\n",
    "X_train, X_test, y_train, y_test = train_test_split(X, y )\n",
    "lgr = LogisticRegression()\n",
    "lgr.fit(X_train, y_train)\n",
    "\n",
    "lgr.score(X_test, y_test)"
   ]
  },
  {
   "cell_type": "code",
   "execution_count": null,
   "metadata": {},
   "outputs": [],
   "source": []
  },
  {
   "cell_type": "markdown",
   "metadata": {},
   "source": [
    "## Let visualize some data"
   ]
  },
  {
   "cell_type": "markdown",
   "metadata": {},
   "source": [
    "### Distribution of Campaigni Period Sales"
   ]
  },
  {
   "cell_type": "code",
   "execution_count": 87,
   "metadata": {},
   "outputs": [],
   "source": [
    "def buy_or_not_buy(x):\n",
    "    if x > 0:\n",
    "        return 'Buy'\n",
    "    else:\n",
    "        return 'Not_Buy'"
   ]
  },
  {
   "cell_type": "code",
   "execution_count": 88,
   "metadata": {},
   "outputs": [
    {
     "data": {
      "text/html": [
       "<div>\n",
       "<style scoped>\n",
       "    .dataframe tbody tr th:only-of-type {\n",
       "        vertical-align: middle;\n",
       "    }\n",
       "\n",
       "    .dataframe tbody tr th {\n",
       "        vertical-align: top;\n",
       "    }\n",
       "\n",
       "    .dataframe thead th {\n",
       "        text-align: right;\n",
       "    }\n",
       "</style>\n",
       "<table border=\"1\" class=\"dataframe\">\n",
       "  <thead>\n",
       "    <tr style=\"text-align: right;\">\n",
       "      <th></th>\n",
       "      <th>customer_number</th>\n",
       "      <th>campaign_period_sales</th>\n",
       "      <th>historical_sales_volume</th>\n",
       "      <th>date_of_first_purchase</th>\n",
       "      <th>number_of_prior_year_transactions</th>\n",
       "      <th>do_not_direct_mail_solicit</th>\n",
       "      <th>do_not_email</th>\n",
       "      <th>do_not_telemarket</th>\n",
       "      <th>repurchase_method</th>\n",
       "      <th>last_transaction_channel</th>\n",
       "      <th>desk</th>\n",
       "      <th>executive_chair</th>\n",
       "      <th>standard_chair</th>\n",
       "      <th>monitor</th>\n",
       "      <th>printer</th>\n",
       "      <th>computer</th>\n",
       "      <th>insurance</th>\n",
       "      <th>toner</th>\n",
       "      <th>office_supplies</th>\n",
       "      <th>number_of_employees</th>\n",
       "      <th>language</th>\n",
       "      <th>made_purchase</th>\n",
       "    </tr>\n",
       "  </thead>\n",
       "  <tbody>\n",
       "    <tr>\n",
       "      <td>0</td>\n",
       "      <td>86734.0</td>\n",
       "      <td>238.704762</td>\n",
       "      <td>146803.428571</td>\n",
       "      <td>1968-10-01</td>\n",
       "      <td>15.0</td>\n",
       "      <td>0.0</td>\n",
       "      <td>0.0</td>\n",
       "      <td>0.0</td>\n",
       "      <td>AUTO RENEW</td>\n",
       "      <td>AUTO RENEW</td>\n",
       "      <td>N</td>\n",
       "      <td>N</td>\n",
       "      <td>N</td>\n",
       "      <td>N</td>\n",
       "      <td>N</td>\n",
       "      <td>N</td>\n",
       "      <td>Y</td>\n",
       "      <td>N</td>\n",
       "      <td>Y</td>\n",
       "      <td>6-10</td>\n",
       "      <td>English</td>\n",
       "      <td>Buy</td>\n",
       "    </tr>\n",
       "    <tr>\n",
       "      <td>1</td>\n",
       "      <td>97098.0</td>\n",
       "      <td>281.680000</td>\n",
       "      <td>439984.160000</td>\n",
       "      <td>1981-06-15</td>\n",
       "      <td>22.0</td>\n",
       "      <td>0.0</td>\n",
       "      <td>0.0</td>\n",
       "      <td>0.0</td>\n",
       "      <td>NOTICE</td>\n",
       "      <td>MAIL</td>\n",
       "      <td>N</td>\n",
       "      <td>N</td>\n",
       "      <td>N</td>\n",
       "      <td>N</td>\n",
       "      <td>N</td>\n",
       "      <td>N</td>\n",
       "      <td>N</td>\n",
       "      <td>N</td>\n",
       "      <td>Y</td>\n",
       "      <td>11-50</td>\n",
       "      <td>English</td>\n",
       "      <td>Buy</td>\n",
       "    </tr>\n",
       "    <tr>\n",
       "      <td>2</td>\n",
       "      <td>100836.0</td>\n",
       "      <td>432.857143</td>\n",
       "      <td>970465.714286</td>\n",
       "      <td>1962-11-01</td>\n",
       "      <td>19.0</td>\n",
       "      <td>0.0</td>\n",
       "      <td>0.0</td>\n",
       "      <td>0.0</td>\n",
       "      <td>NOTICE</td>\n",
       "      <td>MAIL</td>\n",
       "      <td>N</td>\n",
       "      <td>N</td>\n",
       "      <td>N</td>\n",
       "      <td>N</td>\n",
       "      <td>N</td>\n",
       "      <td>N</td>\n",
       "      <td>N</td>\n",
       "      <td>N</td>\n",
       "      <td>Y</td>\n",
       "      <td>6-10</td>\n",
       "      <td>English</td>\n",
       "      <td>Buy</td>\n",
       "    </tr>\n",
       "    <tr>\n",
       "      <td>3</td>\n",
       "      <td>116390.0</td>\n",
       "      <td>0.000000</td>\n",
       "      <td>230193.600000</td>\n",
       "      <td>1983-06-01</td>\n",
       "      <td>17.0</td>\n",
       "      <td>0.0</td>\n",
       "      <td>0.0</td>\n",
       "      <td>0.0</td>\n",
       "      <td>NOTICE</td>\n",
       "      <td>PHONE</td>\n",
       "      <td>N</td>\n",
       "      <td>N</td>\n",
       "      <td>N</td>\n",
       "      <td>N</td>\n",
       "      <td>N</td>\n",
       "      <td>N</td>\n",
       "      <td>N</td>\n",
       "      <td>N</td>\n",
       "      <td>Y</td>\n",
       "      <td>1-5</td>\n",
       "      <td>English</td>\n",
       "      <td>Not_Buy</td>\n",
       "    </tr>\n",
       "    <tr>\n",
       "      <td>5</td>\n",
       "      <td>148529.0</td>\n",
       "      <td>308.419048</td>\n",
       "      <td>182584.076190</td>\n",
       "      <td>1979-05-15</td>\n",
       "      <td>16.0</td>\n",
       "      <td>0.0</td>\n",
       "      <td>0.0</td>\n",
       "      <td>0.0</td>\n",
       "      <td>NOTICE</td>\n",
       "      <td>MAIL</td>\n",
       "      <td>N</td>\n",
       "      <td>N</td>\n",
       "      <td>N</td>\n",
       "      <td>N</td>\n",
       "      <td>N</td>\n",
       "      <td>N</td>\n",
       "      <td>N</td>\n",
       "      <td>Y</td>\n",
       "      <td>Y</td>\n",
       "      <td>6-10</td>\n",
       "      <td>English</td>\n",
       "      <td>Buy</td>\n",
       "    </tr>\n",
       "  </tbody>\n",
       "</table>\n",
       "</div>"
      ],
      "text/plain": [
       "   customer_number  campaign_period_sales  historical_sales_volume  \\\n",
       "0          86734.0             238.704762            146803.428571   \n",
       "1          97098.0             281.680000            439984.160000   \n",
       "2         100836.0             432.857143            970465.714286   \n",
       "3         116390.0               0.000000            230193.600000   \n",
       "5         148529.0             308.419048            182584.076190   \n",
       "\n",
       "  date_of_first_purchase  number_of_prior_year_transactions  \\\n",
       "0             1968-10-01                               15.0   \n",
       "1             1981-06-15                               22.0   \n",
       "2             1962-11-01                               19.0   \n",
       "3             1983-06-01                               17.0   \n",
       "5             1979-05-15                               16.0   \n",
       "\n",
       "   do_not_direct_mail_solicit  do_not_email  do_not_telemarket  \\\n",
       "0                         0.0           0.0                0.0   \n",
       "1                         0.0           0.0                0.0   \n",
       "2                         0.0           0.0                0.0   \n",
       "3                         0.0           0.0                0.0   \n",
       "5                         0.0           0.0                0.0   \n",
       "\n",
       "  repurchase_method last_transaction_channel desk executive_chair  \\\n",
       "0        AUTO RENEW               AUTO RENEW    N               N   \n",
       "1            NOTICE                     MAIL    N               N   \n",
       "2            NOTICE                     MAIL    N               N   \n",
       "3            NOTICE                    PHONE    N               N   \n",
       "5            NOTICE                     MAIL    N               N   \n",
       "\n",
       "  standard_chair monitor printer computer insurance toner office_supplies  \\\n",
       "0              N       N       N        N         Y     N               Y   \n",
       "1              N       N       N        N         N     N               Y   \n",
       "2              N       N       N        N         N     N               Y   \n",
       "3              N       N       N        N         N     N               Y   \n",
       "5              N       N       N        N         N     Y               Y   \n",
       "\n",
       "  number_of_employees language made_purchase  \n",
       "0                6-10  English           Buy  \n",
       "1               11-50  English           Buy  \n",
       "2                6-10  English           Buy  \n",
       "3                 1-5  English       Not_Buy  \n",
       "5                6-10  English           Buy  "
      ]
     },
     "execution_count": 88,
     "metadata": {},
     "output_type": "execute_result"
    }
   ],
   "source": [
    "df['made_purchase'] = df['campaign_period_sales'].apply(buy_or_not_buy)\n",
    "df.head()"
   ]
  },
  {
   "cell_type": "code",
   "execution_count": null,
   "metadata": {},
   "outputs": [],
   "source": []
  },
  {
   "cell_type": "code",
   "execution_count": 89,
   "metadata": {},
   "outputs": [
    {
     "data": {
      "text/plain": [
       "Not_Buy    8269\n",
       "Buy        3067\n",
       "Name: made_purchase, dtype: int64"
      ]
     },
     "execution_count": 89,
     "metadata": {},
     "output_type": "execute_result"
    }
   ],
   "source": [
    "df.made_purchase.value_counts()"
   ]
  },
  {
   "cell_type": "code",
   "execution_count": 90,
   "metadata": {},
   "outputs": [
    {
     "data": {
      "image/png": "[encoded data removed]",
      "text/plain": [
       "<Figure size 576x720 with 1 Axes>"
      ]
     },
     "metadata": {},
     "output_type": "display_data"
    }
   ],
   "source": [
    "plt.figure(figsize=(8,10))\n",
    "labels = [\"No_buy\", \"Buy\"]\n",
    "sizes = df.made_purchase.value_counts()\n",
    "# colors = ['gold', 'yellowgreen', 'lightcoral', 'lightskyblue']\n",
    "colors=[\"gold\", \"lightskyblue\"]\n",
    "explode = (0.1, 0)  # explode 1st slice\n",
    "\n",
    "# Plot\n",
    "plt.pie(sizes, explode=explode, labels=labels, colors=colors,\n",
    "autopct='%1.1f%%', shadow=True, startangle=140)\n",
    "plt.title(\"% of Customers who made sale vs who didn't made slae during campaign Period\")\n",
    "\n",
    "plt.axis('equal')\n",
    "# Save Figure\n",
    "plt.savefig(\"resources//Fig1.png\")\n",
    "plt.show()"
   ]
  },
  {
   "cell_type": "code",
   "execution_count": 91,
   "metadata": {},
   "outputs": [
    {
     "data": {
      "image/png": "[encoded data removed]",
      "text/plain": [
       "<Figure size 576x720 with 1 Axes>"
      ]
     },
     "metadata": {},
     "output_type": "display_data"
    }
   ],
   "source": [
    "plt.figure(figsize=(8,10))\n",
    "labels = [\"English\", \"Spanish\", \"Italian\", \"Portuguese\", \"Hindi\", \"Chinese\", \"Russian\", \"Hebrew\", \"Arabic\", \"German\", \n",
    "                \"Greek\", \"Japanese\", \"Polish\", \"Vietnamese\", \"French\", \"Korean\", \"Thai\", \"Pashto\"]\n",
    "sizes = df.language.value_counts()\n",
    "# colors = ['gold', 'yellowgreen', 'lightcoral', 'lightskyblue']\n",
    "colors=[\"blue\", \"lightskyblue\", \"green\", \"red\", \"blue\", \"red\", \"gold\", \"lightskyblue\",\n",
    "                \"lightcoral\", \"gold\", \"lightskyblue\", \"lightcoral\", \"green\", \"blue\", \"red\", \"gold\", \n",
    "                \"green\", \"lightskyblue\"]\n",
    "explode = (0.1, 0, 0, 0.1, 0, 0, 0.1, 0, 0, 0.1, 0, 0, 0.1, 0, 0, 0.1, 0, 0)  # explode 1st slice\n",
    "\n",
    "# Plot\n",
    "plt.pie(sizes, explode=explode, labels=labels, colors=colors,\n",
    "autopct='%1.1f%%', shadow=True, startangle=140)\n",
    "\n",
    "plt.title(\"% of Languages of communication during campaign Period\")\n",
    "\n",
    "plt.axis('equal')\n",
    "# Save Figure\n",
    "plt.savefig(\"resources/Fig2.png\")\n",
    "plt.show()"
   ]
  },
  {
   "cell_type": "code",
   "execution_count": null,
   "metadata": {},
   "outputs": [],
   "source": []
  },
  {
   "cell_type": "markdown",
   "metadata": {},
   "source": [
    "## Visualize some variable contribution to the Sale"
   ]
  },
  {
   "cell_type": "code",
   "execution_count": 92,
   "metadata": {},
   "outputs": [
    {
     "data": {
      "image/png": "[encoded data removed]",
      "text/plain": [
       "<Figure size 1440x576 with 1 Axes>"
      ]
     },
     "metadata": {},
     "output_type": "display_data"
    }
   ],
   "source": [
    "# Calculate Type Percents\n",
    "\n",
    "type_percents = 100 * df.groupby([\"repurchase_method\"]).sum()[\"campaign_period_sales\"] / df[\"campaign_period_sales\"].sum()\n",
    "\n",
    "plt.figure(figsize=(20,8))\n",
    "# Build Pie Chart\n",
    "plt.pie(type_percents, \n",
    "        labels=[\"NOTICE\", \"AUTO RENEW\"], \n",
    "        colors=[\"gold\", \"lightskyblue\"], \n",
    "        explode=[0, 0.1], \n",
    "        autopct='%1.1f%%', \n",
    "        shadow=True, startangle=150)\n",
    "plt.title(\"% of Campaign Period Sales by Repurchase Method\")\n",
    "\n",
    "# Save Figure\n",
    "plt.savefig(\"resources/Fig3.png\")\n",
    "\n",
    "# Show Figure\n",
    "plt.show()"
   ]
  },
  {
   "cell_type": "code",
   "execution_count": null,
   "metadata": {},
   "outputs": [],
   "source": []
  },
  {
   "cell_type": "markdown",
   "metadata": {},
   "source": [
    "* It seems that most of the customers made Auto Renewal during their purchase."
   ]
  },
  {
   "cell_type": "code",
   "execution_count": 93,
   "metadata": {},
   "outputs": [],
   "source": [
    "paid = df.loc[df['campaign_period_sales']>0]"
   ]
  },
  {
   "cell_type": "code",
   "execution_count": 94,
   "metadata": {},
   "outputs": [
    {
     "data": {
      "text/plain": [
       "English       10964\n",
       "Spanish          87\n",
       "Italian          44\n",
       "Portuguese       40\n",
       "Hindi            39\n",
       "Chinese          30\n",
       "Russian          24\n",
       "Hebrew           20\n",
       "Arabic           16\n",
       "German           15\n",
       "Greek            14\n",
       "Japanese         11\n",
       "Polish           10\n",
       "Vietnamese        9\n",
       "French            6\n",
       "Korean            4\n",
       "Thai              2\n",
       "Pashto            1\n",
       "Name: language, dtype: int64"
      ]
     },
     "execution_count": 94,
     "metadata": {},
     "output_type": "execute_result"
    }
   ],
   "source": [
    "df.language.value_counts()"
   ]
  },
  {
   "cell_type": "code",
   "execution_count": 95,
   "metadata": {},
   "outputs": [
    {
     "data": {
      "text/plain": [
       "English       2980\n",
       "Spanish         19\n",
       "Portuguese      10\n",
       "Italian          9\n",
       "Greek            6\n",
       "Hebrew           6\n",
       "Chinese          6\n",
       "Russian          5\n",
       "Hindi            5\n",
       "Arabic           5\n",
       "German           4\n",
       "Japanese         4\n",
       "Polish           2\n",
       "Vietnamese       2\n",
       "French           2\n",
       "Thai             1\n",
       "Pashto           1\n",
       "Name: language, dtype: int64"
      ]
     },
     "execution_count": 95,
     "metadata": {},
     "output_type": "execute_result"
    }
   ],
   "source": [
    "paid.language.value_counts()"
   ]
  },
  {
   "cell_type": "markdown",
   "metadata": {},
   "source": [
    "* **It seem that Korean language had not contribute for the sale during the campaign.**\n"
   ]
  },
  {
   "cell_type": "code",
   "execution_count": 96,
   "metadata": {},
   "outputs": [
    {
     "data": {
      "image/png": "[encoded data removed]",
      "text/plain": [
       "<Figure size 1080x576 with 1 Axes>"
      ]
     },
     "metadata": {},
     "output_type": "display_data"
    }
   ],
   "source": [
    "# Calculate share Percents\n",
    "\n",
    "lang_percents = 100 * paid.groupby([\"language\"]).sum()[\"campaign_period_sales\"] / paid[\"campaign_period_sales\"].sum()\n",
    "\n",
    "plt.figure(figsize=(15,8))\n",
    "# Build Pie Chart\n",
    "plt.pie(lang_percents, \n",
    "        labels=lang_percents.index,\n",
    "#         labels=[\"English\", \"Spanish\", \"Portuguese\", \"Italian\", \"Greek\", \"Chinese\", \"Hebrew\", \"Arabic\", \"Russian\", \"Hindi\",  \"Japanese\", \"German\", \"Polish\", \"Vietnamese\", \"French\", \"Thai\", \"Pashto\"], \n",
    "        colors=[\"green\", \"lightskyblue\", \"green\", \"red\", \"blue\", \"red\", \"green\", \"lightskyblue\", \"green\", \"red\", \"blue\", \"red\", \"gold\", \"lightskyblue\",\"lightcoral\", \"gold\", \"green\"], \n",
    "        explode=[0, 0, 0.1, 0, 0, 0.1, 0, 0, 0.1, 0, 0, 0.1, 0, 0, 0.1, 0, 0], \n",
    "        autopct='%1.1f%%', \n",
    "        shadow=True, startangle=150)\n",
    "plt.title(\"% of Campaign period Sales by language spoken during tele-Campaign\")\n",
    "\n",
    "# Save Figure\n",
    "plt.savefig(\"resources/Fig4.png\")\n",
    "\n",
    "# Show Figure\n",
    "plt.show()\n"
   ]
  },
  {
   "cell_type": "markdown",
   "metadata": {},
   "source": [
    "### English language has contribute to about 97% of the sale during the campaign."
   ]
  },
  {
   "cell_type": "markdown",
   "metadata": {},
   "source": [
    "----------"
   ]
  },
  {
   "cell_type": "markdown",
   "metadata": {},
   "source": [
    "## Visualizing Coorelations\n"
   ]
  },
  {
   "cell_type": "markdown",
   "metadata": {},
   "source": [
    "### Using Heat Map "
   ]
  },
  {
   "cell_type": "code",
   "execution_count": null,
   "metadata": {},
   "outputs": [],
   "source": []
  },
  {
   "cell_type": "code",
   "execution_count": 97,
   "metadata": {},
   "outputs": [
    {
     "data": {
      "text/plain": [
       "<matplotlib.axes._subplots.AxesSubplot at 0x1a28a4ecd0>"
      ]
     },
     "execution_count": 97,
     "metadata": {},
     "output_type": "execute_result"
    },
    {
     "data": {
      "image/png": "[encoded data removed]",
      "text/plain": [
       "<Figure size 432x288 with 2 Axes>"
      ]
     },
     "metadata": {
      "needs_background": "light"
     },
     "output_type": "display_data"
    }
   ],
   "source": [
    "# using nummerical varaiables with whole data\n",
    "\n",
    "sns.heatmap(df.corr(), annot=True)"
   ]
  },
  {
   "cell_type": "code",
   "execution_count": 98,
   "metadata": {},
   "outputs": [
    {
     "data": {
      "text/plain": [
       "<matplotlib.axes._subplots.AxesSubplot at 0x1a29669110>"
      ]
     },
     "execution_count": 98,
     "metadata": {},
     "output_type": "execute_result"
    },
    {
     "data": {
      "image/png": "[encoded data removed]",
      "text/plain": [
       "<Figure size 432x288 with 2 Axes>"
      ]
     },
     "metadata": {
      "needs_background": "light"
     },
     "output_type": "display_data"
    }
   ],
   "source": [
    "# using nummerical varaiables with the data on thses who made purchase\n",
    "sns.heatmap(paid.corr(), annot=True)"
   ]
  },
  {
   "cell_type": "markdown",
   "metadata": {},
   "source": [
    "* **It seems that `campaign period sales` is highly correlated with `Historical sales volume` ~ `71%`**"
   ]
  },
  {
   "cell_type": "code",
   "execution_count": 99,
   "metadata": {},
   "outputs": [],
   "source": [
    "# explore more features\n",
    "feature_cols = ['historical_sales_volume',\n",
    "        'number_of_prior_year_transactions',\n",
    "       'do_not_direct_mail_solicit', 'do_not_email', 'do_not_telemarket']"
   ]
  },
  {
   "cell_type": "code",
   "execution_count": 100,
   "metadata": {},
   "outputs": [
    {
     "data": {
      "text/plain": [
       "<seaborn.axisgrid.PairGrid at 0x1a2afdd450>"
      ]
     },
     "execution_count": 100,
     "metadata": {},
     "output_type": "execute_result"
    },
    {
     "data": {
      "image/png": "[encoded data removed]",
      "text/plain": [
       "<Figure size 900x180 with 5 Axes>"
      ]
     },
     "metadata": {
      "needs_background": "light"
     },
     "output_type": "display_data"
    }
   ],
   "source": [
    "# multiple scatter plots in Seaborn\n",
    "sns.pairplot(paid, x_vars=feature_cols, y_vars='campaign_period_sales', kind='reg')"
   ]
  },
  {
   "cell_type": "markdown",
   "metadata": {},
   "source": [
    "* **Linear regression plot still confirming that there is a high correlation between the `campaign period sales` and `hostorical sale volume`.**"
   ]
  },
  {
   "cell_type": "code",
   "execution_count": 101,
   "metadata": {},
   "outputs": [
    {
     "data": {
      "text/plain": [
       "Index(['customer_number', 'campaign_period_sales', 'historical_sales_volume',\n",
       "       'date_of_first_purchase', 'number_of_prior_year_transactions',\n",
       "       'do_not_direct_mail_solicit', 'do_not_email', 'do_not_telemarket',\n",
       "       'repurchase_method', 'last_transaction_channel', 'desk',\n",
       "       'executive_chair', 'standard_chair', 'monitor', 'printer', 'computer',\n",
       "       'insurance', 'toner', 'office_supplies', 'number_of_employees',\n",
       "       'language', 'made_purchase'],\n",
       "      dtype='object')"
      ]
     },
     "execution_count": 101,
     "metadata": {},
     "output_type": "execute_result"
    }
   ],
   "source": [
    "df.columns"
   ]
  },
  {
   "cell_type": "code",
   "execution_count": 102,
   "metadata": {},
   "outputs": [
    {
     "data": {
      "text/html": [
       "<div>\n",
       "<style scoped>\n",
       "    .dataframe tbody tr th:only-of-type {\n",
       "        vertical-align: middle;\n",
       "    }\n",
       "\n",
       "    .dataframe tbody tr th {\n",
       "        vertical-align: top;\n",
       "    }\n",
       "\n",
       "    .dataframe thead th {\n",
       "        text-align: right;\n",
       "    }\n",
       "</style>\n",
       "<table border=\"1\" class=\"dataframe\">\n",
       "  <thead>\n",
       "    <tr style=\"text-align: right;\">\n",
       "      <th></th>\n",
       "      <th>desk</th>\n",
       "      <th>executive_chair</th>\n",
       "      <th>standard_chair</th>\n",
       "      <th>monitor</th>\n",
       "      <th>printer</th>\n",
       "      <th>computer</th>\n",
       "      <th>insurance</th>\n",
       "      <th>toner</th>\n",
       "      <th>office_supplies</th>\n",
       "    </tr>\n",
       "  </thead>\n",
       "  <tbody>\n",
       "    <tr>\n",
       "      <td>0</td>\n",
       "      <td>N</td>\n",
       "      <td>N</td>\n",
       "      <td>N</td>\n",
       "      <td>N</td>\n",
       "      <td>N</td>\n",
       "      <td>N</td>\n",
       "      <td>Y</td>\n",
       "      <td>N</td>\n",
       "      <td>Y</td>\n",
       "    </tr>\n",
       "    <tr>\n",
       "      <td>1</td>\n",
       "      <td>N</td>\n",
       "      <td>N</td>\n",
       "      <td>N</td>\n",
       "      <td>N</td>\n",
       "      <td>N</td>\n",
       "      <td>N</td>\n",
       "      <td>N</td>\n",
       "      <td>N</td>\n",
       "      <td>Y</td>\n",
       "    </tr>\n",
       "    <tr>\n",
       "      <td>2</td>\n",
       "      <td>N</td>\n",
       "      <td>N</td>\n",
       "      <td>N</td>\n",
       "      <td>N</td>\n",
       "      <td>N</td>\n",
       "      <td>N</td>\n",
       "      <td>N</td>\n",
       "      <td>N</td>\n",
       "      <td>Y</td>\n",
       "    </tr>\n",
       "    <tr>\n",
       "      <td>3</td>\n",
       "      <td>N</td>\n",
       "      <td>N</td>\n",
       "      <td>N</td>\n",
       "      <td>N</td>\n",
       "      <td>N</td>\n",
       "      <td>N</td>\n",
       "      <td>N</td>\n",
       "      <td>N</td>\n",
       "      <td>Y</td>\n",
       "    </tr>\n",
       "    <tr>\n",
       "      <td>5</td>\n",
       "      <td>N</td>\n",
       "      <td>N</td>\n",
       "      <td>N</td>\n",
       "      <td>N</td>\n",
       "      <td>N</td>\n",
       "      <td>N</td>\n",
       "      <td>N</td>\n",
       "      <td>Y</td>\n",
       "      <td>Y</td>\n",
       "    </tr>\n",
       "  </tbody>\n",
       "</table>\n",
       "</div>"
      ],
      "text/plain": [
       "  desk executive_chair standard_chair monitor printer computer insurance  \\\n",
       "0    N               N              N       N       N        N         Y   \n",
       "1    N               N              N       N       N        N         N   \n",
       "2    N               N              N       N       N        N         N   \n",
       "3    N               N              N       N       N        N         N   \n",
       "5    N               N              N       N       N        N         N   \n",
       "\n",
       "  toner office_supplies  \n",
       "0     N               Y  \n",
       "1     N               Y  \n",
       "2     N               Y  \n",
       "3     N               Y  \n",
       "5     Y               Y  "
      ]
     },
     "execution_count": 102,
     "metadata": {},
     "output_type": "execute_result"
    }
   ],
   "source": [
    "products = ['desk','executive_chair', 'standard_chair', 'monitor', 'printer', 'computer', 'insurance', 'toner', 'office_supplies']\n",
    "prods = df.loc[:, products]\n",
    "prods.head()"
   ]
  },
  {
   "cell_type": "code",
   "execution_count": 103,
   "metadata": {},
   "outputs": [],
   "source": [
    "def yner(x):\n",
    "    if x == 'N':\n",
    "        return 0\n",
    "    else:\n",
    "        return 1"
   ]
  },
  {
   "cell_type": "code",
   "execution_count": 104,
   "metadata": {},
   "outputs": [
    {
     "data": {
      "text/html": [
       "<div>\n",
       "<style scoped>\n",
       "    .dataframe tbody tr th:only-of-type {\n",
       "        vertical-align: middle;\n",
       "    }\n",
       "\n",
       "    .dataframe tbody tr th {\n",
       "        vertical-align: top;\n",
       "    }\n",
       "\n",
       "    .dataframe thead th {\n",
       "        text-align: right;\n",
       "    }\n",
       "</style>\n",
       "<table border=\"1\" class=\"dataframe\">\n",
       "  <thead>\n",
       "    <tr style=\"text-align: right;\">\n",
       "      <th></th>\n",
       "      <th>desk</th>\n",
       "      <th>executive_chair</th>\n",
       "      <th>standard_chair</th>\n",
       "      <th>monitor</th>\n",
       "      <th>printer</th>\n",
       "      <th>computer</th>\n",
       "      <th>insurance</th>\n",
       "      <th>toner</th>\n",
       "      <th>office_supplies</th>\n",
       "    </tr>\n",
       "  </thead>\n",
       "  <tbody>\n",
       "    <tr>\n",
       "      <td>0</td>\n",
       "      <td>0</td>\n",
       "      <td>0</td>\n",
       "      <td>0</td>\n",
       "      <td>0</td>\n",
       "      <td>0</td>\n",
       "      <td>0</td>\n",
       "      <td>1</td>\n",
       "      <td>0</td>\n",
       "      <td>1</td>\n",
       "    </tr>\n",
       "    <tr>\n",
       "      <td>1</td>\n",
       "      <td>0</td>\n",
       "      <td>0</td>\n",
       "      <td>0</td>\n",
       "      <td>0</td>\n",
       "      <td>0</td>\n",
       "      <td>0</td>\n",
       "      <td>0</td>\n",
       "      <td>0</td>\n",
       "      <td>1</td>\n",
       "    </tr>\n",
       "    <tr>\n",
       "      <td>2</td>\n",
       "      <td>0</td>\n",
       "      <td>0</td>\n",
       "      <td>0</td>\n",
       "      <td>0</td>\n",
       "      <td>0</td>\n",
       "      <td>0</td>\n",
       "      <td>0</td>\n",
       "      <td>0</td>\n",
       "      <td>1</td>\n",
       "    </tr>\n",
       "    <tr>\n",
       "      <td>3</td>\n",
       "      <td>0</td>\n",
       "      <td>0</td>\n",
       "      <td>0</td>\n",
       "      <td>0</td>\n",
       "      <td>0</td>\n",
       "      <td>0</td>\n",
       "      <td>0</td>\n",
       "      <td>0</td>\n",
       "      <td>1</td>\n",
       "    </tr>\n",
       "    <tr>\n",
       "      <td>5</td>\n",
       "      <td>0</td>\n",
       "      <td>0</td>\n",
       "      <td>0</td>\n",
       "      <td>0</td>\n",
       "      <td>0</td>\n",
       "      <td>0</td>\n",
       "      <td>0</td>\n",
       "      <td>1</td>\n",
       "      <td>1</td>\n",
       "    </tr>\n",
       "  </tbody>\n",
       "</table>\n",
       "</div>"
      ],
      "text/plain": [
       "   desk  executive_chair  standard_chair  monitor  printer  computer  \\\n",
       "0     0                0               0        0        0         0   \n",
       "1     0                0               0        0        0         0   \n",
       "2     0                0               0        0        0         0   \n",
       "3     0                0               0        0        0         0   \n",
       "5     0                0               0        0        0         0   \n",
       "\n",
       "   insurance  toner  office_supplies  \n",
       "0          1      0                1  \n",
       "1          0      0                1  \n",
       "2          0      0                1  \n",
       "3          0      0                1  \n",
       "5          0      1                1  "
      ]
     },
     "execution_count": 104,
     "metadata": {},
     "output_type": "execute_result"
    }
   ],
   "source": [
    "for product in products:\n",
    "    prods[product] = prods[product].apply(yner)\n",
    "prods.head()"
   ]
  },
  {
   "cell_type": "code",
   "execution_count": 105,
   "metadata": {},
   "outputs": [
    {
     "data": {
      "text/plain": [
       "customer_number                      0\n",
       "campaign_period_sales                0\n",
       "historical_sales_volume              0\n",
       "date_of_first_purchase               0\n",
       "number_of_prior_year_transactions    0\n",
       "do_not_direct_mail_solicit           0\n",
       "do_not_email                         0\n",
       "do_not_telemarket                    0\n",
       "repurchase_method                    0\n",
       "last_transaction_channel             0\n",
       "desk                                 0\n",
       "executive_chair                      0\n",
       "standard_chair                       0\n",
       "monitor                              0\n",
       "printer                              0\n",
       "computer                             0\n",
       "insurance                            0\n",
       "toner                                0\n",
       "office_supplies                      0\n",
       "number_of_employees                  0\n",
       "language                             0\n",
       "made_purchase                        0\n",
       "dtype: int64"
      ]
     },
     "execution_count": 105,
     "metadata": {},
     "output_type": "execute_result"
    }
   ],
   "source": [
    "df.isnull().sum()"
   ]
  },
  {
   "cell_type": "code",
   "execution_count": 106,
   "metadata": {},
   "outputs": [
    {
     "data": {
      "text/html": [
       "<div>\n",
       "<style scoped>\n",
       "    .dataframe tbody tr th:only-of-type {\n",
       "        vertical-align: middle;\n",
       "    }\n",
       "\n",
       "    .dataframe tbody tr th {\n",
       "        vertical-align: top;\n",
       "    }\n",
       "\n",
       "    .dataframe thead th {\n",
       "        text-align: right;\n",
       "    }\n",
       "</style>\n",
       "<table border=\"1\" class=\"dataframe\">\n",
       "  <thead>\n",
       "    <tr style=\"text-align: right;\">\n",
       "      <th></th>\n",
       "      <th>language</th>\n",
       "      <th>last_transaction_channel</th>\n",
       "    </tr>\n",
       "  </thead>\n",
       "  <tbody>\n",
       "    <tr>\n",
       "      <td>0</td>\n",
       "      <td>English</td>\n",
       "      <td>AUTO RENEW</td>\n",
       "    </tr>\n",
       "    <tr>\n",
       "      <td>1</td>\n",
       "      <td>English</td>\n",
       "      <td>MAIL</td>\n",
       "    </tr>\n",
       "    <tr>\n",
       "      <td>2</td>\n",
       "      <td>English</td>\n",
       "      <td>MAIL</td>\n",
       "    </tr>\n",
       "    <tr>\n",
       "      <td>3</td>\n",
       "      <td>English</td>\n",
       "      <td>PHONE</td>\n",
       "    </tr>\n",
       "    <tr>\n",
       "      <td>5</td>\n",
       "      <td>English</td>\n",
       "      <td>MAIL</td>\n",
       "    </tr>\n",
       "  </tbody>\n",
       "</table>\n",
       "</div>"
      ],
      "text/plain": [
       "  language last_transaction_channel\n",
       "0  English               AUTO RENEW\n",
       "1  English                     MAIL\n",
       "2  English                     MAIL\n",
       "3  English                    PHONE\n",
       "5  English                     MAIL"
      ]
     },
     "execution_count": 106,
     "metadata": {},
     "output_type": "execute_result"
    }
   ],
   "source": [
    "df[['language', 'last_transaction_channel']].fillna('unknown').head()"
   ]
  },
  {
   "cell_type": "code",
   "execution_count": 107,
   "metadata": {},
   "outputs": [],
   "source": [
    "from sklearn.preprocessing import PowerTransformer\n",
    "\n",
    "pt = PowerTransformer() # transform or normalize the numberical features"
   ]
  },
  {
   "cell_type": "code",
   "execution_count": 108,
   "metadata": {},
   "outputs": [
    {
     "data": {
      "text/plain": [
       "array([-0.66818297, -0.12679912,  0.71131326, ..., -0.83174136,\n",
       "       -0.43581185,  0.30142364])"
      ]
     },
     "execution_count": 108,
     "metadata": {},
     "output_type": "execute_result"
    }
   ],
   "source": [
    "tf= pt.fit_transform(df[['campaign_period_sales', 'historical_sales_volume']])\n",
    "tf[:,1]\n"
   ]
  },
  {
   "cell_type": "code",
   "execution_count": 109,
   "metadata": {},
   "outputs": [],
   "source": [
    "df['date_of_first_purchase'] = pd.to_datetime(df['date_of_first_purchase'])\n",
    "df['year_of_fp']= df['date_of_first_purchase'].dt.year"
   ]
  },
  {
   "cell_type": "code",
   "execution_count": 110,
   "metadata": {},
   "outputs": [],
   "source": [
    "df['made_purchase'] = df['campaign_period_sales'].apply(buy_or_not_buy)"
   ]
  },
  {
   "cell_type": "code",
   "execution_count": 111,
   "metadata": {},
   "outputs": [
    {
     "name": "stderr",
     "output_type": "stream",
     "text": [
      "/opt/anaconda3/lib/python3.7/site-packages/pandas/core/series.py:853: RuntimeWarning: invalid value encountered in log\n",
      "  result = getattr(ufunc, method)(*inputs, **kwargs)\n"
     ]
    },
    {
     "data": {
      "image/png": "[encoded data removed]",
      "text/plain": [
       "<Figure size 432x288 with 1 Axes>"
      ]
     },
     "metadata": {
      "needs_background": "light"
     },
     "output_type": "display_data"
    }
   ],
   "source": [
    "# Normalize the historical_sale_volume\n",
    "df['historical_sales_volume'].hist()\n",
    "# plt.hist(np.log(df['historical_sales_volume']))\n",
    "df['history_log'] = np.log(df['historical_sales_volume'])"
   ]
  },
  {
   "cell_type": "code",
   "execution_count": 113,
   "metadata": {},
   "outputs": [],
   "source": [
    "def convert_fill_numemploy(val):\n",
    "    if val == \"1-5\": return 3\n",
    "    if val == \"6-20\": return 8\n",
    "    if val == \"11-50\": return 30\n",
    "    if val == \"51-100\": return 75\n",
    "    if val == \"1001-500\": return 300\n",
    "    if val == \"500+\": return 500\n",
    "    else: return np.nan"
   ]
  },
  {
   "cell_type": "code",
   "execution_count": 114,
   "metadata": {},
   "outputs": [],
   "source": [
    "df['num_employee_converted'] = df['number_of_employees'].apply(convert_fill_numemploy)"
   ]
  },
  {
   "cell_type": "code",
   "execution_count": 115,
   "metadata": {},
   "outputs": [],
   "source": [
    "def english_or_not(x):\n",
    "    if x =='English':\n",
    "        return 1\n",
    "    else:\n",
    "        return 0"
   ]
  },
  {
   "cell_type": "code",
   "execution_count": 116,
   "metadata": {},
   "outputs": [],
   "source": [
    "df['language'] = df['language'].apply(english_or_not)\n",
    "df['number_of_employees'] = df['number_of_employees'].apply(convert_fill_numemploy)"
   ]
  },
  {
   "cell_type": "code",
   "execution_count": 117,
   "metadata": {},
   "outputs": [],
   "source": [
    "def buy_or_not_buy(x):\n",
    "    if x > 0:\n",
    "        return 1\n",
    "    else:\n",
    "        return 0"
   ]
  },
  {
   "cell_type": "code",
   "execution_count": 118,
   "metadata": {},
   "outputs": [
    {
     "data": {
      "text/html": [
       "<div>\n",
       "<style scoped>\n",
       "    .dataframe tbody tr th:only-of-type {\n",
       "        vertical-align: middle;\n",
       "    }\n",
       "\n",
       "    .dataframe tbody tr th {\n",
       "        vertical-align: top;\n",
       "    }\n",
       "\n",
       "    .dataframe thead th {\n",
       "        text-align: right;\n",
       "    }\n",
       "</style>\n",
       "<table border=\"1\" class=\"dataframe\">\n",
       "  <thead>\n",
       "    <tr style=\"text-align: right;\">\n",
       "      <th></th>\n",
       "      <th>customer_number</th>\n",
       "      <th>campaign_period_sales</th>\n",
       "      <th>historical_sales_volume</th>\n",
       "      <th>date_of_first_purchase</th>\n",
       "      <th>number_of_prior_year_transactions</th>\n",
       "      <th>do_not_direct_mail_solicit</th>\n",
       "      <th>do_not_email</th>\n",
       "      <th>do_not_telemarket</th>\n",
       "      <th>repurchase_method</th>\n",
       "      <th>last_transaction_channel</th>\n",
       "      <th>desk</th>\n",
       "      <th>executive_chair</th>\n",
       "      <th>standard_chair</th>\n",
       "      <th>monitor</th>\n",
       "      <th>printer</th>\n",
       "      <th>computer</th>\n",
       "      <th>insurance</th>\n",
       "      <th>toner</th>\n",
       "      <th>office_supplies</th>\n",
       "      <th>number_of_employees</th>\n",
       "      <th>language</th>\n",
       "      <th>made_purchase</th>\n",
       "      <th>year_of_fp</th>\n",
       "      <th>history_log</th>\n",
       "      <th>num_employee_converted</th>\n",
       "    </tr>\n",
       "  </thead>\n",
       "  <tbody>\n",
       "    <tr>\n",
       "      <td>0</td>\n",
       "      <td>86734.0</td>\n",
       "      <td>238.704762</td>\n",
       "      <td>146803.428571</td>\n",
       "      <td>1968-10-01</td>\n",
       "      <td>15.0</td>\n",
       "      <td>0.0</td>\n",
       "      <td>0.0</td>\n",
       "      <td>0.0</td>\n",
       "      <td>AUTO RENEW</td>\n",
       "      <td>AUTO RENEW</td>\n",
       "      <td>N</td>\n",
       "      <td>N</td>\n",
       "      <td>N</td>\n",
       "      <td>N</td>\n",
       "      <td>N</td>\n",
       "      <td>N</td>\n",
       "      <td>Y</td>\n",
       "      <td>N</td>\n",
       "      <td>Y</td>\n",
       "      <td>NaN</td>\n",
       "      <td>1</td>\n",
       "      <td>1</td>\n",
       "      <td>1968</td>\n",
       "      <td>11.896850</td>\n",
       "      <td>NaN</td>\n",
       "    </tr>\n",
       "    <tr>\n",
       "      <td>1</td>\n",
       "      <td>97098.0</td>\n",
       "      <td>281.680000</td>\n",
       "      <td>439984.160000</td>\n",
       "      <td>1981-06-15</td>\n",
       "      <td>22.0</td>\n",
       "      <td>0.0</td>\n",
       "      <td>0.0</td>\n",
       "      <td>0.0</td>\n",
       "      <td>NOTICE</td>\n",
       "      <td>MAIL</td>\n",
       "      <td>N</td>\n",
       "      <td>N</td>\n",
       "      <td>N</td>\n",
       "      <td>N</td>\n",
       "      <td>N</td>\n",
       "      <td>N</td>\n",
       "      <td>N</td>\n",
       "      <td>N</td>\n",
       "      <td>Y</td>\n",
       "      <td>30.0</td>\n",
       "      <td>1</td>\n",
       "      <td>1</td>\n",
       "      <td>1981</td>\n",
       "      <td>12.994494</td>\n",
       "      <td>30.0</td>\n",
       "    </tr>\n",
       "    <tr>\n",
       "      <td>2</td>\n",
       "      <td>100836.0</td>\n",
       "      <td>432.857143</td>\n",
       "      <td>970465.714286</td>\n",
       "      <td>1962-11-01</td>\n",
       "      <td>19.0</td>\n",
       "      <td>0.0</td>\n",
       "      <td>0.0</td>\n",
       "      <td>0.0</td>\n",
       "      <td>NOTICE</td>\n",
       "      <td>MAIL</td>\n",
       "      <td>N</td>\n",
       "      <td>N</td>\n",
       "      <td>N</td>\n",
       "      <td>N</td>\n",
       "      <td>N</td>\n",
       "      <td>N</td>\n",
       "      <td>N</td>\n",
       "      <td>N</td>\n",
       "      <td>Y</td>\n",
       "      <td>NaN</td>\n",
       "      <td>1</td>\n",
       "      <td>1</td>\n",
       "      <td>1962</td>\n",
       "      <td>13.785531</td>\n",
       "      <td>NaN</td>\n",
       "    </tr>\n",
       "    <tr>\n",
       "      <td>3</td>\n",
       "      <td>116390.0</td>\n",
       "      <td>0.000000</td>\n",
       "      <td>230193.600000</td>\n",
       "      <td>1983-06-01</td>\n",
       "      <td>17.0</td>\n",
       "      <td>0.0</td>\n",
       "      <td>0.0</td>\n",
       "      <td>0.0</td>\n",
       "      <td>NOTICE</td>\n",
       "      <td>PHONE</td>\n",
       "      <td>N</td>\n",
       "      <td>N</td>\n",
       "      <td>N</td>\n",
       "      <td>N</td>\n",
       "      <td>N</td>\n",
       "      <td>N</td>\n",
       "      <td>N</td>\n",
       "      <td>N</td>\n",
       "      <td>Y</td>\n",
       "      <td>3.0</td>\n",
       "      <td>1</td>\n",
       "      <td>0</td>\n",
       "      <td>1983</td>\n",
       "      <td>12.346676</td>\n",
       "      <td>3.0</td>\n",
       "    </tr>\n",
       "    <tr>\n",
       "      <td>5</td>\n",
       "      <td>148529.0</td>\n",
       "      <td>308.419048</td>\n",
       "      <td>182584.076190</td>\n",
       "      <td>1979-05-15</td>\n",
       "      <td>16.0</td>\n",
       "      <td>0.0</td>\n",
       "      <td>0.0</td>\n",
       "      <td>0.0</td>\n",
       "      <td>NOTICE</td>\n",
       "      <td>MAIL</td>\n",
       "      <td>N</td>\n",
       "      <td>N</td>\n",
       "      <td>N</td>\n",
       "      <td>N</td>\n",
       "      <td>N</td>\n",
       "      <td>N</td>\n",
       "      <td>N</td>\n",
       "      <td>Y</td>\n",
       "      <td>Y</td>\n",
       "      <td>NaN</td>\n",
       "      <td>1</td>\n",
       "      <td>1</td>\n",
       "      <td>1979</td>\n",
       "      <td>12.114966</td>\n",
       "      <td>NaN</td>\n",
       "    </tr>\n",
       "  </tbody>\n",
       "</table>\n",
       "</div>"
      ],
      "text/plain": [
       "   customer_number  campaign_period_sales  historical_sales_volume  \\\n",
       "0          86734.0             238.704762            146803.428571   \n",
       "1          97098.0             281.680000            439984.160000   \n",
       "2         100836.0             432.857143            970465.714286   \n",
       "3         116390.0               0.000000            230193.600000   \n",
       "5         148529.0             308.419048            182584.076190   \n",
       "\n",
       "  date_of_first_purchase  number_of_prior_year_transactions  \\\n",
       "0             1968-10-01                               15.0   \n",
       "1             1981-06-15                               22.0   \n",
       "2             1962-11-01                               19.0   \n",
       "3             1983-06-01                               17.0   \n",
       "5             1979-05-15                               16.0   \n",
       "\n",
       "   do_not_direct_mail_solicit  do_not_email  do_not_telemarket  \\\n",
       "0                         0.0           0.0                0.0   \n",
       "1                         0.0           0.0                0.0   \n",
       "2                         0.0           0.0                0.0   \n",
       "3                         0.0           0.0                0.0   \n",
       "5                         0.0           0.0                0.0   \n",
       "\n",
       "  repurchase_method last_transaction_channel desk executive_chair  \\\n",
       "0        AUTO RENEW               AUTO RENEW    N               N   \n",
       "1            NOTICE                     MAIL    N               N   \n",
       "2            NOTICE                     MAIL    N               N   \n",
       "3            NOTICE                    PHONE    N               N   \n",
       "5            NOTICE                     MAIL    N               N   \n",
       "\n",
       "  standard_chair monitor printer computer insurance toner office_supplies  \\\n",
       "0              N       N       N        N         Y     N               Y   \n",
       "1              N       N       N        N         N     N               Y   \n",
       "2              N       N       N        N         N     N               Y   \n",
       "3              N       N       N        N         N     N               Y   \n",
       "5              N       N       N        N         N     Y               Y   \n",
       "\n",
       "   number_of_employees  language  made_purchase  year_of_fp  history_log  \\\n",
       "0                  NaN         1              1        1968    11.896850   \n",
       "1                 30.0         1              1        1981    12.994494   \n",
       "2                  NaN         1              1        1962    13.785531   \n",
       "3                  3.0         1              0        1983    12.346676   \n",
       "5                  NaN         1              1        1979    12.114966   \n",
       "\n",
       "   num_employee_converted  \n",
       "0                     NaN  \n",
       "1                    30.0  \n",
       "2                     NaN  \n",
       "3                     3.0  \n",
       "5                     NaN  "
      ]
     },
     "execution_count": 118,
     "metadata": {},
     "output_type": "execute_result"
    }
   ],
   "source": [
    "df['made_purchase'] = df['campaign_period_sales'].apply(buy_or_not_buy)\n",
    "df.head()"
   ]
  },
  {
   "cell_type": "code",
   "execution_count": 119,
   "metadata": {},
   "outputs": [],
   "source": [
    "def yner(x):\n",
    "    if x == 'N':\n",
    "        return 0\n",
    "    else:\n",
    "        return 1"
   ]
  },
  {
   "cell_type": "code",
   "execution_count": 120,
   "metadata": {},
   "outputs": [],
   "source": [
    "products = ['desk','executive_chair', 'standard_chair', 'monitor', 'printer', 'computer', 'insurance', 'toner', 'office_supplies']\n"
   ]
  },
  {
   "cell_type": "code",
   "execution_count": 121,
   "metadata": {},
   "outputs": [
    {
     "data": {
      "text/html": [
       "<div>\n",
       "<style scoped>\n",
       "    .dataframe tbody tr th:only-of-type {\n",
       "        vertical-align: middle;\n",
       "    }\n",
       "\n",
       "    .dataframe tbody tr th {\n",
       "        vertical-align: top;\n",
       "    }\n",
       "\n",
       "    .dataframe thead th {\n",
       "        text-align: right;\n",
       "    }\n",
       "</style>\n",
       "<table border=\"1\" class=\"dataframe\">\n",
       "  <thead>\n",
       "    <tr style=\"text-align: right;\">\n",
       "      <th></th>\n",
       "      <th>customer_number</th>\n",
       "      <th>campaign_period_sales</th>\n",
       "      <th>historical_sales_volume</th>\n",
       "      <th>date_of_first_purchase</th>\n",
       "      <th>number_of_prior_year_transactions</th>\n",
       "      <th>do_not_direct_mail_solicit</th>\n",
       "      <th>do_not_email</th>\n",
       "      <th>do_not_telemarket</th>\n",
       "      <th>repurchase_method</th>\n",
       "      <th>last_transaction_channel</th>\n",
       "      <th>desk</th>\n",
       "      <th>executive_chair</th>\n",
       "      <th>standard_chair</th>\n",
       "      <th>monitor</th>\n",
       "      <th>printer</th>\n",
       "      <th>computer</th>\n",
       "      <th>insurance</th>\n",
       "      <th>toner</th>\n",
       "      <th>office_supplies</th>\n",
       "      <th>number_of_employees</th>\n",
       "      <th>language</th>\n",
       "      <th>made_purchase</th>\n",
       "      <th>year_of_fp</th>\n",
       "      <th>history_log</th>\n",
       "      <th>num_employee_converted</th>\n",
       "    </tr>\n",
       "  </thead>\n",
       "  <tbody>\n",
       "    <tr>\n",
       "      <td>0</td>\n",
       "      <td>86734.0</td>\n",
       "      <td>238.704762</td>\n",
       "      <td>146803.428571</td>\n",
       "      <td>1968-10-01</td>\n",
       "      <td>15.0</td>\n",
       "      <td>0.0</td>\n",
       "      <td>0.0</td>\n",
       "      <td>0.0</td>\n",
       "      <td>AUTO RENEW</td>\n",
       "      <td>AUTO RENEW</td>\n",
       "      <td>0</td>\n",
       "      <td>0</td>\n",
       "      <td>0</td>\n",
       "      <td>0</td>\n",
       "      <td>0</td>\n",
       "      <td>0</td>\n",
       "      <td>1</td>\n",
       "      <td>0</td>\n",
       "      <td>1</td>\n",
       "      <td>NaN</td>\n",
       "      <td>1</td>\n",
       "      <td>1</td>\n",
       "      <td>1968</td>\n",
       "      <td>11.896850</td>\n",
       "      <td>NaN</td>\n",
       "    </tr>\n",
       "    <tr>\n",
       "      <td>1</td>\n",
       "      <td>97098.0</td>\n",
       "      <td>281.680000</td>\n",
       "      <td>439984.160000</td>\n",
       "      <td>1981-06-15</td>\n",
       "      <td>22.0</td>\n",
       "      <td>0.0</td>\n",
       "      <td>0.0</td>\n",
       "      <td>0.0</td>\n",
       "      <td>NOTICE</td>\n",
       "      <td>MAIL</td>\n",
       "      <td>0</td>\n",
       "      <td>0</td>\n",
       "      <td>0</td>\n",
       "      <td>0</td>\n",
       "      <td>0</td>\n",
       "      <td>0</td>\n",
       "      <td>0</td>\n",
       "      <td>0</td>\n",
       "      <td>1</td>\n",
       "      <td>30.0</td>\n",
       "      <td>1</td>\n",
       "      <td>1</td>\n",
       "      <td>1981</td>\n",
       "      <td>12.994494</td>\n",
       "      <td>30.0</td>\n",
       "    </tr>\n",
       "    <tr>\n",
       "      <td>2</td>\n",
       "      <td>100836.0</td>\n",
       "      <td>432.857143</td>\n",
       "      <td>970465.714286</td>\n",
       "      <td>1962-11-01</td>\n",
       "      <td>19.0</td>\n",
       "      <td>0.0</td>\n",
       "      <td>0.0</td>\n",
       "      <td>0.0</td>\n",
       "      <td>NOTICE</td>\n",
       "      <td>MAIL</td>\n",
       "      <td>0</td>\n",
       "      <td>0</td>\n",
       "      <td>0</td>\n",
       "      <td>0</td>\n",
       "      <td>0</td>\n",
       "      <td>0</td>\n",
       "      <td>0</td>\n",
       "      <td>0</td>\n",
       "      <td>1</td>\n",
       "      <td>NaN</td>\n",
       "      <td>1</td>\n",
       "      <td>1</td>\n",
       "      <td>1962</td>\n",
       "      <td>13.785531</td>\n",
       "      <td>NaN</td>\n",
       "    </tr>\n",
       "    <tr>\n",
       "      <td>3</td>\n",
       "      <td>116390.0</td>\n",
       "      <td>0.000000</td>\n",
       "      <td>230193.600000</td>\n",
       "      <td>1983-06-01</td>\n",
       "      <td>17.0</td>\n",
       "      <td>0.0</td>\n",
       "      <td>0.0</td>\n",
       "      <td>0.0</td>\n",
       "      <td>NOTICE</td>\n",
       "      <td>PHONE</td>\n",
       "      <td>0</td>\n",
       "      <td>0</td>\n",
       "      <td>0</td>\n",
       "      <td>0</td>\n",
       "      <td>0</td>\n",
       "      <td>0</td>\n",
       "      <td>0</td>\n",
       "      <td>0</td>\n",
       "      <td>1</td>\n",
       "      <td>3.0</td>\n",
       "      <td>1</td>\n",
       "      <td>0</td>\n",
       "      <td>1983</td>\n",
       "      <td>12.346676</td>\n",
       "      <td>3.0</td>\n",
       "    </tr>\n",
       "    <tr>\n",
       "      <td>5</td>\n",
       "      <td>148529.0</td>\n",
       "      <td>308.419048</td>\n",
       "      <td>182584.076190</td>\n",
       "      <td>1979-05-15</td>\n",
       "      <td>16.0</td>\n",
       "      <td>0.0</td>\n",
       "      <td>0.0</td>\n",
       "      <td>0.0</td>\n",
       "      <td>NOTICE</td>\n",
       "      <td>MAIL</td>\n",
       "      <td>0</td>\n",
       "      <td>0</td>\n",
       "      <td>0</td>\n",
       "      <td>0</td>\n",
       "      <td>0</td>\n",
       "      <td>0</td>\n",
       "      <td>0</td>\n",
       "      <td>1</td>\n",
       "      <td>1</td>\n",
       "      <td>NaN</td>\n",
       "      <td>1</td>\n",
       "      <td>1</td>\n",
       "      <td>1979</td>\n",
       "      <td>12.114966</td>\n",
       "      <td>NaN</td>\n",
       "    </tr>\n",
       "  </tbody>\n",
       "</table>\n",
       "</div>"
      ],
      "text/plain": [
       "   customer_number  campaign_period_sales  historical_sales_volume  \\\n",
       "0          86734.0             238.704762            146803.428571   \n",
       "1          97098.0             281.680000            439984.160000   \n",
       "2         100836.0             432.857143            970465.714286   \n",
       "3         116390.0               0.000000            230193.600000   \n",
       "5         148529.0             308.419048            182584.076190   \n",
       "\n",
       "  date_of_first_purchase  number_of_prior_year_transactions  \\\n",
       "0             1968-10-01                               15.0   \n",
       "1             1981-06-15                               22.0   \n",
       "2             1962-11-01                               19.0   \n",
       "3             1983-06-01                               17.0   \n",
       "5             1979-05-15                               16.0   \n",
       "\n",
       "   do_not_direct_mail_solicit  do_not_email  do_not_telemarket  \\\n",
       "0                         0.0           0.0                0.0   \n",
       "1                         0.0           0.0                0.0   \n",
       "2                         0.0           0.0                0.0   \n",
       "3                         0.0           0.0                0.0   \n",
       "5                         0.0           0.0                0.0   \n",
       "\n",
       "  repurchase_method last_transaction_channel  desk  executive_chair  \\\n",
       "0        AUTO RENEW               AUTO RENEW     0                0   \n",
       "1            NOTICE                     MAIL     0                0   \n",
       "2            NOTICE                     MAIL     0                0   \n",
       "3            NOTICE                    PHONE     0                0   \n",
       "5            NOTICE                     MAIL     0                0   \n",
       "\n",
       "   standard_chair  monitor  printer  computer  insurance  toner  \\\n",
       "0               0        0        0         0          1      0   \n",
       "1               0        0        0         0          0      0   \n",
       "2               0        0        0         0          0      0   \n",
       "3               0        0        0         0          0      0   \n",
       "5               0        0        0         0          0      1   \n",
       "\n",
       "   office_supplies  number_of_employees  language  made_purchase  year_of_fp  \\\n",
       "0                1                  NaN         1              1        1968   \n",
       "1                1                 30.0         1              1        1981   \n",
       "2                1                  NaN         1              1        1962   \n",
       "3                1                  3.0         1              0        1983   \n",
       "5                1                  NaN         1              1        1979   \n",
       "\n",
       "   history_log  num_employee_converted  \n",
       "0    11.896850                     NaN  \n",
       "1    12.994494                    30.0  \n",
       "2    13.785531                     NaN  \n",
       "3    12.346676                     3.0  \n",
       "5    12.114966                     NaN  "
      ]
     },
     "execution_count": 121,
     "metadata": {},
     "output_type": "execute_result"
    }
   ],
   "source": [
    "for product in products:\n",
    "    df[product] = df[product].apply(yner)\n",
    "df.head()"
   ]
  },
  {
   "cell_type": "code",
   "execution_count": 122,
   "metadata": {},
   "outputs": [],
   "source": [
    "def repurch_method(x):\n",
    "    if x =='AUTO RENEW':\n",
    "        return 1\n",
    "    else:\n",
    "        return 0"
   ]
  },
  {
   "cell_type": "code",
   "execution_count": 123,
   "metadata": {},
   "outputs": [],
   "source": [
    "df['re_purch_method'] = df['repurchase_method'].apply(repurch_method)"
   ]
  },
  {
   "cell_type": "code",
   "execution_count": 124,
   "metadata": {},
   "outputs": [],
   "source": [
    "def last_tran_chan(x):\n",
    "    if x =='PHONE':\n",
    "        return 1\n",
    "    else:\n",
    "        return 0"
   ]
  },
  {
   "cell_type": "code",
   "execution_count": 125,
   "metadata": {},
   "outputs": [],
   "source": [
    "df['last_tran_channel'] = df['last_transaction_channel'].apply(repurch_method)"
   ]
  },
  {
   "cell_type": "code",
   "execution_count": 126,
   "metadata": {},
   "outputs": [
    {
     "data": {
      "text/html": [
       "<div>\n",
       "<style scoped>\n",
       "    .dataframe tbody tr th:only-of-type {\n",
       "        vertical-align: middle;\n",
       "    }\n",
       "\n",
       "    .dataframe tbody tr th {\n",
       "        vertical-align: top;\n",
       "    }\n",
       "\n",
       "    .dataframe thead th {\n",
       "        text-align: right;\n",
       "    }\n",
       "</style>\n",
       "<table border=\"1\" class=\"dataframe\">\n",
       "  <thead>\n",
       "    <tr style=\"text-align: right;\">\n",
       "      <th></th>\n",
       "      <th>customer_number</th>\n",
       "      <th>campaign_period_sales</th>\n",
       "      <th>historical_sales_volume</th>\n",
       "      <th>date_of_first_purchase</th>\n",
       "      <th>number_of_prior_year_transactions</th>\n",
       "      <th>do_not_direct_mail_solicit</th>\n",
       "      <th>do_not_email</th>\n",
       "      <th>do_not_telemarket</th>\n",
       "      <th>repurchase_method</th>\n",
       "      <th>last_transaction_channel</th>\n",
       "      <th>desk</th>\n",
       "      <th>executive_chair</th>\n",
       "      <th>standard_chair</th>\n",
       "      <th>monitor</th>\n",
       "      <th>printer</th>\n",
       "      <th>computer</th>\n",
       "      <th>insurance</th>\n",
       "      <th>toner</th>\n",
       "      <th>office_supplies</th>\n",
       "      <th>number_of_employees</th>\n",
       "      <th>language</th>\n",
       "      <th>made_purchase</th>\n",
       "      <th>year_of_fp</th>\n",
       "      <th>history_log</th>\n",
       "      <th>num_employee_converted</th>\n",
       "      <th>re_purch_method</th>\n",
       "      <th>last_tran_channel</th>\n",
       "    </tr>\n",
       "  </thead>\n",
       "  <tbody>\n",
       "    <tr>\n",
       "      <td>0</td>\n",
       "      <td>86734.0</td>\n",
       "      <td>238.704762</td>\n",
       "      <td>146803.428571</td>\n",
       "      <td>1968-10-01</td>\n",
       "      <td>15.0</td>\n",
       "      <td>0.0</td>\n",
       "      <td>0.0</td>\n",
       "      <td>0.0</td>\n",
       "      <td>AUTO RENEW</td>\n",
       "      <td>AUTO RENEW</td>\n",
       "      <td>0</td>\n",
       "      <td>0</td>\n",
       "      <td>0</td>\n",
       "      <td>0</td>\n",
       "      <td>0</td>\n",
       "      <td>0</td>\n",
       "      <td>1</td>\n",
       "      <td>0</td>\n",
       "      <td>1</td>\n",
       "      <td>NaN</td>\n",
       "      <td>1</td>\n",
       "      <td>1</td>\n",
       "      <td>1968</td>\n",
       "      <td>11.896850</td>\n",
       "      <td>NaN</td>\n",
       "      <td>1</td>\n",
       "      <td>1</td>\n",
       "    </tr>\n",
       "    <tr>\n",
       "      <td>1</td>\n",
       "      <td>97098.0</td>\n",
       "      <td>281.680000</td>\n",
       "      <td>439984.160000</td>\n",
       "      <td>1981-06-15</td>\n",
       "      <td>22.0</td>\n",
       "      <td>0.0</td>\n",
       "      <td>0.0</td>\n",
       "      <td>0.0</td>\n",
       "      <td>NOTICE</td>\n",
       "      <td>MAIL</td>\n",
       "      <td>0</td>\n",
       "      <td>0</td>\n",
       "      <td>0</td>\n",
       "      <td>0</td>\n",
       "      <td>0</td>\n",
       "      <td>0</td>\n",
       "      <td>0</td>\n",
       "      <td>0</td>\n",
       "      <td>1</td>\n",
       "      <td>30.0</td>\n",
       "      <td>1</td>\n",
       "      <td>1</td>\n",
       "      <td>1981</td>\n",
       "      <td>12.994494</td>\n",
       "      <td>30.0</td>\n",
       "      <td>0</td>\n",
       "      <td>0</td>\n",
       "    </tr>\n",
       "    <tr>\n",
       "      <td>2</td>\n",
       "      <td>100836.0</td>\n",
       "      <td>432.857143</td>\n",
       "      <td>970465.714286</td>\n",
       "      <td>1962-11-01</td>\n",
       "      <td>19.0</td>\n",
       "      <td>0.0</td>\n",
       "      <td>0.0</td>\n",
       "      <td>0.0</td>\n",
       "      <td>NOTICE</td>\n",
       "      <td>MAIL</td>\n",
       "      <td>0</td>\n",
       "      <td>0</td>\n",
       "      <td>0</td>\n",
       "      <td>0</td>\n",
       "      <td>0</td>\n",
       "      <td>0</td>\n",
       "      <td>0</td>\n",
       "      <td>0</td>\n",
       "      <td>1</td>\n",
       "      <td>NaN</td>\n",
       "      <td>1</td>\n",
       "      <td>1</td>\n",
       "      <td>1962</td>\n",
       "      <td>13.785531</td>\n",
       "      <td>NaN</td>\n",
       "      <td>0</td>\n",
       "      <td>0</td>\n",
       "    </tr>\n",
       "    <tr>\n",
       "      <td>3</td>\n",
       "      <td>116390.0</td>\n",
       "      <td>0.000000</td>\n",
       "      <td>230193.600000</td>\n",
       "      <td>1983-06-01</td>\n",
       "      <td>17.0</td>\n",
       "      <td>0.0</td>\n",
       "      <td>0.0</td>\n",
       "      <td>0.0</td>\n",
       "      <td>NOTICE</td>\n",
       "      <td>PHONE</td>\n",
       "      <td>0</td>\n",
       "      <td>0</td>\n",
       "      <td>0</td>\n",
       "      <td>0</td>\n",
       "      <td>0</td>\n",
       "      <td>0</td>\n",
       "      <td>0</td>\n",
       "      <td>0</td>\n",
       "      <td>1</td>\n",
       "      <td>3.0</td>\n",
       "      <td>1</td>\n",
       "      <td>0</td>\n",
       "      <td>1983</td>\n",
       "      <td>12.346676</td>\n",
       "      <td>3.0</td>\n",
       "      <td>0</td>\n",
       "      <td>0</td>\n",
       "    </tr>\n",
       "    <tr>\n",
       "      <td>5</td>\n",
       "      <td>148529.0</td>\n",
       "      <td>308.419048</td>\n",
       "      <td>182584.076190</td>\n",
       "      <td>1979-05-15</td>\n",
       "      <td>16.0</td>\n",
       "      <td>0.0</td>\n",
       "      <td>0.0</td>\n",
       "      <td>0.0</td>\n",
       "      <td>NOTICE</td>\n",
       "      <td>MAIL</td>\n",
       "      <td>0</td>\n",
       "      <td>0</td>\n",
       "      <td>0</td>\n",
       "      <td>0</td>\n",
       "      <td>0</td>\n",
       "      <td>0</td>\n",
       "      <td>0</td>\n",
       "      <td>1</td>\n",
       "      <td>1</td>\n",
       "      <td>NaN</td>\n",
       "      <td>1</td>\n",
       "      <td>1</td>\n",
       "      <td>1979</td>\n",
       "      <td>12.114966</td>\n",
       "      <td>NaN</td>\n",
       "      <td>0</td>\n",
       "      <td>0</td>\n",
       "    </tr>\n",
       "  </tbody>\n",
       "</table>\n",
       "</div>"
      ],
      "text/plain": [
       "   customer_number  campaign_period_sales  historical_sales_volume  \\\n",
       "0          86734.0             238.704762            146803.428571   \n",
       "1          97098.0             281.680000            439984.160000   \n",
       "2         100836.0             432.857143            970465.714286   \n",
       "3         116390.0               0.000000            230193.600000   \n",
       "5         148529.0             308.419048            182584.076190   \n",
       "\n",
       "  date_of_first_purchase  number_of_prior_year_transactions  \\\n",
       "0             1968-10-01                               15.0   \n",
       "1             1981-06-15                               22.0   \n",
       "2             1962-11-01                               19.0   \n",
       "3             1983-06-01                               17.0   \n",
       "5             1979-05-15                               16.0   \n",
       "\n",
       "   do_not_direct_mail_solicit  do_not_email  do_not_telemarket  \\\n",
       "0                         0.0           0.0                0.0   \n",
       "1                         0.0           0.0                0.0   \n",
       "2                         0.0           0.0                0.0   \n",
       "3                         0.0           0.0                0.0   \n",
       "5                         0.0           0.0                0.0   \n",
       "\n",
       "  repurchase_method last_transaction_channel  desk  executive_chair  \\\n",
       "0        AUTO RENEW               AUTO RENEW     0                0   \n",
       "1            NOTICE                     MAIL     0                0   \n",
       "2            NOTICE                     MAIL     0                0   \n",
       "3            NOTICE                    PHONE     0                0   \n",
       "5            NOTICE                     MAIL     0                0   \n",
       "\n",
       "   standard_chair  monitor  printer  computer  insurance  toner  \\\n",
       "0               0        0        0         0          1      0   \n",
       "1               0        0        0         0          0      0   \n",
       "2               0        0        0         0          0      0   \n",
       "3               0        0        0         0          0      0   \n",
       "5               0        0        0         0          0      1   \n",
       "\n",
       "   office_supplies  number_of_employees  language  made_purchase  year_of_fp  \\\n",
       "0                1                  NaN         1              1        1968   \n",
       "1                1                 30.0         1              1        1981   \n",
       "2                1                  NaN         1              1        1962   \n",
       "3                1                  3.0         1              0        1983   \n",
       "5                1                  NaN         1              1        1979   \n",
       "\n",
       "   history_log  num_employee_converted  re_purch_method  last_tran_channel  \n",
       "0    11.896850                     NaN                1                  1  \n",
       "1    12.994494                    30.0                0                  0  \n",
       "2    13.785531                     NaN                0                  0  \n",
       "3    12.346676                     3.0                0                  0  \n",
       "5    12.114966                     NaN                0                  0  "
      ]
     },
     "execution_count": 126,
     "metadata": {},
     "output_type": "execute_result"
    }
   ],
   "source": [
    "df.head()"
   ]
  },
  {
   "cell_type": "code",
   "execution_count": 127,
   "metadata": {},
   "outputs": [
    {
     "data": {
      "text/plain": [
       "Index(['customer_number', 'campaign_period_sales', 'historical_sales_volume',\n",
       "       'date_of_first_purchase', 'number_of_prior_year_transactions',\n",
       "       'do_not_direct_mail_solicit', 'do_not_email', 'do_not_telemarket',\n",
       "       'repurchase_method', 'last_transaction_channel', 'desk',\n",
       "       'executive_chair', 'standard_chair', 'monitor', 'printer', 'computer',\n",
       "       'insurance', 'toner', 'office_supplies', 'number_of_employees',\n",
       "       'language', 'made_purchase', 'year_of_fp', 'history_log',\n",
       "       'num_employee_converted', 're_purch_method', 'last_tran_channel'],\n",
       "      dtype='object')"
      ]
     },
     "execution_count": 127,
     "metadata": {},
     "output_type": "execute_result"
    }
   ],
   "source": [
    "df.columns"
   ]
  },
  {
   "cell_type": "code",
   "execution_count": 128,
   "metadata": {},
   "outputs": [],
   "source": [
    "X = df[['campaign_period_sales', 'historical_sales_volume',\n",
    "       'date_of_first_purchase', 'number_of_prior_year_transactions',\n",
    "       'do_not_direct_mail_solicit', 'do_not_email', 'do_not_telemarket', 'desk',\n",
    "       'executive_chair', 'standard_chair', 'monitor', 'printer', 'computer',\n",
    "       'insurance', 'toner', 'office_supplies', 'number_of_employees',\n",
    "       'language', 'made_purchase', 'year_of_fp', 'history_log',\n",
    "       'num_employee_converted', 're_purch_method', 'last_tran_channel']].dropna()"
   ]
  },
  {
   "cell_type": "code",
   "execution_count": 129,
   "metadata": {},
   "outputs": [],
   "source": [
    "# X = df[['campaign_period_sales', 'history_log', 'historical_sales_volume', 'number_of_prior_year_transactions', 'year_of_fp', 'made_purchase', 'repurchase_method', 'last_transaction_channel', 'number_of_employees',\n",
    "#        'language', 'num_employee_converted']].dropna()"
   ]
  },
  {
   "cell_type": "code",
   "execution_count": 130,
   "metadata": {},
   "outputs": [
    {
     "data": {
      "text/html": [
       "<div>\n",
       "<style scoped>\n",
       "    .dataframe tbody tr th:only-of-type {\n",
       "        vertical-align: middle;\n",
       "    }\n",
       "\n",
       "    .dataframe tbody tr th {\n",
       "        vertical-align: top;\n",
       "    }\n",
       "\n",
       "    .dataframe thead th {\n",
       "        text-align: right;\n",
       "    }\n",
       "</style>\n",
       "<table border=\"1\" class=\"dataframe\">\n",
       "  <thead>\n",
       "    <tr style=\"text-align: right;\">\n",
       "      <th></th>\n",
       "      <th>campaign_period_sales</th>\n",
       "      <th>historical_sales_volume</th>\n",
       "      <th>date_of_first_purchase</th>\n",
       "      <th>number_of_prior_year_transactions</th>\n",
       "      <th>do_not_direct_mail_solicit</th>\n",
       "      <th>do_not_email</th>\n",
       "      <th>do_not_telemarket</th>\n",
       "      <th>desk</th>\n",
       "      <th>executive_chair</th>\n",
       "      <th>standard_chair</th>\n",
       "      <th>monitor</th>\n",
       "      <th>printer</th>\n",
       "      <th>computer</th>\n",
       "      <th>insurance</th>\n",
       "      <th>toner</th>\n",
       "      <th>office_supplies</th>\n",
       "      <th>number_of_employees</th>\n",
       "      <th>language</th>\n",
       "      <th>made_purchase</th>\n",
       "      <th>year_of_fp</th>\n",
       "      <th>history_log</th>\n",
       "      <th>num_employee_converted</th>\n",
       "      <th>re_purch_method</th>\n",
       "    </tr>\n",
       "  </thead>\n",
       "  <tbody>\n",
       "    <tr>\n",
       "      <td>7016</td>\n",
       "      <td>0.000000</td>\n",
       "      <td>316698.666667</td>\n",
       "      <td>1984-02-15</td>\n",
       "      <td>17.0</td>\n",
       "      <td>0.0</td>\n",
       "      <td>0.0</td>\n",
       "      <td>0.0</td>\n",
       "      <td>0</td>\n",
       "      <td>0</td>\n",
       "      <td>0</td>\n",
       "      <td>0</td>\n",
       "      <td>0</td>\n",
       "      <td>0</td>\n",
       "      <td>0</td>\n",
       "      <td>0</td>\n",
       "      <td>1</td>\n",
       "      <td>3.0</td>\n",
       "      <td>1</td>\n",
       "      <td>0</td>\n",
       "      <td>1984</td>\n",
       "      <td>12.665706</td>\n",
       "      <td>3.0</td>\n",
       "      <td>0</td>\n",
       "    </tr>\n",
       "    <tr>\n",
       "      <td>11609</td>\n",
       "      <td>149.933333</td>\n",
       "      <td>313360.666667</td>\n",
       "      <td>1993-09-01</td>\n",
       "      <td>22.0</td>\n",
       "      <td>0.0</td>\n",
       "      <td>0.0</td>\n",
       "      <td>0.0</td>\n",
       "      <td>0</td>\n",
       "      <td>0</td>\n",
       "      <td>0</td>\n",
       "      <td>0</td>\n",
       "      <td>0</td>\n",
       "      <td>0</td>\n",
       "      <td>0</td>\n",
       "      <td>0</td>\n",
       "      <td>1</td>\n",
       "      <td>3.0</td>\n",
       "      <td>1</td>\n",
       "      <td>1</td>\n",
       "      <td>1993</td>\n",
       "      <td>12.655110</td>\n",
       "      <td>3.0</td>\n",
       "      <td>0</td>\n",
       "    </tr>\n",
       "    <tr>\n",
       "      <td>9063</td>\n",
       "      <td>0.000000</td>\n",
       "      <td>286170.000000</td>\n",
       "      <td>1988-06-01</td>\n",
       "      <td>18.0</td>\n",
       "      <td>0.0</td>\n",
       "      <td>0.0</td>\n",
       "      <td>0.0</td>\n",
       "      <td>0</td>\n",
       "      <td>0</td>\n",
       "      <td>0</td>\n",
       "      <td>0</td>\n",
       "      <td>0</td>\n",
       "      <td>0</td>\n",
       "      <td>0</td>\n",
       "      <td>0</td>\n",
       "      <td>1</td>\n",
       "      <td>3.0</td>\n",
       "      <td>1</td>\n",
       "      <td>0</td>\n",
       "      <td>1988</td>\n",
       "      <td>12.564341</td>\n",
       "      <td>3.0</td>\n",
       "      <td>0</td>\n",
       "    </tr>\n",
       "    <tr>\n",
       "      <td>6768</td>\n",
       "      <td>0.000000</td>\n",
       "      <td>727323.445333</td>\n",
       "      <td>1987-05-01</td>\n",
       "      <td>19.0</td>\n",
       "      <td>0.0</td>\n",
       "      <td>0.0</td>\n",
       "      <td>0.0</td>\n",
       "      <td>0</td>\n",
       "      <td>0</td>\n",
       "      <td>0</td>\n",
       "      <td>0</td>\n",
       "      <td>0</td>\n",
       "      <td>0</td>\n",
       "      <td>1</td>\n",
       "      <td>0</td>\n",
       "      <td>1</td>\n",
       "      <td>30.0</td>\n",
       "      <td>1</td>\n",
       "      <td>0</td>\n",
       "      <td>1987</td>\n",
       "      <td>13.497127</td>\n",
       "      <td>30.0</td>\n",
       "      <td>1</td>\n",
       "    </tr>\n",
       "    <tr>\n",
       "      <td>8264</td>\n",
       "      <td>0.000000</td>\n",
       "      <td>343855.200000</td>\n",
       "      <td>2001-12-06</td>\n",
       "      <td>9.0</td>\n",
       "      <td>1.0</td>\n",
       "      <td>0.0</td>\n",
       "      <td>0.0</td>\n",
       "      <td>0</td>\n",
       "      <td>0</td>\n",
       "      <td>0</td>\n",
       "      <td>0</td>\n",
       "      <td>0</td>\n",
       "      <td>0</td>\n",
       "      <td>0</td>\n",
       "      <td>0</td>\n",
       "      <td>1</td>\n",
       "      <td>75.0</td>\n",
       "      <td>1</td>\n",
       "      <td>0</td>\n",
       "      <td>2001</td>\n",
       "      <td>12.747976</td>\n",
       "      <td>75.0</td>\n",
       "      <td>0</td>\n",
       "    </tr>\n",
       "  </tbody>\n",
       "</table>\n",
       "</div>"
      ],
      "text/plain": [
       "       campaign_period_sales  historical_sales_volume date_of_first_purchase  \\\n",
       "7016                0.000000            316698.666667             1984-02-15   \n",
       "11609             149.933333            313360.666667             1993-09-01   \n",
       "9063                0.000000            286170.000000             1988-06-01   \n",
       "6768                0.000000            727323.445333             1987-05-01   \n",
       "8264                0.000000            343855.200000             2001-12-06   \n",
       "\n",
       "       number_of_prior_year_transactions  do_not_direct_mail_solicit  \\\n",
       "7016                                17.0                         0.0   \n",
       "11609                               22.0                         0.0   \n",
       "9063                                18.0                         0.0   \n",
       "6768                                19.0                         0.0   \n",
       "8264                                 9.0                         1.0   \n",
       "\n",
       "       do_not_email  do_not_telemarket  desk  executive_chair  standard_chair  \\\n",
       "7016            0.0                0.0     0                0               0   \n",
       "11609           0.0                0.0     0                0               0   \n",
       "9063            0.0                0.0     0                0               0   \n",
       "6768            0.0                0.0     0                0               0   \n",
       "8264            0.0                0.0     0                0               0   \n",
       "\n",
       "       monitor  printer  computer  insurance  toner  office_supplies  \\\n",
       "7016         0        0         0          0      0                1   \n",
       "11609        0        0         0          0      0                1   \n",
       "9063         0        0         0          0      0                1   \n",
       "6768         0        0         0          1      0                1   \n",
       "8264         0        0         0          0      0                1   \n",
       "\n",
       "       number_of_employees  language  made_purchase  year_of_fp  history_log  \\\n",
       "7016                   3.0         1              0        1984    12.665706   \n",
       "11609                  3.0         1              1        1993    12.655110   \n",
       "9063                   3.0         1              0        1988    12.564341   \n",
       "6768                  30.0         1              0        1987    13.497127   \n",
       "8264                  75.0         1              0        2001    12.747976   \n",
       "\n",
       "       num_employee_converted  re_purch_method  \n",
       "7016                      3.0                0  \n",
       "11609                     3.0                0  \n",
       "9063                      3.0                0  \n",
       "6768                     30.0                1  \n",
       "8264                     75.0                0  "
      ]
     },
     "execution_count": 130,
     "metadata": {},
     "output_type": "execute_result"
    }
   ],
   "source": [
    "X_train, X_test, y_train, y_test = train_test_split( X.iloc[:, :-1], X['made_purchase'], test_size =0.5, train_size=30) # 50 vs 30 split\n",
    "X_train.head()"
   ]
  },
  {
   "cell_type": "code",
   "execution_count": 152,
   "metadata": {},
   "outputs": [
    {
     "data": {
      "text/plain": [
       "0    2187\n",
       "1     792\n",
       "Name: made_purchase, dtype: int64"
      ]
     },
     "execution_count": 152,
     "metadata": {},
     "output_type": "execute_result"
    }
   ],
   "source": [
    "y_train.value_counts()"
   ]
  },
  {
   "cell_type": "code",
   "execution_count": null,
   "metadata": {},
   "outputs": [],
   "source": []
  },
  {
   "cell_type": "markdown",
   "metadata": {},
   "source": [
    "## Building a linear regression model"
   ]
  },
  {
   "cell_type": "code",
   "execution_count": 131,
   "metadata": {},
   "outputs": [],
   "source": [
    "# create X and y\n",
    "feature_cols = ['historical_sales_volume']\n",
    "X_f = paid[feature_cols]\n",
    "y_f = paid.campaign_period_sales"
   ]
  },
  {
   "cell_type": "code",
   "execution_count": 132,
   "metadata": {},
   "outputs": [],
   "source": [
    "from sklearn.model_selection import train_test_split\n",
    "X_train,X_test,y_train,y_test=train_test_split(X_f,y_f,test_size=0.3,random_state=123)"
   ]
  },
  {
   "cell_type": "code",
   "execution_count": 133,
   "metadata": {},
   "outputs": [
    {
     "data": {
      "text/plain": [
       "LinearRegression(copy_X=True, fit_intercept=True, n_jobs=None, normalize=False)"
      ]
     },
     "execution_count": 133,
     "metadata": {},
     "output_type": "execute_result"
    }
   ],
   "source": [
    "# import, instantiate and fit the model\n",
    "from sklearn.linear_model import LinearRegression\n",
    "linreg = LinearRegression()\n",
    "linreg.fit(X_train, y_train)"
   ]
  },
  {
   "cell_type": "markdown",
   "metadata": {},
   "source": [
    "### Predicting on test dataset"
   ]
  },
  {
   "cell_type": "code",
   "execution_count": 134,
   "metadata": {},
   "outputs": [],
   "source": [
    "lin_test_pred = linreg.predict(X_test)"
   ]
  },
  {
   "cell_type": "code",
   "execution_count": 135,
   "metadata": {},
   "outputs": [
    {
     "name": "stdout",
     "output_type": "stream",
     "text": [
      "195.826821322081\n",
      "[0.00039449]\n"
     ]
    }
   ],
   "source": [
    "# print the coefficients\n",
    "print (linreg.intercept_)\n",
    "print (linreg.coef_)"
   ]
  },
  {
   "cell_type": "markdown",
   "metadata": {},
   "source": [
    "### Evaluate the model"
   ]
  },
  {
   "cell_type": "markdown",
   "metadata": {},
   "source": [
    "### Sum of Squared Error (SSE)"
   ]
  },
  {
   "cell_type": "code",
   "execution_count": 136,
   "metadata": {},
   "outputs": [
    {
     "data": {
      "text/plain": [
       "(921,)"
      ]
     },
     "execution_count": 136,
     "metadata": {},
     "output_type": "execute_result"
    }
   ],
   "source": [
    "y_test.shape\n"
   ]
  },
  {
   "cell_type": "markdown",
   "metadata": {},
   "source": [
    "### calculate the SSE."
   ]
  },
  {
   "cell_type": "code",
   "execution_count": 137,
   "metadata": {},
   "outputs": [
    {
     "data": {
      "text/plain": [
       "63877927.70246574"
      ]
     },
     "execution_count": 137,
     "metadata": {},
     "output_type": "execute_result"
    }
   ],
   "source": [
    "SSE = 921*(mean_squared_error(y_test,lin_test_pred))\n",
    "SSE"
   ]
  },
  {
   "cell_type": "markdown",
   "metadata": {},
   "source": [
    "### Mean Squared Error (MSE)"
   ]
  },
  {
   "cell_type": "code",
   "execution_count": 138,
   "metadata": {},
   "outputs": [
    {
     "data": {
      "text/plain": [
       "69357.14191364359"
      ]
     },
     "execution_count": 138,
     "metadata": {},
     "output_type": "execute_result"
    }
   ],
   "source": [
    "mean_squared_error(y_test,lin_test_pred)"
   ]
  },
  {
   "cell_type": "markdown",
   "metadata": {},
   "source": [
    "### Root Mean Squared Error (RMSE)"
   ]
  },
  {
   "cell_type": "code",
   "execution_count": 139,
   "metadata": {},
   "outputs": [
    {
     "data": {
      "text/plain": [
       "263.3574413485284"
      ]
     },
     "execution_count": 139,
     "metadata": {},
     "output_type": "execute_result"
    }
   ],
   "source": [
    "np.sqrt(mean_squared_error(y_test,lin_test_pred))"
   ]
  },
  {
   "cell_type": "markdown",
   "metadata": {},
   "source": [
    "### Mean Absolute Error (MAE)"
   ]
  },
  {
   "cell_type": "code",
   "execution_count": 140,
   "metadata": {},
   "outputs": [
    {
     "data": {
      "text/plain": [
       "151.5039105235969"
      ]
     },
     "execution_count": 140,
     "metadata": {},
     "output_type": "execute_result"
    }
   ],
   "source": [
    "mean_absolute_error(y_test,lin_test_pred)\n"
   ]
  },
  {
   "cell_type": "markdown",
   "metadata": {},
   "source": [
    "* It seems that Linear Regression with one variable is not doing well!"
   ]
  },
  {
   "cell_type": "markdown",
   "metadata": {},
   "source": [
    "## Using more Features"
   ]
  },
  {
   "cell_type": "code",
   "execution_count": 141,
   "metadata": {},
   "outputs": [],
   "source": [
    "# explore more features\n",
    "more_feature_cols = ['historical_sales_volume',\n",
    "        'number_of_prior_year_transactions',\n",
    "       'do_not_direct_mail_solicit', 'do_not_email', 'do_not_telemarket']\n",
    "X_m = paid[more_feature_cols]\n",
    "y_m = paid.campaign_period_sales"
   ]
  },
  {
   "cell_type": "code",
   "execution_count": 142,
   "metadata": {},
   "outputs": [],
   "source": [
    "X_train,X_test,y_train,y_test=train_test_split(X_m,y_m,test_size=0.50)\n"
   ]
  },
  {
   "cell_type": "code",
   "execution_count": 143,
   "metadata": {},
   "outputs": [
    {
     "data": {
      "text/plain": [
       "LinearRegression(copy_X=True, fit_intercept=True, n_jobs=None, normalize=False)"
      ]
     },
     "execution_count": 143,
     "metadata": {},
     "output_type": "execute_result"
    }
   ],
   "source": [
    "linreg_mv = LinearRegression()\n",
    "linreg_mv.fit(X_train, y_train)"
   ]
  },
  {
   "cell_type": "code",
   "execution_count": 144,
   "metadata": {},
   "outputs": [],
   "source": [
    "lin_test_pred = linreg_mv.predict(X_test)"
   ]
  },
  {
   "cell_type": "code",
   "execution_count": 145,
   "metadata": {},
   "outputs": [
    {
     "name": "stdout",
     "output_type": "stream",
     "text": [
      "MSE: 62009.6563306105\n",
      "RMSE: 249.0173815833154\n",
      "MAE: 147.8947859796802\n"
     ]
    }
   ],
   "source": [
    "print(\"MSE:\", mean_squared_error(y_test,lin_test_pred))\n",
    "\n",
    "print(\"RMSE:\", np.sqrt(mean_squared_error(y_test,lin_test_pred)))\n",
    "print(\"MAE:\", mean_absolute_error(y_test,lin_test_pred))\n"
   ]
  },
  {
   "cell_type": "code",
   "execution_count": 146,
   "metadata": {},
   "outputs": [
    {
     "data": {
      "text/plain": [
       "3.0      2455\n",
       "30.0     2033\n",
       "75.0     1264\n",
       "500.0     210\n",
       "Name: number_of_employees, dtype: int64"
      ]
     },
     "execution_count": 146,
     "metadata": {},
     "output_type": "execute_result"
    }
   ],
   "source": [
    "# let include Number of employees\n",
    "\n",
    "df['number_of_employees'].value_counts()"
   ]
  },
  {
   "cell_type": "code",
   "execution_count": 147,
   "metadata": {},
   "outputs": [],
   "source": [
    "def convert_fill_numemploy(val):\n",
    "    if val == \"1-5\": return 3\n",
    "    if val == \"6-20\": return 8\n",
    "    if val == \"11-50\": return 30\n",
    "    if val == \"51-100\": return 75\n",
    "    if val == \"1001-500\": return 300\n",
    "    if val == \"500+\": return 500\n",
    "    else: return np.nan\n",
    "    "
   ]
  },
  {
   "cell_type": "code",
   "execution_count": 148,
   "metadata": {},
   "outputs": [],
   "source": [
    "df['num_employee_converted'] = df['number_of_employees'].apply(convert_fill_numemploy)"
   ]
  },
  {
   "cell_type": "code",
   "execution_count": 149,
   "metadata": {},
   "outputs": [],
   "source": [
    "df.loc[df['num_employee_converted'].isnull(), 'num_employee_converted'] = 30.0"
   ]
  },
  {
   "cell_type": "code",
   "execution_count": 150,
   "metadata": {},
   "outputs": [
    {
     "data": {
      "text/plain": [
       "0    0.729446\n",
       "1    0.270554\n",
       "Name: made_purchase, dtype: float64"
      ]
     },
     "execution_count": 150,
     "metadata": {},
     "output_type": "execute_result"
    }
   ],
   "source": [
    "df['made_purchase'].value_counts(normalize=True)"
   ]
  },
  {
   "cell_type": "code",
   "execution_count": 151,
   "metadata": {},
   "outputs": [],
   "source": [
    "# clean = df.loc[:, ['historical_sales_volume', 'number_of_prior_year_transactions', 'year_of_first_purchase', 'made_purchase', 'num_employee_converted']].dropna()\n",
    "# clean.info()"
   ]
  },
  {
   "cell_type": "code",
   "execution_count": 152,
   "metadata": {},
   "outputs": [],
   "source": [
    "# clean.columns"
   ]
  },
  {
   "cell_type": "markdown",
   "metadata": {},
   "source": [
    "----"
   ]
  },
  {
   "cell_type": "code",
   "execution_count": 153,
   "metadata": {},
   "outputs": [],
   "source": [
    "# sub_df = df[['campaign_period_sale', 'number_of_prior-year_transaction']].dropna()\n",
    "sub_df = df[['campaign_period_sales','historical_sales_volume',\n",
    "        'number_of_prior_year_transactions',\n",
    "       'repurchase_method', 'last_transaction_channel', 'number_of_employees',\n",
    "       'language']]"
   ]
  },
  {
   "cell_type": "code",
   "execution_count": 154,
   "metadata": {},
   "outputs": [],
   "source": [
    "buyers = np.where(sub_df['campaign_period_sales'] >0, 1, 0)"
   ]
  },
  {
   "cell_type": "code",
   "execution_count": 155,
   "metadata": {},
   "outputs": [
    {
     "data": {
      "text/plain": [
       "<matplotlib.axes._subplots.AxesSubplot at 0x1a2b8ff910>"
      ]
     },
     "execution_count": 155,
     "metadata": {},
     "output_type": "execute_result"
    },
    {
     "data": {
      "image/png": "[encoded data removed]",
      "text/plain": [
       "<Figure size 432x288 with 1 Axes>"
      ]
     },
     "metadata": {
      "needs_background": "light"
     },
     "output_type": "display_data"
    }
   ],
   "source": [
    "sns.countplot(buyers)"
   ]
  },
  {
   "cell_type": "code",
   "execution_count": 156,
   "metadata": {},
   "outputs": [],
   "source": [
    "X_s = sub_df[['historical_sales_volume',\n",
    "        'number_of_prior_year_transactions',\n",
    "       'repurchase_method', 'last_transaction_channel', 'number_of_employees',\n",
    "       'language']]\n",
    "y = buyers"
   ]
  },
  {
   "cell_type": "code",
   "execution_count": 157,
   "metadata": {},
   "outputs": [],
   "source": [
    "def english_or_not(x):\n",
    "    if x =='English':\n",
    "        return 1\n",
    "    else:\n",
    "        return 0"
   ]
  },
  {
   "cell_type": "code",
   "execution_count": 158,
   "metadata": {},
   "outputs": [
    {
     "name": "stderr",
     "output_type": "stream",
     "text": [
      "/opt/anaconda3/lib/python3.7/site-packages/ipykernel_launcher.py:1: SettingWithCopyWarning: \n",
      "A value is trying to be set on a copy of a slice from a DataFrame.\n",
      "Try using .loc[row_indexer,col_indexer] = value instead\n",
      "\n",
      "See the caveats in the documentation: http://pandas.pydata.org/pandas-docs/stable/user_guide/indexing.html#returning-a-view-versus-a-copy\n",
      "  \"\"\"Entry point for launching an IPython kernel.\n",
      "/opt/anaconda3/lib/python3.7/site-packages/ipykernel_launcher.py:2: SettingWithCopyWarning: \n",
      "A value is trying to be set on a copy of a slice from a DataFrame.\n",
      "Try using .loc[row_indexer,col_indexer] = value instead\n",
      "\n",
      "See the caveats in the documentation: http://pandas.pydata.org/pandas-docs/stable/user_guide/indexing.html#returning-a-view-versus-a-copy\n",
      "  \n"
     ]
    }
   ],
   "source": [
    "X_s['language'] = X_s['language'].apply(english_or_not)\n",
    "X_s['number_of_employees'] = X_s['number_of_employees'].apply(convert_fill_numemploy)"
   ]
  },
  {
   "cell_type": "code",
   "execution_count": null,
   "metadata": {},
   "outputs": [],
   "source": []
  },
  {
   "cell_type": "code",
   "execution_count": 159,
   "metadata": {},
   "outputs": [],
   "source": [
    "X = pd.get_dummies(X).dropna()"
   ]
  },
  {
   "cell_type": "code",
   "execution_count": 160,
   "metadata": {},
   "outputs": [
    {
     "data": {
      "text/html": [
       "<div>\n",
       "<style scoped>\n",
       "    .dataframe tbody tr th:only-of-type {\n",
       "        vertical-align: middle;\n",
       "    }\n",
       "\n",
       "    .dataframe tbody tr th {\n",
       "        vertical-align: top;\n",
       "    }\n",
       "\n",
       "    .dataframe thead th {\n",
       "        text-align: right;\n",
       "    }\n",
       "</style>\n",
       "<table border=\"1\" class=\"dataframe\">\n",
       "  <thead>\n",
       "    <tr style=\"text-align: right;\">\n",
       "      <th></th>\n",
       "      <th>campaign_period_sales</th>\n",
       "      <th>historical_sales_volume</th>\n",
       "      <th>date_of_first_purchase</th>\n",
       "      <th>number_of_prior_year_transactions</th>\n",
       "      <th>do_not_direct_mail_solicit</th>\n",
       "      <th>do_not_email</th>\n",
       "      <th>do_not_telemarket</th>\n",
       "      <th>desk</th>\n",
       "      <th>executive_chair</th>\n",
       "      <th>standard_chair</th>\n",
       "      <th>monitor</th>\n",
       "      <th>printer</th>\n",
       "      <th>computer</th>\n",
       "      <th>insurance</th>\n",
       "      <th>toner</th>\n",
       "      <th>office_supplies</th>\n",
       "      <th>number_of_employees</th>\n",
       "      <th>language</th>\n",
       "      <th>made_purchase</th>\n",
       "      <th>year_of_fp</th>\n",
       "      <th>history_log</th>\n",
       "      <th>num_employee_converted</th>\n",
       "      <th>re_purch_method</th>\n",
       "      <th>last_tran_channel</th>\n",
       "    </tr>\n",
       "  </thead>\n",
       "  <tbody>\n",
       "    <tr>\n",
       "      <td>1</td>\n",
       "      <td>281.68</td>\n",
       "      <td>439984.16</td>\n",
       "      <td>1981-06-15</td>\n",
       "      <td>22.0</td>\n",
       "      <td>0.0</td>\n",
       "      <td>0.0</td>\n",
       "      <td>0.0</td>\n",
       "      <td>0</td>\n",
       "      <td>0</td>\n",
       "      <td>0</td>\n",
       "      <td>0</td>\n",
       "      <td>0</td>\n",
       "      <td>0</td>\n",
       "      <td>0</td>\n",
       "      <td>0</td>\n",
       "      <td>1</td>\n",
       "      <td>30.0</td>\n",
       "      <td>1</td>\n",
       "      <td>1</td>\n",
       "      <td>1981</td>\n",
       "      <td>12.994494</td>\n",
       "      <td>30.0</td>\n",
       "      <td>0</td>\n",
       "      <td>0</td>\n",
       "    </tr>\n",
       "    <tr>\n",
       "      <td>3</td>\n",
       "      <td>0.00</td>\n",
       "      <td>230193.60</td>\n",
       "      <td>1983-06-01</td>\n",
       "      <td>17.0</td>\n",
       "      <td>0.0</td>\n",
       "      <td>0.0</td>\n",
       "      <td>0.0</td>\n",
       "      <td>0</td>\n",
       "      <td>0</td>\n",
       "      <td>0</td>\n",
       "      <td>0</td>\n",
       "      <td>0</td>\n",
       "      <td>0</td>\n",
       "      <td>0</td>\n",
       "      <td>0</td>\n",
       "      <td>1</td>\n",
       "      <td>3.0</td>\n",
       "      <td>1</td>\n",
       "      <td>0</td>\n",
       "      <td>1983</td>\n",
       "      <td>12.346676</td>\n",
       "      <td>3.0</td>\n",
       "      <td>0</td>\n",
       "      <td>0</td>\n",
       "    </tr>\n",
       "    <tr>\n",
       "      <td>6</td>\n",
       "      <td>0.00</td>\n",
       "      <td>151252.50</td>\n",
       "      <td>1986-11-15</td>\n",
       "      <td>6.0</td>\n",
       "      <td>0.0</td>\n",
       "      <td>0.0</td>\n",
       "      <td>0.0</td>\n",
       "      <td>0</td>\n",
       "      <td>0</td>\n",
       "      <td>0</td>\n",
       "      <td>0</td>\n",
       "      <td>0</td>\n",
       "      <td>0</td>\n",
       "      <td>0</td>\n",
       "      <td>0</td>\n",
       "      <td>0</td>\n",
       "      <td>75.0</td>\n",
       "      <td>1</td>\n",
       "      <td>0</td>\n",
       "      <td>1986</td>\n",
       "      <td>11.926706</td>\n",
       "      <td>75.0</td>\n",
       "      <td>0</td>\n",
       "      <td>0</td>\n",
       "    </tr>\n",
       "    <tr>\n",
       "      <td>9</td>\n",
       "      <td>223.44</td>\n",
       "      <td>277512.48</td>\n",
       "      <td>1982-07-01</td>\n",
       "      <td>18.0</td>\n",
       "      <td>0.0</td>\n",
       "      <td>0.0</td>\n",
       "      <td>0.0</td>\n",
       "      <td>0</td>\n",
       "      <td>0</td>\n",
       "      <td>0</td>\n",
       "      <td>0</td>\n",
       "      <td>0</td>\n",
       "      <td>0</td>\n",
       "      <td>0</td>\n",
       "      <td>0</td>\n",
       "      <td>1</td>\n",
       "      <td>3.0</td>\n",
       "      <td>1</td>\n",
       "      <td>1</td>\n",
       "      <td>1982</td>\n",
       "      <td>12.533621</td>\n",
       "      <td>3.0</td>\n",
       "      <td>0</td>\n",
       "      <td>0</td>\n",
       "    </tr>\n",
       "    <tr>\n",
       "      <td>11</td>\n",
       "      <td>124.76</td>\n",
       "      <td>199366.48</td>\n",
       "      <td>1980-09-01</td>\n",
       "      <td>17.0</td>\n",
       "      <td>0.0</td>\n",
       "      <td>1.0</td>\n",
       "      <td>0.0</td>\n",
       "      <td>0</td>\n",
       "      <td>0</td>\n",
       "      <td>0</td>\n",
       "      <td>0</td>\n",
       "      <td>0</td>\n",
       "      <td>0</td>\n",
       "      <td>0</td>\n",
       "      <td>0</td>\n",
       "      <td>1</td>\n",
       "      <td>3.0</td>\n",
       "      <td>1</td>\n",
       "      <td>1</td>\n",
       "      <td>1980</td>\n",
       "      <td>12.202900</td>\n",
       "      <td>3.0</td>\n",
       "      <td>0</td>\n",
       "      <td>0</td>\n",
       "    </tr>\n",
       "  </tbody>\n",
       "</table>\n",
       "</div>"
      ],
      "text/plain": [
       "    campaign_period_sales  historical_sales_volume date_of_first_purchase  \\\n",
       "1                  281.68                439984.16             1981-06-15   \n",
       "3                    0.00                230193.60             1983-06-01   \n",
       "6                    0.00                151252.50             1986-11-15   \n",
       "9                  223.44                277512.48             1982-07-01   \n",
       "11                 124.76                199366.48             1980-09-01   \n",
       "\n",
       "    number_of_prior_year_transactions  do_not_direct_mail_solicit  \\\n",
       "1                                22.0                         0.0   \n",
       "3                                17.0                         0.0   \n",
       "6                                 6.0                         0.0   \n",
       "9                                18.0                         0.0   \n",
       "11                               17.0                         0.0   \n",
       "\n",
       "    do_not_email  do_not_telemarket  desk  executive_chair  standard_chair  \\\n",
       "1            0.0                0.0     0                0               0   \n",
       "3            0.0                0.0     0                0               0   \n",
       "6            0.0                0.0     0                0               0   \n",
       "9            0.0                0.0     0                0               0   \n",
       "11           1.0                0.0     0                0               0   \n",
       "\n",
       "    monitor  printer  computer  insurance  toner  office_supplies  \\\n",
       "1         0        0         0          0      0                1   \n",
       "3         0        0         0          0      0                1   \n",
       "6         0        0         0          0      0                0   \n",
       "9         0        0         0          0      0                1   \n",
       "11        0        0         0          0      0                1   \n",
       "\n",
       "    number_of_employees  language  made_purchase  year_of_fp  history_log  \\\n",
       "1                  30.0         1              1        1981    12.994494   \n",
       "3                   3.0         1              0        1983    12.346676   \n",
       "6                  75.0         1              0        1986    11.926706   \n",
       "9                   3.0         1              1        1982    12.533621   \n",
       "11                  3.0         1              1        1980    12.202900   \n",
       "\n",
       "    num_employee_converted  re_purch_method  last_tran_channel  \n",
       "1                     30.0                0                  0  \n",
       "3                      3.0                0                  0  \n",
       "6                     75.0                0                  0  \n",
       "9                      3.0                0                  0  \n",
       "11                     3.0                0                  0  "
      ]
     },
     "execution_count": 160,
     "metadata": {},
     "output_type": "execute_result"
    }
   ],
   "source": [
    "X.head()"
   ]
  },
  {
   "cell_type": "code",
   "execution_count": null,
   "metadata": {},
   "outputs": [],
   "source": []
  }
 ],
 "metadata": {
  "kernelspec": {
   "display_name": "Python 3",
   "language": "python",
   "name": "python3"
  },
  "language_info": {
   "codemirror_mode": {
    "name": "ipython",
    "version": 3
   },
   "file_extension": ".py",
   "mimetype": "text/x-python",
   "name": "python",
   "nbconvert_exporter": "python",
   "pygments_lexer": "ipython3",
   "version": "3.7.4"
  }
 },
 "nbformat": 4,
 "nbformat_minor": 2
}
