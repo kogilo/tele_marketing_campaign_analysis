{
 "cells": [
  {
   "cell_type": "markdown",
   "metadata": {},
   "source": [
    "## Capstone Assignment - Office Supply Store Data Analysis"
   ]
  },
  {
   "cell_type": "markdown",
   "metadata": {},
   "source": [
    "### Background:\n",
    "\n",
    "An office supply store tests a telemarketing campaign to its existing business customers. The company targeted approximately 16,000 customers for the campaign. Assume you are a consultant brought on board to help the company leverage and use the findings from the tests to its advantage. Refer to the accompanying spreadsheet, which contain the results of the tests. \n",
    "\n",
    "### Project objectives:\n",
    "\n",
    "* Profile the customers that responded to the campaign to make the company aware of who its typical customer is.\n",
    "* Develop models that will allow the company to use the results of the campaign to target future, similar campaigns.\n",
    "* Show the financial value of your models.\n",
    "\n",
    "### Expected deliverables:\n",
    "A deck that details your findings and the models (must include a clear gains chart showing the financial contribution of your results) and the percent of the base that can be profitably targeted for the next campaign.\n",
    "\n",
    "### Relevant financials:\n",
    "\n",
    "* Gross margin on sales: 22%\n",
    "\n",
    "* Campaign cost: `$45.65` per business contacted.\n",
    "\n",
    "* Transaction cost: $`8.40` per transaction\n",
    "\n",
    "\n",
    "### Methodology:\n",
    "\n",
    "* Create model and validation sets\n",
    "* Develop a model to estimate the probability of responding to this campaign\n",
    "* Develop a model to estimate the size (dollar) of the transaction\n",
    "* Calculate the expected profit resulting from each target; use the formula below:\n",
    "* E(Profit)=.22*Prob(Sale)*Est(Transaction Size)-$ `8.40` *Prob(Sale)- $ `45.65`\n",
    "* Illustrate the contribution to profitability associated with your models versus random targeting\n",
    "* Create a presentation for your client"
   ]
  },
  {
   "cell_type": "markdown",
   "metadata": {},
   "source": [
    "## Import some Libraries"
   ]
  },
  {
   "cell_type": "code",
   "execution_count": 405,
   "metadata": {},
   "outputs": [],
   "source": [
    "%matplotlib inline\n",
    "import matplotlib.pyplot as plt\n",
    "import numpy as np\n",
    "import pandas as pd\n",
    "import scipy.stats as st\n",
    "import seaborn as sns\n",
    "from datetime import datetime\n",
    "\n",
    "from sklearn.model_selection import train_test_split\n",
    "from sklearn.metrics import accuracy_score, recall_score, precision_score, confusion_matrix, precision_recall_curve, classification_report, mean_squared_error, mean_absolute_error\n",
    "# from sklearn.preprocessing import RobustSca"
   ]
  },
  {
   "cell_type": "code",
   "execution_count": 406,
   "metadata": {},
   "outputs": [],
   "source": [
    "pd.set_option('display.max_columns', 50)"
   ]
  },
  {
   "cell_type": "markdown",
   "metadata": {},
   "source": [
    "## Get the data"
   ]
  },
  {
   "cell_type": "code",
   "execution_count": 407,
   "metadata": {},
   "outputs": [],
   "source": [
    "df = pd.read_excel('data/Office Supply Campaign ResultS 7-23-19.xlsx')"
   ]
  },
  {
   "cell_type": "code",
   "execution_count": 408,
   "metadata": {},
   "outputs": [
    {
     "name": "stdout",
     "output_type": "stream",
     "text": [
      "<class 'pandas.core.frame.DataFrame'>\n",
      "RangeIndex: 16173 entries, 0 to 16172\n",
      "Data columns (total 21 columns):\n",
      "Customer Number                      16172 non-null float64\n",
      "Campaign Period Sales                16172 non-null float64\n",
      "Historical Sales Volume              16172 non-null float64\n",
      "Date of First Purchase               16172 non-null datetime64[ns]\n",
      "Number of Prior Year Transactions    16172 non-null float64\n",
      "Do Not Direct Mail Solicit           16172 non-null float64\n",
      "Do Not Email                         16172 non-null float64\n",
      "Do Not Telemarket                    16172 non-null float64\n",
      "Repurchase Method                    16172 non-null object\n",
      "Last Transaction Channel             15730 non-null object\n",
      "Desk                                 16173 non-null object\n",
      "Executive Chair                      16171 non-null object\n",
      "Standard Chair                       16171 non-null object\n",
      "Monitor                              16171 non-null object\n",
      "Printer                              16171 non-null object\n",
      "Computer                             16172 non-null object\n",
      "Insurance                            16170 non-null object\n",
      "Toner                                16170 non-null object\n",
      "Office Supplies                      16172 non-null object\n",
      "Number of Employees                  16170 non-null object\n",
      "Language                             11701 non-null object\n",
      "dtypes: datetime64[ns](1), float64(7), object(13)\n",
      "memory usage: 2.6+ MB\n"
     ]
    }
   ],
   "source": [
    "df.info()"
   ]
  },
  {
   "cell_type": "code",
   "execution_count": 409,
   "metadata": {},
   "outputs": [
    {
     "data": {
      "text/html": [
       "<div>\n",
       "<style scoped>\n",
       "    .dataframe tbody tr th:only-of-type {\n",
       "        vertical-align: middle;\n",
       "    }\n",
       "\n",
       "    .dataframe tbody tr th {\n",
       "        vertical-align: top;\n",
       "    }\n",
       "\n",
       "    .dataframe thead th {\n",
       "        text-align: right;\n",
       "    }\n",
       "</style>\n",
       "<table border=\"1\" class=\"dataframe\">\n",
       "  <thead>\n",
       "    <tr style=\"text-align: right;\">\n",
       "      <th></th>\n",
       "      <th>Customer Number</th>\n",
       "      <th>Campaign Period Sales</th>\n",
       "      <th>Historical Sales Volume</th>\n",
       "      <th>Date of First Purchase</th>\n",
       "      <th>Number of Prior Year Transactions</th>\n",
       "      <th>Do Not Direct Mail Solicit</th>\n",
       "      <th>Do Not Email</th>\n",
       "      <th>Do Not Telemarket</th>\n",
       "      <th>Repurchase Method</th>\n",
       "      <th>Last Transaction Channel</th>\n",
       "      <th>Desk</th>\n",
       "      <th>Executive Chair</th>\n",
       "      <th>Standard Chair</th>\n",
       "      <th>Monitor</th>\n",
       "      <th>Printer</th>\n",
       "      <th>Computer</th>\n",
       "      <th>Insurance</th>\n",
       "      <th>Toner</th>\n",
       "      <th>Office Supplies</th>\n",
       "      <th>Number of Employees</th>\n",
       "      <th>Language</th>\n",
       "    </tr>\n",
       "  </thead>\n",
       "  <tbody>\n",
       "    <tr>\n",
       "      <td>0</td>\n",
       "      <td>86734.0</td>\n",
       "      <td>238.704762</td>\n",
       "      <td>146803.428571</td>\n",
       "      <td>1968-10-01</td>\n",
       "      <td>15.0</td>\n",
       "      <td>0.0</td>\n",
       "      <td>0.0</td>\n",
       "      <td>0.0</td>\n",
       "      <td>AUTO RENEW</td>\n",
       "      <td>AUTO RENEW</td>\n",
       "      <td>N</td>\n",
       "      <td>N</td>\n",
       "      <td>N</td>\n",
       "      <td>N</td>\n",
       "      <td>N</td>\n",
       "      <td>N</td>\n",
       "      <td>Y</td>\n",
       "      <td>N</td>\n",
       "      <td>Y</td>\n",
       "      <td>6-10</td>\n",
       "      <td>English</td>\n",
       "    </tr>\n",
       "    <tr>\n",
       "      <td>1</td>\n",
       "      <td>97098.0</td>\n",
       "      <td>281.680000</td>\n",
       "      <td>439984.160000</td>\n",
       "      <td>1981-06-15</td>\n",
       "      <td>22.0</td>\n",
       "      <td>0.0</td>\n",
       "      <td>0.0</td>\n",
       "      <td>0.0</td>\n",
       "      <td>NOTICE</td>\n",
       "      <td>MAIL</td>\n",
       "      <td>N</td>\n",
       "      <td>N</td>\n",
       "      <td>N</td>\n",
       "      <td>N</td>\n",
       "      <td>N</td>\n",
       "      <td>N</td>\n",
       "      <td>N</td>\n",
       "      <td>N</td>\n",
       "      <td>Y</td>\n",
       "      <td>11-50</td>\n",
       "      <td>English</td>\n",
       "    </tr>\n",
       "    <tr>\n",
       "      <td>2</td>\n",
       "      <td>100836.0</td>\n",
       "      <td>432.857143</td>\n",
       "      <td>970465.714286</td>\n",
       "      <td>1962-11-01</td>\n",
       "      <td>19.0</td>\n",
       "      <td>0.0</td>\n",
       "      <td>0.0</td>\n",
       "      <td>0.0</td>\n",
       "      <td>NOTICE</td>\n",
       "      <td>MAIL</td>\n",
       "      <td>N</td>\n",
       "      <td>N</td>\n",
       "      <td>N</td>\n",
       "      <td>N</td>\n",
       "      <td>N</td>\n",
       "      <td>N</td>\n",
       "      <td>N</td>\n",
       "      <td>N</td>\n",
       "      <td>Y</td>\n",
       "      <td>6-10</td>\n",
       "      <td>English</td>\n",
       "    </tr>\n",
       "    <tr>\n",
       "      <td>3</td>\n",
       "      <td>116390.0</td>\n",
       "      <td>0.000000</td>\n",
       "      <td>230193.600000</td>\n",
       "      <td>1983-06-01</td>\n",
       "      <td>17.0</td>\n",
       "      <td>0.0</td>\n",
       "      <td>0.0</td>\n",
       "      <td>0.0</td>\n",
       "      <td>NOTICE</td>\n",
       "      <td>PHONE</td>\n",
       "      <td>N</td>\n",
       "      <td>N</td>\n",
       "      <td>N</td>\n",
       "      <td>N</td>\n",
       "      <td>N</td>\n",
       "      <td>N</td>\n",
       "      <td>N</td>\n",
       "      <td>N</td>\n",
       "      <td>Y</td>\n",
       "      <td>1-5</td>\n",
       "      <td>English</td>\n",
       "    </tr>\n",
       "    <tr>\n",
       "      <td>4</td>\n",
       "      <td>127914.0</td>\n",
       "      <td>1370.166667</td>\n",
       "      <td>27403.333333</td>\n",
       "      <td>1987-07-15</td>\n",
       "      <td>21.0</td>\n",
       "      <td>0.0</td>\n",
       "      <td>0.0</td>\n",
       "      <td>0.0</td>\n",
       "      <td>NOTICE</td>\n",
       "      <td>BRANCH (PHONE)</td>\n",
       "      <td>N</td>\n",
       "      <td>N</td>\n",
       "      <td>N</td>\n",
       "      <td>N</td>\n",
       "      <td>N</td>\n",
       "      <td>N</td>\n",
       "      <td>Y</td>\n",
       "      <td>N</td>\n",
       "      <td>N</td>\n",
       "      <td></td>\n",
       "      <td>NaN</td>\n",
       "    </tr>\n",
       "  </tbody>\n",
       "</table>\n",
       "</div>"
      ],
      "text/plain": [
       "   Customer Number  Campaign Period Sales  Historical Sales Volume  \\\n",
       "0          86734.0             238.704762            146803.428571   \n",
       "1          97098.0             281.680000            439984.160000   \n",
       "2         100836.0             432.857143            970465.714286   \n",
       "3         116390.0               0.000000            230193.600000   \n",
       "4         127914.0            1370.166667             27403.333333   \n",
       "\n",
       "  Date of First Purchase  Number of Prior Year Transactions  \\\n",
       "0             1968-10-01                               15.0   \n",
       "1             1981-06-15                               22.0   \n",
       "2             1962-11-01                               19.0   \n",
       "3             1983-06-01                               17.0   \n",
       "4             1987-07-15                               21.0   \n",
       "\n",
       "   Do Not Direct Mail Solicit  Do Not Email  Do Not Telemarket  \\\n",
       "0                         0.0           0.0                0.0   \n",
       "1                         0.0           0.0                0.0   \n",
       "2                         0.0           0.0                0.0   \n",
       "3                         0.0           0.0                0.0   \n",
       "4                         0.0           0.0                0.0   \n",
       "\n",
       "  Repurchase Method Last Transaction Channel Desk Executive Chair  \\\n",
       "0        AUTO RENEW               AUTO RENEW    N               N   \n",
       "1            NOTICE                     MAIL    N               N   \n",
       "2            NOTICE                     MAIL    N               N   \n",
       "3            NOTICE                    PHONE    N               N   \n",
       "4            NOTICE           BRANCH (PHONE)    N               N   \n",
       "\n",
       "  Standard Chair Monitor Printer Computer Insurance Toner Office Supplies  \\\n",
       "0              N       N       N        N         Y     N               Y   \n",
       "1              N       N       N        N         N     N               Y   \n",
       "2              N       N       N        N         N     N               Y   \n",
       "3              N       N       N        N         N     N               Y   \n",
       "4              N       N       N        N         Y     N               N   \n",
       "\n",
       "  Number of Employees Language  \n",
       "0                6-10  English  \n",
       "1               11-50  English  \n",
       "2                6-10  English  \n",
       "3                 1-5  English  \n",
       "4                          NaN  "
      ]
     },
     "execution_count": 409,
     "metadata": {},
     "output_type": "execute_result"
    }
   ],
   "source": [
    "df.head()"
   ]
  },
  {
   "cell_type": "markdown",
   "metadata": {},
   "source": [
    "### Clean the column names"
   ]
  },
  {
   "cell_type": "code",
   "execution_count": 410,
   "metadata": {},
   "outputs": [],
   "source": [
    "# clean a column names\n",
    "df.columns = [col.strip().lower().replace(' ', '_') for col in df.columns]"
   ]
  },
  {
   "cell_type": "code",
   "execution_count": 411,
   "metadata": {},
   "outputs": [
    {
     "data": {
      "text/html": [
       "<div>\n",
       "<style scoped>\n",
       "    .dataframe tbody tr th:only-of-type {\n",
       "        vertical-align: middle;\n",
       "    }\n",
       "\n",
       "    .dataframe tbody tr th {\n",
       "        vertical-align: top;\n",
       "    }\n",
       "\n",
       "    .dataframe thead th {\n",
       "        text-align: right;\n",
       "    }\n",
       "</style>\n",
       "<table border=\"1\" class=\"dataframe\">\n",
       "  <thead>\n",
       "    <tr style=\"text-align: right;\">\n",
       "      <th></th>\n",
       "      <th>customer_number</th>\n",
       "      <th>campaign_period_sales</th>\n",
       "      <th>historical_sales_volume</th>\n",
       "      <th>date_of_first_purchase</th>\n",
       "      <th>number_of_prior_year_transactions</th>\n",
       "      <th>do_not_direct_mail_solicit</th>\n",
       "      <th>do_not_email</th>\n",
       "      <th>do_not_telemarket</th>\n",
       "      <th>repurchase_method</th>\n",
       "      <th>last_transaction_channel</th>\n",
       "      <th>desk</th>\n",
       "      <th>executive_chair</th>\n",
       "      <th>standard_chair</th>\n",
       "      <th>monitor</th>\n",
       "      <th>printer</th>\n",
       "      <th>computer</th>\n",
       "      <th>insurance</th>\n",
       "      <th>toner</th>\n",
       "      <th>office_supplies</th>\n",
       "      <th>number_of_employees</th>\n",
       "      <th>language</th>\n",
       "    </tr>\n",
       "  </thead>\n",
       "  <tbody>\n",
       "    <tr>\n",
       "      <td>0</td>\n",
       "      <td>86734.0</td>\n",
       "      <td>238.704762</td>\n",
       "      <td>146803.428571</td>\n",
       "      <td>1968-10-01</td>\n",
       "      <td>15.0</td>\n",
       "      <td>0.0</td>\n",
       "      <td>0.0</td>\n",
       "      <td>0.0</td>\n",
       "      <td>AUTO RENEW</td>\n",
       "      <td>AUTO RENEW</td>\n",
       "      <td>N</td>\n",
       "      <td>N</td>\n",
       "      <td>N</td>\n",
       "      <td>N</td>\n",
       "      <td>N</td>\n",
       "      <td>N</td>\n",
       "      <td>Y</td>\n",
       "      <td>N</td>\n",
       "      <td>Y</td>\n",
       "      <td>6-10</td>\n",
       "      <td>English</td>\n",
       "    </tr>\n",
       "  </tbody>\n",
       "</table>\n",
       "</div>"
      ],
      "text/plain": [
       "   customer_number  campaign_period_sales  historical_sales_volume  \\\n",
       "0          86734.0             238.704762            146803.428571   \n",
       "\n",
       "  date_of_first_purchase  number_of_prior_year_transactions  \\\n",
       "0             1968-10-01                               15.0   \n",
       "\n",
       "   do_not_direct_mail_solicit  do_not_email  do_not_telemarket  \\\n",
       "0                         0.0           0.0                0.0   \n",
       "\n",
       "  repurchase_method last_transaction_channel desk executive_chair  \\\n",
       "0        AUTO RENEW               AUTO RENEW    N               N   \n",
       "\n",
       "  standard_chair monitor printer computer insurance toner office_supplies  \\\n",
       "0              N       N       N        N         Y     N               Y   \n",
       "\n",
       "  number_of_employees language  \n",
       "0                6-10  English  "
      ]
     },
     "execution_count": 411,
     "metadata": {},
     "output_type": "execute_result"
    }
   ],
   "source": [
    "df.head(1)"
   ]
  },
  {
   "cell_type": "markdown",
   "metadata": {},
   "source": [
    "# Dealing with missing Data"
   ]
  },
  {
   "cell_type": "markdown",
   "metadata": {},
   "source": [
    "### Heatmap to visulaize the missing data"
   ]
  },
  {
   "cell_type": "code",
   "execution_count": 412,
   "metadata": {},
   "outputs": [
    {
     "data": {
      "text/plain": [
       "<matplotlib.axes._subplots.AxesSubplot at 0x1a30f8c1d0>"
      ]
     },
     "execution_count": 412,
     "metadata": {},
     "output_type": "execute_result"
    },
    {
     "data": {
      "image/png": "[encoded data removed]",
      "text/plain": [
       "<Figure size 432x288 with 1 Axes>"
      ]
     },
     "metadata": {
      "needs_background": "light"
     },
     "output_type": "display_data"
    }
   ],
   "source": [
    "sns.heatmap(df.isnull(), yticklabels=False, cbar=False, cmap='viridis')"
   ]
  },
  {
   "cell_type": "markdown",
   "metadata": {},
   "source": [
    "* Most of the data in `language` attribuate and  some date in  `last_transaction_channel` attribuate are missing."
   ]
  },
  {
   "cell_type": "code",
   "execution_count": 413,
   "metadata": {},
   "outputs": [
    {
     "name": "stdout",
     "output_type": "stream",
     "text": [
      "customer_number: 0.0061831447474185374%\n",
      "campaign_period_sales: 0.0061831447474185374%\n",
      "historical_sales_volume: 0.0061831447474185374%\n",
      "date_of_first_purchase: 0.0061831447474185374%\n",
      "number_of_prior_year_transactions: 0.0061831447474185374%\n",
      "do_not_direct_mail_solicit: 0.0061831447474185374%\n",
      "do_not_email: 0.0061831447474185374%\n",
      "do_not_telemarket: 0.0061831447474185374%\n",
      "repurchase_method: 0.0061831447474185374%\n",
      "last_transaction_channel: 2.739133123106412%\n",
      "desk: 0.0%\n",
      "executive_chair: 0.012366289494837075%\n",
      "standard_chair: 0.012366289494837075%\n",
      "monitor: 0.012366289494837075%\n",
      "printer: 0.012366289494837075%\n",
      "computer: 0.0061831447474185374%\n",
      "insurance: 0.01854943424225561%\n",
      "toner: 0.01854943424225561%\n",
      "office_supplies: 0.0061831447474185374%\n",
      "number_of_employees: 0.01854943424225561%\n",
      "language: 27.6510233104557%\n"
     ]
    }
   ],
   "source": [
    "def NaN_percent(df, column_name):\n",
    "    row_count = df[column_name].shape[0]\n",
    "    empty_values = row_count - df[column_name].count()\n",
    "    return (100.0*empty_values)/row_count\n",
    "for i in list(df):\n",
    "    print(i +': ' + str(NaN_percent(df,i))+'%')  "
   ]
  },
  {
   "cell_type": "markdown",
   "metadata": {},
   "source": [
    "### Count the missing values"
   ]
  },
  {
   "cell_type": "code",
   "execution_count": 414,
   "metadata": {},
   "outputs": [
    {
     "data": {
      "text/plain": [
       "customer_number                         1\n",
       "campaign_period_sales                   1\n",
       "historical_sales_volume                 1\n",
       "date_of_first_purchase                  1\n",
       "number_of_prior_year_transactions       1\n",
       "do_not_direct_mail_solicit              1\n",
       "do_not_email                            1\n",
       "do_not_telemarket                       1\n",
       "repurchase_method                       1\n",
       "last_transaction_channel              443\n",
       "desk                                    0\n",
       "executive_chair                         2\n",
       "standard_chair                          2\n",
       "monitor                                 2\n",
       "printer                                 2\n",
       "computer                                1\n",
       "insurance                               3\n",
       "toner                                   3\n",
       "office_supplies                         1\n",
       "number_of_employees                     3\n",
       "language                             4472\n",
       "dtype: int64"
      ]
     },
     "execution_count": 414,
     "metadata": {},
     "output_type": "execute_result"
    }
   ],
   "source": [
    "df.isnull().sum()"
   ]
  },
  {
   "cell_type": "code",
   "execution_count": null,
   "metadata": {},
   "outputs": [],
   "source": []
  },
  {
   "cell_type": "code",
   "execution_count": 415,
   "metadata": {},
   "outputs": [
    {
     "data": {
      "text/plain": [
       "0        English\n",
       "1        English\n",
       "2        English\n",
       "3        English\n",
       "4            NaN\n",
       "          ...   \n",
       "16168        NaN\n",
       "16169        NaN\n",
       "16170        NaN\n",
       "16171        NaN\n",
       "16172        NaN\n",
       "Name: language, Length: 16173, dtype: object"
      ]
     },
     "execution_count": 415,
     "metadata": {},
     "output_type": "execute_result"
    }
   ],
   "source": [
    " df.language"
   ]
  },
  {
   "cell_type": "code",
   "execution_count": 416,
   "metadata": {},
   "outputs": [
    {
     "name": "stdout",
     "output_type": "stream",
     "text": [
      "<class 'pandas.core.frame.DataFrame'>\n",
      "Int64Index: 16170 entries, 0 to 16171\n",
      "Data columns (total 21 columns):\n",
      "customer_number                      16170 non-null float64\n",
      "campaign_period_sales                16170 non-null float64\n",
      "historical_sales_volume              16170 non-null float64\n",
      "date_of_first_purchase               16170 non-null datetime64[ns]\n",
      "number_of_prior_year_transactions    16170 non-null float64\n",
      "do_not_direct_mail_solicit           16170 non-null float64\n",
      "do_not_email                         16170 non-null float64\n",
      "do_not_telemarket                    16170 non-null float64\n",
      "repurchase_method                    16170 non-null object\n",
      "last_transaction_channel             15728 non-null object\n",
      "desk                                 16170 non-null object\n",
      "executive_chair                      16170 non-null object\n",
      "standard_chair                       16170 non-null object\n",
      "monitor                              16170 non-null object\n",
      "printer                              16170 non-null object\n",
      "computer                             16170 non-null object\n",
      "insurance                            16170 non-null object\n",
      "toner                                16170 non-null object\n",
      "office_supplies                      16170 non-null object\n",
      "number_of_employees                  16168 non-null object\n",
      "language                             11701 non-null object\n",
      "dtypes: datetime64[ns](1), float64(7), object(13)\n",
      "memory usage: 2.7+ MB\n"
     ]
    }
   ],
   "source": [
    "# look for rows missing for certain product entries\n",
    "idx_missing=df.loc[df.toner.isnull()].index\n",
    "# df.loc[df.idx_missing]\n",
    "df.drop(labels=idx_missing, axis=0, inplace=True) # drop missing rows for products.\n",
    "df.info()"
   ]
  },
  {
   "cell_type": "code",
   "execution_count": 417,
   "metadata": {},
   "outputs": [
    {
     "name": "stdout",
     "output_type": "stream",
     "text": [
      "<class 'pandas.core.frame.DataFrame'>\n",
      "Int64Index: 15728 entries, 0 to 16171\n",
      "Data columns (total 21 columns):\n",
      "customer_number                      15728 non-null float64\n",
      "campaign_period_sales                15728 non-null float64\n",
      "historical_sales_volume              15728 non-null float64\n",
      "date_of_first_purchase               15728 non-null datetime64[ns]\n",
      "number_of_prior_year_transactions    15728 non-null float64\n",
      "do_not_direct_mail_solicit           15728 non-null float64\n",
      "do_not_email                         15728 non-null float64\n",
      "do_not_telemarket                    15728 non-null float64\n",
      "repurchase_method                    15728 non-null object\n",
      "last_transaction_channel             15728 non-null object\n",
      "desk                                 15728 non-null object\n",
      "executive_chair                      15728 non-null object\n",
      "standard_chair                       15728 non-null object\n",
      "monitor                              15728 non-null object\n",
      "printer                              15728 non-null object\n",
      "computer                             15728 non-null object\n",
      "insurance                            15728 non-null object\n",
      "toner                                15728 non-null object\n",
      "office_supplies                      15728 non-null object\n",
      "number_of_employees                  15726 non-null object\n",
      "language                             11413 non-null object\n",
      "dtypes: datetime64[ns](1), float64(7), object(13)\n",
      "memory usage: 2.6+ MB\n"
     ]
    }
   ],
   "source": [
    "df.loc[df.last_transaction_channel.isnull()]\n",
    "# Get rid of rows missing in ast_transaction_channnel\n",
    "df.drop(labels=df.loc[df.last_transaction_channel.isnull()].index, inplace=True)\n",
    "df.info()"
   ]
  },
  {
   "cell_type": "code",
   "execution_count": 418,
   "metadata": {},
   "outputs": [
    {
     "data": {
      "text/plain": [
       "English       11039\n",
       "Spanish          88\n",
       "Italian          45\n",
       "Portuguese       40\n",
       "Hindi            39\n",
       "Chinese          30\n",
       "Russian          24\n",
       "Hebrew           20\n",
       "Arabic           16\n",
       "German           15\n",
       "Greek            14\n",
       "Japanese         11\n",
       "Polish           10\n",
       "Vietnamese        9\n",
       "French            6\n",
       "Korean            4\n",
       "Thai              2\n",
       "Pashto            1\n",
       "Name: language, dtype: int64"
      ]
     },
     "execution_count": 418,
     "metadata": {},
     "output_type": "execute_result"
    }
   ],
   "source": [
    "df.drop(labels=df.loc[df.language.isnull()].index, inplace=True)\n",
    "df.language.value_counts()"
   ]
  },
  {
   "cell_type": "code",
   "execution_count": 419,
   "metadata": {},
   "outputs": [
    {
     "data": {
      "text/html": [
       "<div>\n",
       "<style scoped>\n",
       "    .dataframe tbody tr th:only-of-type {\n",
       "        vertical-align: middle;\n",
       "    }\n",
       "\n",
       "    .dataframe tbody tr th {\n",
       "        vertical-align: top;\n",
       "    }\n",
       "\n",
       "    .dataframe thead th {\n",
       "        text-align: right;\n",
       "    }\n",
       "</style>\n",
       "<table border=\"1\" class=\"dataframe\">\n",
       "  <thead>\n",
       "    <tr style=\"text-align: right;\">\n",
       "      <th></th>\n",
       "      <th>customer_number</th>\n",
       "      <th>campaign_period_sales</th>\n",
       "      <th>historical_sales_volume</th>\n",
       "      <th>date_of_first_purchase</th>\n",
       "      <th>number_of_prior_year_transactions</th>\n",
       "      <th>do_not_direct_mail_solicit</th>\n",
       "      <th>do_not_email</th>\n",
       "      <th>do_not_telemarket</th>\n",
       "      <th>repurchase_method</th>\n",
       "      <th>last_transaction_channel</th>\n",
       "      <th>desk</th>\n",
       "      <th>executive_chair</th>\n",
       "      <th>standard_chair</th>\n",
       "      <th>monitor</th>\n",
       "      <th>printer</th>\n",
       "      <th>computer</th>\n",
       "      <th>insurance</th>\n",
       "      <th>toner</th>\n",
       "      <th>office_supplies</th>\n",
       "      <th>number_of_employees</th>\n",
       "      <th>language</th>\n",
       "    </tr>\n",
       "  </thead>\n",
       "  <tbody>\n",
       "    <tr>\n",
       "      <td>10802</td>\n",
       "      <td>24078364.0</td>\n",
       "      <td>3093.454000</td>\n",
       "      <td>6384889.056</td>\n",
       "      <td>1965-08-15</td>\n",
       "      <td>24.0</td>\n",
       "      <td>0.0</td>\n",
       "      <td>1.0</td>\n",
       "      <td>0.0</td>\n",
       "      <td>AUTO RENEW</td>\n",
       "      <td>AUTO RENEW</td>\n",
       "      <td>N</td>\n",
       "      <td>N</td>\n",
       "      <td>N</td>\n",
       "      <td>N</td>\n",
       "      <td>N</td>\n",
       "      <td>Y</td>\n",
       "      <td>Y</td>\n",
       "      <td>Y</td>\n",
       "      <td>Y</td>\n",
       "      <td>NaN</td>\n",
       "      <td>English</td>\n",
       "    </tr>\n",
       "    <tr>\n",
       "      <td>11865</td>\n",
       "      <td>26537607.0</td>\n",
       "      <td>234.146667</td>\n",
       "      <td>189658.800</td>\n",
       "      <td>2012-10-30</td>\n",
       "      <td>15.0</td>\n",
       "      <td>0.0</td>\n",
       "      <td>0.0</td>\n",
       "      <td>0.0</td>\n",
       "      <td>NOTICE</td>\n",
       "      <td>WEB</td>\n",
       "      <td>Y</td>\n",
       "      <td>N</td>\n",
       "      <td>N</td>\n",
       "      <td>N</td>\n",
       "      <td>N</td>\n",
       "      <td>N</td>\n",
       "      <td>N</td>\n",
       "      <td>N</td>\n",
       "      <td>Y</td>\n",
       "      <td>NaN</td>\n",
       "      <td>English</td>\n",
       "    </tr>\n",
       "  </tbody>\n",
       "</table>\n",
       "</div>"
      ],
      "text/plain": [
       "       customer_number  campaign_period_sales  historical_sales_volume  \\\n",
       "10802       24078364.0            3093.454000              6384889.056   \n",
       "11865       26537607.0             234.146667               189658.800   \n",
       "\n",
       "      date_of_first_purchase  number_of_prior_year_transactions  \\\n",
       "10802             1965-08-15                               24.0   \n",
       "11865             2012-10-30                               15.0   \n",
       "\n",
       "       do_not_direct_mail_solicit  do_not_email  do_not_telemarket  \\\n",
       "10802                         0.0           1.0                0.0   \n",
       "11865                         0.0           0.0                0.0   \n",
       "\n",
       "      repurchase_method last_transaction_channel desk executive_chair  \\\n",
       "10802        AUTO RENEW               AUTO RENEW    N               N   \n",
       "11865            NOTICE                      WEB    Y               N   \n",
       "\n",
       "      standard_chair monitor printer computer insurance toner office_supplies  \\\n",
       "10802              N       N       N        Y         Y     Y               Y   \n",
       "11865              N       N       N        N         N     N               Y   \n",
       "\n",
       "      number_of_employees language  \n",
       "10802                 NaN  English  \n",
       "11865                 NaN  English  "
      ]
     },
     "execution_count": 419,
     "metadata": {},
     "output_type": "execute_result"
    }
   ],
   "source": [
    "df.loc[df.number_of_employees.isnull()]"
   ]
  },
  {
   "cell_type": "code",
   "execution_count": 420,
   "metadata": {},
   "outputs": [
    {
     "data": {
      "text/plain": [
       "6-10       4775\n",
       "1-5        2455\n",
       "11-50      2033\n",
       "51-100     1264\n",
       "101-500     599\n",
       "500+        210\n",
       "             75\n",
       "Name: number_of_employees, dtype: int64"
      ]
     },
     "execution_count": 420,
     "metadata": {},
     "output_type": "execute_result"
    }
   ],
   "source": [
    "df.number_of_employees.value_counts()\n",
    "# we see we have empyt string"
   ]
  },
  {
   "cell_type": "code",
   "execution_count": 421,
   "metadata": {},
   "outputs": [],
   "source": [
    "idx= df.loc[df.number_of_employees.isnull()].index\n",
    "df.loc[idx, 'number_of_employees'] = ' '"
   ]
  },
  {
   "cell_type": "code",
   "execution_count": 422,
   "metadata": {},
   "outputs": [
    {
     "data": {
      "text/plain": [
       "0        False\n",
       "1        False\n",
       "2        False\n",
       "3        False\n",
       "5        False\n",
       "         ...  \n",
       "14939    False\n",
       "14941    False\n",
       "14945    False\n",
       "14946    False\n",
       "14947    False\n",
       "Name: number_of_employees, Length: 11413, dtype: bool"
      ]
     },
     "execution_count": 422,
     "metadata": {},
     "output_type": "execute_result"
    }
   ],
   "source": [
    "df.number_of_employees.str.contains(' ')"
   ]
  },
  {
   "cell_type": "code",
   "execution_count": 423,
   "metadata": {},
   "outputs": [
    {
     "name": "stdout",
     "output_type": "stream",
     "text": [
      "<class 'pandas.core.frame.DataFrame'>\n",
      "Int64Index: 11411 entries, 0 to 14947\n",
      "Data columns (total 21 columns):\n",
      "customer_number                      11411 non-null float64\n",
      "campaign_period_sales                11411 non-null float64\n",
      "historical_sales_volume              11411 non-null float64\n",
      "date_of_first_purchase               11411 non-null datetime64[ns]\n",
      "number_of_prior_year_transactions    11411 non-null float64\n",
      "do_not_direct_mail_solicit           11411 non-null float64\n",
      "do_not_email                         11411 non-null float64\n",
      "do_not_telemarket                    11411 non-null float64\n",
      "repurchase_method                    11411 non-null object\n",
      "last_transaction_channel             11411 non-null object\n",
      "desk                                 11411 non-null object\n",
      "executive_chair                      11411 non-null object\n",
      "standard_chair                       11411 non-null object\n",
      "monitor                              11411 non-null object\n",
      "printer                              11411 non-null object\n",
      "computer                             11411 non-null object\n",
      "insurance                            11411 non-null object\n",
      "toner                                11411 non-null object\n",
      "office_supplies                      11411 non-null object\n",
      "number_of_employees                  11411 non-null object\n",
      "language                             11411 non-null object\n",
      "dtypes: datetime64[ns](1), float64(7), object(13)\n",
      "memory usage: 1.9+ MB\n"
     ]
    }
   ],
   "source": [
    "idx_unknown_employees = (df.number_of_employees.str.contains(' '))\n",
    "# idx = (idx_language_none | idx_unknown_employees)\n",
    "df.drop(labels=df.loc[idx].index, axis=0).info()"
   ]
  },
  {
   "cell_type": "code",
   "execution_count": 424,
   "metadata": {},
   "outputs": [
    {
     "name": "stdout",
     "output_type": "stream",
     "text": [
      "<class 'pandas.core.frame.DataFrame'>\n",
      "Int64Index: 11336 entries, 0 to 14947\n",
      "Data columns (total 21 columns):\n",
      "customer_number                      11336 non-null float64\n",
      "campaign_period_sales                11336 non-null float64\n",
      "historical_sales_volume              11336 non-null float64\n",
      "date_of_first_purchase               11336 non-null datetime64[ns]\n",
      "number_of_prior_year_transactions    11336 non-null float64\n",
      "do_not_direct_mail_solicit           11336 non-null float64\n",
      "do_not_email                         11336 non-null float64\n",
      "do_not_telemarket                    11336 non-null float64\n",
      "repurchase_method                    11336 non-null object\n",
      "last_transaction_channel             11336 non-null object\n",
      "desk                                 11336 non-null object\n",
      "executive_chair                      11336 non-null object\n",
      "standard_chair                       11336 non-null object\n",
      "monitor                              11336 non-null object\n",
      "printer                              11336 non-null object\n",
      "computer                             11336 non-null object\n",
      "insurance                            11336 non-null object\n",
      "toner                                11336 non-null object\n",
      "office_supplies                      11336 non-null object\n",
      "number_of_employees                  11336 non-null object\n",
      "language                             11336 non-null object\n",
      "dtypes: datetime64[ns](1), float64(7), object(13)\n",
      "memory usage: 1.9+ MB\n"
     ]
    }
   ],
   "source": [
    "idx =(df.number_of_employees.str.contains(' '))\n",
    "df.drop(labels=df.loc[idx].index, inplace=True)\n",
    "df.info()"
   ]
  },
  {
   "cell_type": "code",
   "execution_count": 425,
   "metadata": {},
   "outputs": [
    {
     "data": {
      "text/plain": [
       "(11336, 21)"
      ]
     },
     "execution_count": 425,
     "metadata": {},
     "output_type": "execute_result"
    }
   ],
   "source": [
    "df.shape\n"
   ]
  },
  {
   "cell_type": "code",
   "execution_count": 426,
   "metadata": {},
   "outputs": [
    {
     "name": "stdout",
     "output_type": "stream",
     "text": [
      "repurchase_method \n",
      " NOTICE        8507\n",
      "AUTO RENEW    2829\n",
      "Name: repurchase_method, dtype: int64 \n",
      "-------------\n",
      "\n",
      "last_transaction_channel \n",
      " MAIL              5858\n",
      "AUTO RENEW        2183\n",
      "WEB               1808\n",
      "PHONE              726\n",
      "BRANCH (POS)       450\n",
      "BRANCH (PHONE)     291\n",
      "BILLING             12\n",
      "IT                   8\n",
      "Name: last_transaction_channel, dtype: int64 \n",
      "-------------\n",
      "\n",
      "desk \n",
      " N    10746\n",
      "Y      590\n",
      "Name: desk, dtype: int64 \n",
      "-------------\n",
      "\n",
      "executive_chair \n",
      " N    10528\n",
      "Y      808\n",
      "Name: executive_chair, dtype: int64 \n",
      "-------------\n",
      "\n",
      "standard_chair \n",
      " N    11239\n",
      "Y       97\n",
      "Name: standard_chair, dtype: int64 \n",
      "-------------\n",
      "\n",
      "monitor \n",
      " N    11235\n",
      "Y      101\n",
      "Name: monitor, dtype: int64 \n",
      "-------------\n",
      "\n",
      "printer \n",
      " N    11127\n",
      "Y      209\n",
      "Name: printer, dtype: int64 \n",
      "-------------\n",
      "\n",
      "computer \n",
      " N    11277\n",
      "Y       59\n",
      "Name: computer, dtype: int64 \n",
      "-------------\n",
      "\n",
      "insurance \n",
      " N    10151\n",
      "Y     1185\n",
      "Name: insurance, dtype: int64 \n",
      "-------------\n",
      "\n",
      "toner \n",
      " N    10682\n",
      "Y      654\n",
      "Name: toner, dtype: int64 \n",
      "-------------\n",
      "\n",
      "office_supplies \n",
      " Y    10736\n",
      "N      600\n",
      "Name: office_supplies, dtype: int64 \n",
      "-------------\n",
      "\n",
      "number_of_employees \n",
      " 6-10       4775\n",
      "1-5        2455\n",
      "11-50      2033\n",
      "51-100     1264\n",
      "101-500     599\n",
      "500+        210\n",
      "Name: number_of_employees, dtype: int64 \n",
      "-------------\n",
      "\n",
      "language \n",
      " English       10964\n",
      "Spanish          87\n",
      "Italian          44\n",
      "Portuguese       40\n",
      "Hindi            39\n",
      "Chinese          30\n",
      "Russian          24\n",
      "Hebrew           20\n",
      "Arabic           16\n",
      "German           15\n",
      "Greek            14\n",
      "Japanese         11\n",
      "Polish           10\n",
      "Vietnamese        9\n",
      "French            6\n",
      "Korean            4\n",
      "Thai              2\n",
      "Pashto            1\n",
      "Name: language, dtype: int64 \n",
      "-------------\n",
      "\n"
     ]
    }
   ],
   "source": [
    "for col in df.columns[-13:]:\n",
    "    print(col, '\\n', df[col].value_counts(), '\\n-------------\\n')"
   ]
  },
  {
   "cell_type": "markdown",
   "metadata": {},
   "source": [
    "## Let visualize some data"
   ]
  },
  {
   "cell_type": "markdown",
   "metadata": {},
   "source": [
    "### Distribution of Campaigni Period Sales"
   ]
  },
  {
   "cell_type": "code",
   "execution_count": 427,
   "metadata": {},
   "outputs": [],
   "source": [
    "def buy_or_not_buy(x):\n",
    "    if x > 0:\n",
    "        return 'Buy'\n",
    "    else:\n",
    "        return 'Not_Buy'"
   ]
  },
  {
   "cell_type": "code",
   "execution_count": 428,
   "metadata": {},
   "outputs": [
    {
     "data": {
      "text/html": [
       "<div>\n",
       "<style scoped>\n",
       "    .dataframe tbody tr th:only-of-type {\n",
       "        vertical-align: middle;\n",
       "    }\n",
       "\n",
       "    .dataframe tbody tr th {\n",
       "        vertical-align: top;\n",
       "    }\n",
       "\n",
       "    .dataframe thead th {\n",
       "        text-align: right;\n",
       "    }\n",
       "</style>\n",
       "<table border=\"1\" class=\"dataframe\">\n",
       "  <thead>\n",
       "    <tr style=\"text-align: right;\">\n",
       "      <th></th>\n",
       "      <th>customer_number</th>\n",
       "      <th>campaign_period_sales</th>\n",
       "      <th>historical_sales_volume</th>\n",
       "      <th>date_of_first_purchase</th>\n",
       "      <th>number_of_prior_year_transactions</th>\n",
       "      <th>do_not_direct_mail_solicit</th>\n",
       "      <th>do_not_email</th>\n",
       "      <th>do_not_telemarket</th>\n",
       "      <th>repurchase_method</th>\n",
       "      <th>last_transaction_channel</th>\n",
       "      <th>desk</th>\n",
       "      <th>executive_chair</th>\n",
       "      <th>standard_chair</th>\n",
       "      <th>monitor</th>\n",
       "      <th>printer</th>\n",
       "      <th>computer</th>\n",
       "      <th>insurance</th>\n",
       "      <th>toner</th>\n",
       "      <th>office_supplies</th>\n",
       "      <th>number_of_employees</th>\n",
       "      <th>language</th>\n",
       "      <th>made_purchase</th>\n",
       "    </tr>\n",
       "  </thead>\n",
       "  <tbody>\n",
       "    <tr>\n",
       "      <td>0</td>\n",
       "      <td>86734.0</td>\n",
       "      <td>238.704762</td>\n",
       "      <td>146803.428571</td>\n",
       "      <td>1968-10-01</td>\n",
       "      <td>15.0</td>\n",
       "      <td>0.0</td>\n",
       "      <td>0.0</td>\n",
       "      <td>0.0</td>\n",
       "      <td>AUTO RENEW</td>\n",
       "      <td>AUTO RENEW</td>\n",
       "      <td>N</td>\n",
       "      <td>N</td>\n",
       "      <td>N</td>\n",
       "      <td>N</td>\n",
       "      <td>N</td>\n",
       "      <td>N</td>\n",
       "      <td>Y</td>\n",
       "      <td>N</td>\n",
       "      <td>Y</td>\n",
       "      <td>6-10</td>\n",
       "      <td>English</td>\n",
       "      <td>Buy</td>\n",
       "    </tr>\n",
       "    <tr>\n",
       "      <td>1</td>\n",
       "      <td>97098.0</td>\n",
       "      <td>281.680000</td>\n",
       "      <td>439984.160000</td>\n",
       "      <td>1981-06-15</td>\n",
       "      <td>22.0</td>\n",
       "      <td>0.0</td>\n",
       "      <td>0.0</td>\n",
       "      <td>0.0</td>\n",
       "      <td>NOTICE</td>\n",
       "      <td>MAIL</td>\n",
       "      <td>N</td>\n",
       "      <td>N</td>\n",
       "      <td>N</td>\n",
       "      <td>N</td>\n",
       "      <td>N</td>\n",
       "      <td>N</td>\n",
       "      <td>N</td>\n",
       "      <td>N</td>\n",
       "      <td>Y</td>\n",
       "      <td>11-50</td>\n",
       "      <td>English</td>\n",
       "      <td>Buy</td>\n",
       "    </tr>\n",
       "    <tr>\n",
       "      <td>2</td>\n",
       "      <td>100836.0</td>\n",
       "      <td>432.857143</td>\n",
       "      <td>970465.714286</td>\n",
       "      <td>1962-11-01</td>\n",
       "      <td>19.0</td>\n",
       "      <td>0.0</td>\n",
       "      <td>0.0</td>\n",
       "      <td>0.0</td>\n",
       "      <td>NOTICE</td>\n",
       "      <td>MAIL</td>\n",
       "      <td>N</td>\n",
       "      <td>N</td>\n",
       "      <td>N</td>\n",
       "      <td>N</td>\n",
       "      <td>N</td>\n",
       "      <td>N</td>\n",
       "      <td>N</td>\n",
       "      <td>N</td>\n",
       "      <td>Y</td>\n",
       "      <td>6-10</td>\n",
       "      <td>English</td>\n",
       "      <td>Buy</td>\n",
       "    </tr>\n",
       "    <tr>\n",
       "      <td>3</td>\n",
       "      <td>116390.0</td>\n",
       "      <td>0.000000</td>\n",
       "      <td>230193.600000</td>\n",
       "      <td>1983-06-01</td>\n",
       "      <td>17.0</td>\n",
       "      <td>0.0</td>\n",
       "      <td>0.0</td>\n",
       "      <td>0.0</td>\n",
       "      <td>NOTICE</td>\n",
       "      <td>PHONE</td>\n",
       "      <td>N</td>\n",
       "      <td>N</td>\n",
       "      <td>N</td>\n",
       "      <td>N</td>\n",
       "      <td>N</td>\n",
       "      <td>N</td>\n",
       "      <td>N</td>\n",
       "      <td>N</td>\n",
       "      <td>Y</td>\n",
       "      <td>1-5</td>\n",
       "      <td>English</td>\n",
       "      <td>Not_Buy</td>\n",
       "    </tr>\n",
       "    <tr>\n",
       "      <td>5</td>\n",
       "      <td>148529.0</td>\n",
       "      <td>308.419048</td>\n",
       "      <td>182584.076190</td>\n",
       "      <td>1979-05-15</td>\n",
       "      <td>16.0</td>\n",
       "      <td>0.0</td>\n",
       "      <td>0.0</td>\n",
       "      <td>0.0</td>\n",
       "      <td>NOTICE</td>\n",
       "      <td>MAIL</td>\n",
       "      <td>N</td>\n",
       "      <td>N</td>\n",
       "      <td>N</td>\n",
       "      <td>N</td>\n",
       "      <td>N</td>\n",
       "      <td>N</td>\n",
       "      <td>N</td>\n",
       "      <td>Y</td>\n",
       "      <td>Y</td>\n",
       "      <td>6-10</td>\n",
       "      <td>English</td>\n",
       "      <td>Buy</td>\n",
       "    </tr>\n",
       "  </tbody>\n",
       "</table>\n",
       "</div>"
      ],
      "text/plain": [
       "   customer_number  campaign_period_sales  historical_sales_volume  \\\n",
       "0          86734.0             238.704762            146803.428571   \n",
       "1          97098.0             281.680000            439984.160000   \n",
       "2         100836.0             432.857143            970465.714286   \n",
       "3         116390.0               0.000000            230193.600000   \n",
       "5         148529.0             308.419048            182584.076190   \n",
       "\n",
       "  date_of_first_purchase  number_of_prior_year_transactions  \\\n",
       "0             1968-10-01                               15.0   \n",
       "1             1981-06-15                               22.0   \n",
       "2             1962-11-01                               19.0   \n",
       "3             1983-06-01                               17.0   \n",
       "5             1979-05-15                               16.0   \n",
       "\n",
       "   do_not_direct_mail_solicit  do_not_email  do_not_telemarket  \\\n",
       "0                         0.0           0.0                0.0   \n",
       "1                         0.0           0.0                0.0   \n",
       "2                         0.0           0.0                0.0   \n",
       "3                         0.0           0.0                0.0   \n",
       "5                         0.0           0.0                0.0   \n",
       "\n",
       "  repurchase_method last_transaction_channel desk executive_chair  \\\n",
       "0        AUTO RENEW               AUTO RENEW    N               N   \n",
       "1            NOTICE                     MAIL    N               N   \n",
       "2            NOTICE                     MAIL    N               N   \n",
       "3            NOTICE                    PHONE    N               N   \n",
       "5            NOTICE                     MAIL    N               N   \n",
       "\n",
       "  standard_chair monitor printer computer insurance toner office_supplies  \\\n",
       "0              N       N       N        N         Y     N               Y   \n",
       "1              N       N       N        N         N     N               Y   \n",
       "2              N       N       N        N         N     N               Y   \n",
       "3              N       N       N        N         N     N               Y   \n",
       "5              N       N       N        N         N     Y               Y   \n",
       "\n",
       "  number_of_employees language made_purchase  \n",
       "0                6-10  English           Buy  \n",
       "1               11-50  English           Buy  \n",
       "2                6-10  English           Buy  \n",
       "3                 1-5  English       Not_Buy  \n",
       "5                6-10  English           Buy  "
      ]
     },
     "execution_count": 428,
     "metadata": {},
     "output_type": "execute_result"
    }
   ],
   "source": [
    "df['made_purchase'] = df['campaign_period_sales'].apply(buy_or_not_buy)\n",
    "df.head()"
   ]
  },
  {
   "cell_type": "code",
   "execution_count": null,
   "metadata": {},
   "outputs": [],
   "source": []
  },
  {
   "cell_type": "code",
   "execution_count": 429,
   "metadata": {},
   "outputs": [
    {
     "data": {
      "text/plain": [
       "Not_Buy    8269\n",
       "Buy        3067\n",
       "Name: made_purchase, dtype: int64"
      ]
     },
     "execution_count": 429,
     "metadata": {},
     "output_type": "execute_result"
    }
   ],
   "source": [
    "df.made_purchase.value_counts()"
   ]
  },
  {
   "cell_type": "code",
   "execution_count": 430,
   "metadata": {},
   "outputs": [
    {
     "data": {
      "image/png": "[encoded data removed]",
      "text/plain": [
       "<Figure size 576x720 with 1 Axes>"
      ]
     },
     "metadata": {},
     "output_type": "display_data"
    }
   ],
   "source": [
    "plt.figure(figsize=(8,10))\n",
    "labels = [\"No_buy\", \"Buy\"]\n",
    "sizes = df.made_purchase.value_counts()\n",
    "# colors = ['gold', 'yellowgreen', 'lightcoral', 'lightskyblue']\n",
    "colors=[\"gold\", \"lightskyblue\"]\n",
    "explode = (0.1, 0)  # explode 1st slice\n",
    "\n",
    "# Plot\n",
    "plt.pie(sizes, explode=explode, labels=labels, colors=colors,\n",
    "autopct='%1.1f%%', shadow=True, startangle=140)\n",
    "plt.title(\"% of Customers who made sale vs who didn't made slae during campaign Period\")\n",
    "\n",
    "plt.axis('equal')\n",
    "plt.show()"
   ]
  },
  {
   "cell_type": "code",
   "execution_count": 431,
   "metadata": {},
   "outputs": [
    {
     "data": {
      "image/png": "[encoded data removed]",
      "text/plain": [
       "<Figure size 576x720 with 1 Axes>"
      ]
     },
     "metadata": {},
     "output_type": "display_data"
    }
   ],
   "source": [
    "plt.figure(figsize=(8,10))\n",
    "labels = [\"English\", \"Spanish\", \"Italian\", \"Portuguese\", \"Hindi\", \"Chinese\", \"Russian\", \"Hebrew\", \"Arabic\", \"German\", \n",
    "                \"Greek\", \"Japanese\", \"Polish\", \"Vietnamese\", \"French\", \"Korean\", \"Thai\", \"Pashto\"]\n",
    "sizes = df.language.value_counts()\n",
    "# colors = ['gold', 'yellowgreen', 'lightcoral', 'lightskyblue']\n",
    "colors=[\"blue\", \"lightskyblue\", \"green\", \"red\", \"blue\", \"red\", \"gold\", \"lightskyblue\",\n",
    "                \"lightcoral\", \"gold\", \"lightskyblue\", \"lightcoral\", \"green\", \"blue\", \"red\", \"gold\", \n",
    "                \"green\", \"lightskyblue\"]\n",
    "explode = (0.1, 0, 0, 0.1, 0, 0, 0.1, 0, 0, 0.1, 0, 0, 0.1, 0, 0, 0.1, 0, 0)  # explode 1st slice\n",
    "\n",
    "# Plot\n",
    "plt.pie(sizes, explode=explode, labels=labels, colors=colors,\n",
    "autopct='%1.1f%%', shadow=True, startangle=140)\n",
    "\n",
    "plt.title(\"% of Languages of communication during campaign Period\")\n",
    "\n",
    "plt.axis('equal')\n",
    "plt.show()"
   ]
  },
  {
   "cell_type": "markdown",
   "metadata": {},
   "source": [
    "## Visualize some variable contribution to the Sale"
   ]
  },
  {
   "cell_type": "code",
   "execution_count": 432,
   "metadata": {},
   "outputs": [
    {
     "data": {
      "image/png": "[encoded data removed]",
      "text/plain": [
       "<Figure size 1440x576 with 1 Axes>"
      ]
     },
     "metadata": {},
     "output_type": "display_data"
    }
   ],
   "source": [
    "# Calculate Type Percents\n",
    "\n",
    "type_percents = 100 * df.groupby([\"repurchase_method\"]).sum()[\"campaign_period_sales\"] / df[\"campaign_period_sales\"].sum()\n",
    "\n",
    "plt.figure(figsize=(20,8))\n",
    "# Build Pie Chart\n",
    "plt.pie(type_percents, \n",
    "        labels=[\"NOTICE\", \"AUTO RENEW\"], \n",
    "        colors=[\"gold\", \"lightskyblue\"], \n",
    "        explode=[0, 0.1], \n",
    "        autopct='%1.1f%%', \n",
    "        shadow=True, startangle=150)\n",
    "plt.title(\"% of Campaign Period Sales by Repurchase Method\")\n",
    "\n",
    "# Save Figure\n",
    "# plt.savefig(\"analysis/Fig2.png\")\n",
    "\n",
    "# Show Figure\n",
    "plt.show()"
   ]
  },
  {
   "cell_type": "code",
   "execution_count": null,
   "metadata": {},
   "outputs": [],
   "source": []
  },
  {
   "cell_type": "markdown",
   "metadata": {},
   "source": [
    "* It seems that most of the customers made Auto Renewal during their purchase."
   ]
  },
  {
   "cell_type": "code",
   "execution_count": 433,
   "metadata": {},
   "outputs": [],
   "source": [
    "paid = df.loc[df['campaign_period_sales']>0]"
   ]
  },
  {
   "cell_type": "code",
   "execution_count": 434,
   "metadata": {},
   "outputs": [
    {
     "data": {
      "text/plain": [
       "English       10964\n",
       "Spanish          87\n",
       "Italian          44\n",
       "Portuguese       40\n",
       "Hindi            39\n",
       "Chinese          30\n",
       "Russian          24\n",
       "Hebrew           20\n",
       "Arabic           16\n",
       "German           15\n",
       "Greek            14\n",
       "Japanese         11\n",
       "Polish           10\n",
       "Vietnamese        9\n",
       "French            6\n",
       "Korean            4\n",
       "Thai              2\n",
       "Pashto            1\n",
       "Name: language, dtype: int64"
      ]
     },
     "execution_count": 434,
     "metadata": {},
     "output_type": "execute_result"
    }
   ],
   "source": [
    "df.language.value_counts()"
   ]
  },
  {
   "cell_type": "code",
   "execution_count": 435,
   "metadata": {},
   "outputs": [
    {
     "data": {
      "text/plain": [
       "English       2980\n",
       "Spanish         19\n",
       "Portuguese      10\n",
       "Italian          9\n",
       "Greek            6\n",
       "Chinese          6\n",
       "Hebrew           6\n",
       "Arabic           5\n",
       "Russian          5\n",
       "Hindi            5\n",
       "Japanese         4\n",
       "German           4\n",
       "Polish           2\n",
       "Vietnamese       2\n",
       "French           2\n",
       "Thai             1\n",
       "Pashto           1\n",
       "Name: language, dtype: int64"
      ]
     },
     "execution_count": 435,
     "metadata": {},
     "output_type": "execute_result"
    }
   ],
   "source": [
    "paid.language.value_counts()"
   ]
  },
  {
   "cell_type": "markdown",
   "metadata": {},
   "source": [
    "* **It seem that Korean language had not contribute for the sale during the campaign.**\n"
   ]
  },
  {
   "cell_type": "code",
   "execution_count": 436,
   "metadata": {},
   "outputs": [
    {
     "data": {
      "image/png": "[encoded data removed]",
      "text/plain": [
       "<Figure size 1080x576 with 1 Axes>"
      ]
     },
     "metadata": {},
     "output_type": "display_data"
    }
   ],
   "source": [
    "# Calculate share Percents\n",
    "\n",
    "lang_percents = 100 * paid.groupby([\"language\"]).sum()[\"campaign_period_sales\"] / paid[\"campaign_period_sales\"].sum()\n",
    "\n",
    "plt.figure(figsize=(15,8))\n",
    "# Build Pie Chart\n",
    "plt.pie(lang_percents, \n",
    "        labels=lang_percents.index,\n",
    "#         labels=[\"English\", \"Spanish\", \"Portuguese\", \"Italian\", \"Greek\", \"Chinese\", \"Hebrew\", \"Arabic\", \"Russian\", \"Hindi\",  \"Japanese\", \"German\", \"Polish\", \"Vietnamese\", \"French\", \"Thai\", \"Pashto\"], \n",
    "        colors=[\"green\", \"lightskyblue\", \"green\", \"red\", \"blue\", \"red\", \"green\", \"lightskyblue\", \"green\", \"red\", \"blue\", \"red\", \"gold\", \"lightskyblue\",\"lightcoral\", \"gold\", \"green\"], \n",
    "        explode=[0, 0, 0.1, 0, 0, 0.1, 0, 0, 0.1, 0, 0, 0.1, 0, 0, 0.1, 0, 0], \n",
    "        autopct='%1.1f%%', \n",
    "        shadow=True, startangle=150)\n",
    "plt.title(\"% of Campaign period Sales by language spoken during tele-Campaign\")\n",
    "\n",
    "# Show Figure\n",
    "plt.show()\n"
   ]
  },
  {
   "cell_type": "markdown",
   "metadata": {},
   "source": [
    "### English language has contribute to about 97% of the sale during the campaign."
   ]
  },
  {
   "cell_type": "markdown",
   "metadata": {},
   "source": [
    "----------"
   ]
  },
  {
   "cell_type": "markdown",
   "metadata": {},
   "source": [
    "## Visualizing Coorelations\n"
   ]
  },
  {
   "cell_type": "markdown",
   "metadata": {},
   "source": [
    "### Using Heat Map "
   ]
  },
  {
   "cell_type": "code",
   "execution_count": null,
   "metadata": {},
   "outputs": [],
   "source": []
  },
  {
   "cell_type": "code",
   "execution_count": 437,
   "metadata": {},
   "outputs": [
    {
     "data": {
      "text/plain": [
       "<matplotlib.axes._subplots.AxesSubplot at 0x1a284ae4d0>"
      ]
     },
     "execution_count": 437,
     "metadata": {},
     "output_type": "execute_result"
    },
    {
     "data": {
      "image/png": "[encoded data removed]",
      "text/plain": [
       "<Figure size 432x288 with 2 Axes>"
      ]
     },
     "metadata": {
      "needs_background": "light"
     },
     "output_type": "display_data"
    }
   ],
   "source": [
    "# using nummerical varaiables with whole data\n",
    "sns.heatmap(df.corr(), annot=True)"
   ]
  },
  {
   "cell_type": "code",
   "execution_count": 438,
   "metadata": {},
   "outputs": [
    {
     "data": {
      "text/plain": [
       "<matplotlib.axes._subplots.AxesSubplot at 0x1a268d1210>"
      ]
     },
     "execution_count": 438,
     "metadata": {},
     "output_type": "execute_result"
    },
    {
     "data": {
      "image/png": "[encoded data removed]",
      "text/plain": [
       "<Figure size 432x288 with 2 Axes>"
      ]
     },
     "metadata": {
      "needs_background": "light"
     },
     "output_type": "display_data"
    }
   ],
   "source": [
    "# using nummerical varaiables with the data on thses who made purchase\n",
    "sns.heatmap(paid.corr(), annot=True)"
   ]
  },
  {
   "cell_type": "markdown",
   "metadata": {},
   "source": [
    "* **It seems that `campaign period sales` is highly correlated with `Historical sales volume` ~ `71%`**"
   ]
  },
  {
   "cell_type": "code",
   "execution_count": 439,
   "metadata": {},
   "outputs": [],
   "source": [
    "# explore more features\n",
    "feature_cols = ['historical_sales_volume',\n",
    "        'number_of_prior_year_transactions',\n",
    "       'do_not_direct_mail_solicit', 'do_not_email', 'do_not_telemarket']"
   ]
  },
  {
   "cell_type": "code",
   "execution_count": 440,
   "metadata": {},
   "outputs": [
    {
     "data": {
      "text/plain": [
       "<seaborn.axisgrid.PairGrid at 0x1a2f90b150>"
      ]
     },
     "execution_count": 440,
     "metadata": {},
     "output_type": "execute_result"
    },
    {
     "data": {
      "image/png": "[encoded data removed]",
      "text/plain": [
       "<Figure size 900x180 with 5 Axes>"
      ]
     },
     "metadata": {
      "needs_background": "light"
     },
     "output_type": "display_data"
    }
   ],
   "source": [
    "# multiple scatter plots in Seaborn\n",
    "sns.pairplot(paid, x_vars=feature_cols, y_vars='campaign_period_sales', kind='reg')"
   ]
  },
  {
   "cell_type": "markdown",
   "metadata": {},
   "source": [
    "* **Linear regression plot still confirming that there is a high correlation between the `campaign period sales` and `hostorical sale volume`.**"
   ]
  },
  {
   "cell_type": "markdown",
   "metadata": {},
   "source": [
    "## Building a linear regression model"
   ]
  },
  {
   "cell_type": "code",
   "execution_count": 441,
   "metadata": {},
   "outputs": [],
   "source": [
    "# create X and y\n",
    "feature_cols = ['historical_sales_volume']\n",
    "X = paid[feature_cols]\n",
    "y = paid.campaign_period_sales"
   ]
  },
  {
   "cell_type": "code",
   "execution_count": 442,
   "metadata": {},
   "outputs": [],
   "source": [
    "from sklearn.model_selection import train_test_split\n",
    "X_train,X_test,y_train,y_test=train_test_split(X,y,test_size=0.3,random_state=123)"
   ]
  },
  {
   "cell_type": "code",
   "execution_count": 443,
   "metadata": {},
   "outputs": [
    {
     "data": {
      "text/plain": [
       "LinearRegression(copy_X=True, fit_intercept=True, n_jobs=None, normalize=False)"
      ]
     },
     "execution_count": 443,
     "metadata": {},
     "output_type": "execute_result"
    }
   ],
   "source": [
    "# import, instantiate and fit the model\n",
    "from sklearn.linear_model import LinearRegression\n",
    "linreg = LinearRegression()\n",
    "linreg.fit(X_train, y_train)"
   ]
  },
  {
   "cell_type": "markdown",
   "metadata": {},
   "source": [
    "### Predicting on test dataset"
   ]
  },
  {
   "cell_type": "code",
   "execution_count": 444,
   "metadata": {},
   "outputs": [],
   "source": [
    "lin_test_pred = linreg.predict(X_test)"
   ]
  },
  {
   "cell_type": "code",
   "execution_count": 445,
   "metadata": {},
   "outputs": [
    {
     "name": "stdout",
     "output_type": "stream",
     "text": [
      "195.826821322081\n",
      "[0.00039449]\n"
     ]
    }
   ],
   "source": [
    "# print the coefficients\n",
    "print (linreg.intercept_)\n",
    "print (linreg.coef_)"
   ]
  },
  {
   "cell_type": "markdown",
   "metadata": {},
   "source": [
    "### Evaluate the model"
   ]
  },
  {
   "cell_type": "markdown",
   "metadata": {},
   "source": [
    "### Sum of Squared Error (SSE)"
   ]
  },
  {
   "cell_type": "code",
   "execution_count": 446,
   "metadata": {},
   "outputs": [
    {
     "data": {
      "text/plain": [
       "(921,)"
      ]
     },
     "execution_count": 446,
     "metadata": {},
     "output_type": "execute_result"
    }
   ],
   "source": [
    "y_test.shape\n"
   ]
  },
  {
   "cell_type": "markdown",
   "metadata": {},
   "source": [
    "### calculate the SSE."
   ]
  },
  {
   "cell_type": "code",
   "execution_count": 447,
   "metadata": {},
   "outputs": [
    {
     "data": {
      "text/plain": [
       "63877927.70246574"
      ]
     },
     "execution_count": 447,
     "metadata": {},
     "output_type": "execute_result"
    }
   ],
   "source": [
    "SSE = 921*(mean_squared_error(y_test,lin_test_pred))\n",
    "SSE"
   ]
  },
  {
   "cell_type": "markdown",
   "metadata": {},
   "source": [
    "### Mean Squared Error (MSE)"
   ]
  },
  {
   "cell_type": "code",
   "execution_count": 448,
   "metadata": {},
   "outputs": [
    {
     "data": {
      "text/plain": [
       "69357.14191364359"
      ]
     },
     "execution_count": 448,
     "metadata": {},
     "output_type": "execute_result"
    }
   ],
   "source": [
    "mean_squared_error(y_test,lin_test_pred)"
   ]
  },
  {
   "cell_type": "markdown",
   "metadata": {},
   "source": [
    "### Root Mean Squared Error (RMSE)"
   ]
  },
  {
   "cell_type": "code",
   "execution_count": 449,
   "metadata": {},
   "outputs": [
    {
     "data": {
      "text/plain": [
       "263.3574413485284"
      ]
     },
     "execution_count": 449,
     "metadata": {},
     "output_type": "execute_result"
    }
   ],
   "source": [
    "np.sqrt(mean_squared_error(y_test,lin_test_pred))"
   ]
  },
  {
   "cell_type": "markdown",
   "metadata": {},
   "source": [
    "### Mean Absolute Error (MAE)"
   ]
  },
  {
   "cell_type": "code",
   "execution_count": 450,
   "metadata": {},
   "outputs": [
    {
     "data": {
      "text/plain": [
       "151.5039105235969"
      ]
     },
     "execution_count": 450,
     "metadata": {},
     "output_type": "execute_result"
    }
   ],
   "source": [
    "mean_absolute_error(y_test,lin_test_pred)\n"
   ]
  },
  {
   "cell_type": "markdown",
   "metadata": {},
   "source": [
    "* It seems that Linear Regression with one variable is not doing well!"
   ]
  },
  {
   "cell_type": "markdown",
   "metadata": {},
   "source": [
    "## Using more Features"
   ]
  },
  {
   "cell_type": "code",
   "execution_count": 451,
   "metadata": {},
   "outputs": [],
   "source": [
    "# explore more features\n",
    "more_feature_cols = ['historical_sales_volume',\n",
    "        'number_of_prior_year_transactions',\n",
    "       'do_not_direct_mail_solicit', 'do_not_email', 'do_not_telemarket']\n",
    "X = paid[more_feature_cols]\n",
    "y = paid.campaign_period_sales"
   ]
  },
  {
   "cell_type": "code",
   "execution_count": 452,
   "metadata": {},
   "outputs": [],
   "source": [
    "X_train,X_test,y_train,y_test=train_test_split(X,y,test_size=0.3,random_state=123)"
   ]
  },
  {
   "cell_type": "code",
   "execution_count": 453,
   "metadata": {},
   "outputs": [
    {
     "data": {
      "text/plain": [
       "LinearRegression(copy_X=True, fit_intercept=True, n_jobs=None, normalize=False)"
      ]
     },
     "execution_count": 453,
     "metadata": {},
     "output_type": "execute_result"
    }
   ],
   "source": [
    "linreg_mv = LinearRegression()\n",
    "linreg_mv.fit(X_train, y_train)"
   ]
  },
  {
   "cell_type": "code",
   "execution_count": 454,
   "metadata": {},
   "outputs": [],
   "source": [
    "lin_test_pred = linreg_mv.predict(X_test)"
   ]
  },
  {
   "cell_type": "code",
   "execution_count": 455,
   "metadata": {},
   "outputs": [
    {
     "name": "stdout",
     "output_type": "stream",
     "text": [
      "MSE: 63851.74266610311\n",
      "RMSE: 252.68902363597655\n",
      "MAE: 145.29105806721125\n"
     ]
    }
   ],
   "source": [
    "print(\"MSE:\", mean_squared_error(y_test,lin_test_pred))\n",
    "\n",
    "print(\"RMSE:\", np.sqrt(mean_squared_error(y_test,lin_test_pred)))\n",
    "print(\"MAE:\", mean_absolute_error(y_test,lin_test_pred))\n"
   ]
  },
  {
   "cell_type": "code",
   "execution_count": 456,
   "metadata": {},
   "outputs": [
    {
     "data": {
      "text/plain": [
       "6-10       4775\n",
       "1-5        2455\n",
       "11-50      2033\n",
       "51-100     1264\n",
       "101-500     599\n",
       "500+        210\n",
       "Name: number_of_employees, dtype: int64"
      ]
     },
     "execution_count": 456,
     "metadata": {},
     "output_type": "execute_result"
    }
   ],
   "source": [
    "# let include Number of employees\n",
    "\n",
    "df['number_of_employees'].value_counts()"
   ]
  },
  {
   "cell_type": "code",
   "execution_count": 457,
   "metadata": {},
   "outputs": [],
   "source": [
    "def convert_fill_numemploy(val):\n",
    "    if val == \"1-5\": return 3\n",
    "    if val == \"6-20\": return 8\n",
    "    if val == \"11-50\": return 30\n",
    "    if val == \"51-100\": return 75\n",
    "    if val == \"1001-500\": return 300\n",
    "    if val == \"500+\": return 500\n",
    "    else: return np.nan\n",
    "    "
   ]
  },
  {
   "cell_type": "code",
   "execution_count": 458,
   "metadata": {},
   "outputs": [],
   "source": [
    "df['num_employee_converted'] = df['number_of_employees'].apply(convert_fill_numemploy)"
   ]
  },
  {
   "cell_type": "code",
   "execution_count": 459,
   "metadata": {},
   "outputs": [],
   "source": [
    "df.loc[df['num_employee_converted'].isnull(), 'num_employee_converted'] = 30.0"
   ]
  },
  {
   "cell_type": "code",
   "execution_count": 460,
   "metadata": {},
   "outputs": [
    {
     "data": {
      "text/plain": [
       "Not_Buy    0.729446\n",
       "Buy        0.270554\n",
       "Name: made_purchase, dtype: float64"
      ]
     },
     "execution_count": 460,
     "metadata": {},
     "output_type": "execute_result"
    }
   ],
   "source": [
    "df['made_purchase'].value_counts(normalize=True)"
   ]
  },
  {
   "cell_type": "code",
   "execution_count": 461,
   "metadata": {},
   "outputs": [
    {
     "name": "stdout",
     "output_type": "stream",
     "text": [
      "<class 'pandas.core.frame.DataFrame'>\n",
      "Int64Index: 0 entries\n",
      "Data columns (total 5 columns):\n",
      "historical_sales_volume              0 non-null float64\n",
      "number_of_prior_year_transactions    0 non-null float64\n",
      "year_of_first_purchase               0 non-null float64\n",
      "made_purchase                        0 non-null object\n",
      "num_employee_converted               0 non-null float64\n",
      "dtypes: float64(4), object(1)\n",
      "memory usage: 0.0+ bytes\n"
     ]
    },
    {
     "name": "stderr",
     "output_type": "stream",
     "text": [
      "/opt/anaconda3/lib/python3.7/site-packages/pandas/core/indexing.py:1418: FutureWarning: \n",
      "Passing list-likes to .loc or [] with any missing label will raise\n",
      "KeyError in the future, you can use .reindex() as an alternative.\n",
      "\n",
      "See the documentation here:\n",
      "https://pandas.pydata.org/pandas-docs/stable/user_guide/indexing.html#deprecate-loc-reindex-listlike\n",
      "  return self._getitem_tuple(key)\n"
     ]
    }
   ],
   "source": [
    "clean = df.loc[:, ['historical_sales_volume', 'number_of_prior_year_transactions', 'year_of_first_purchase', 'made_purchase', 'num_employee_converted']].dropna()\n",
    "clean.info()"
   ]
  },
  {
   "cell_type": "code",
   "execution_count": 462,
   "metadata": {},
   "outputs": [],
   "source": [
    "X = paid.loc[:,['historical_sales_volume',\n",
    "        'number_of_prior_year_transactions',\n",
    "       'repurchase_method', 'last_transaction_channel', 'number_of_employees',\n",
    "       'language']]\n",
    "y = paid['campaign_period_sales']"
   ]
  },
  {
   "cell_type": "code",
   "execution_count": 463,
   "metadata": {},
   "outputs": [
    {
     "data": {
      "text/plain": [
       "MAIL              1593\n",
       "AUTO RENEW         606\n",
       "WEB                468\n",
       "PHONE              175\n",
       "BRANCH (POS)       127\n",
       "BRANCH (PHONE)      91\n",
       "BILLING              5\n",
       "IT                   2\n",
       "Name: last_transaction_channel, dtype: int64"
      ]
     },
     "execution_count": 463,
     "metadata": {},
     "output_type": "execute_result"
    }
   ],
   "source": [
    "X['last_transaction_channel'] = X['last_transaction_channel'].fillna('unknow')\n",
    "X['last_transaction_channel'].value_counts()"
   ]
  },
  {
   "cell_type": "code",
   "execution_count": null,
   "metadata": {},
   "outputs": [],
   "source": []
  },
  {
   "cell_type": "code",
   "execution_count": 464,
   "metadata": {},
   "outputs": [],
   "source": [
    "X['number_of_employees'] = X['number_of_employees'].apply(convert_fill_numemploy)"
   ]
  },
  {
   "cell_type": "code",
   "execution_count": 465,
   "metadata": {},
   "outputs": [],
   "source": [
    "X['number_of_employees'] = X['number_of_employees'].fillna(X['number_of_employees'].median())\n"
   ]
  },
  {
   "cell_type": "code",
   "execution_count": 466,
   "metadata": {},
   "outputs": [],
   "source": [
    "def english_or_not(x):\n",
    "    if x =='English':\n",
    "        return 1\n",
    "    else:\n",
    "        return 0\n",
    "    "
   ]
  },
  {
   "cell_type": "code",
   "execution_count": 467,
   "metadata": {},
   "outputs": [],
   "source": [
    "X['language'] = X['language'].apply(english_or_not)"
   ]
  },
  {
   "cell_type": "code",
   "execution_count": 468,
   "metadata": {},
   "outputs": [],
   "source": [
    "X = pd.get_dummies(X)"
   ]
  },
  {
   "cell_type": "code",
   "execution_count": 469,
   "metadata": {},
   "outputs": [],
   "source": [
    "from sklearn.model_selection import train_test_split, GridSearchCV, cross_val_score\n",
    "from sklearn.linear_model import LogisticRegression\n",
    "from sklearn.tree import DecisionTreeClassifier\n",
    "from sklearn.ensemble import RandomForestClassifier"
   ]
  },
  {
   "cell_type": "code",
   "execution_count": null,
   "metadata": {},
   "outputs": [],
   "source": []
  },
  {
   "cell_type": "code",
   "execution_count": 470,
   "metadata": {},
   "outputs": [],
   "source": [
    "X_train, X_test, y_train, y_test = train_test_split(X,y)\n",
    "lr = LinearRegression()"
   ]
  },
  {
   "cell_type": "code",
   "execution_count": 471,
   "metadata": {},
   "outputs": [
    {
     "data": {
      "text/plain": [
       "LinearRegression(copy_X=True, fit_intercept=True, n_jobs=None, normalize=False)"
      ]
     },
     "execution_count": 471,
     "metadata": {},
     "output_type": "execute_result"
    }
   ],
   "source": [
    "lr.fit(X_train, y_train)\n"
   ]
  },
  {
   "cell_type": "code",
   "execution_count": 472,
   "metadata": {},
   "outputs": [
    {
     "data": {
      "text/plain": [
       "0.6629061035709832"
      ]
     },
     "execution_count": 472,
     "metadata": {},
     "output_type": "execute_result"
    }
   ],
   "source": [
    "lr.score(X_test, y_test)"
   ]
  },
  {
   "cell_type": "code",
   "execution_count": 473,
   "metadata": {},
   "outputs": [],
   "source": [
    "tree = DecisionTreeClassifier()"
   ]
  },
  {
   "cell_type": "code",
   "execution_count": 482,
   "metadata": {},
   "outputs": [
    {
     "ename": "ValueError",
     "evalue": "The truth value of a Series is ambiguous. Use a.empty, a.bool(), a.item(), a.any() or a.all().",
     "output_type": "error",
     "traceback": [
      "\u001b[0;31m---------------------------------------------------------------------------\u001b[0m",
      "\u001b[0;31mValueError\u001b[0m                                Traceback (most recent call last)",
      "\u001b[0;32m<ipython-input-482-f925d8a96d8e>\u001b[0m in \u001b[0;36m<module>\u001b[0;34m\u001b[0m\n\u001b[0;32m----> 1\u001b[0;31m \u001b[0;32mif\u001b[0m \u001b[0my_train\u001b[0m \u001b[0;32mnot\u001b[0m \u001b[0;32min\u001b[0m \u001b[0;34m[\u001b[0m\u001b[0;34m'binary'\u001b[0m\u001b[0;34m,\u001b[0m \u001b[0;34m'multiclass'\u001b[0m\u001b[0;34m,\u001b[0m \u001b[0;34m'multiclass-multioutput'\u001b[0m\u001b[0;34m,\u001b[0m\u001b[0;34m'multilabel-indicator'\u001b[0m\u001b[0;34m,\u001b[0m \u001b[0;34m'multilabel-sequences'\u001b[0m\u001b[0;34m]\u001b[0m\u001b[0;34m:\u001b[0m\u001b[0;34m\u001b[0m\u001b[0;34m\u001b[0m\u001b[0m\n\u001b[0m\u001b[1;32m      2\u001b[0m \u001b[0;34m\u001b[0m\u001b[0m\n\u001b[1;32m      3\u001b[0m     \u001b[0;32mraise\u001b[0m \u001b[0mValueError\u001b[0m\u001b[0;34m(\u001b[0m\u001b[0;34m\"Unknown label type: %r\"\u001b[0m \u001b[0;34m%\u001b[0m \u001b[0my_train\u001b[0m\u001b[0;34m)\u001b[0m\u001b[0;34m\u001b[0m\u001b[0;34m\u001b[0m\u001b[0m\n\u001b[1;32m      4\u001b[0m \u001b[0;34m\u001b[0m\u001b[0m\n\u001b[1;32m      5\u001b[0m \u001b[0;34m\u001b[0m\u001b[0m\n",
      "\u001b[0;32m/opt/anaconda3/lib/python3.7/site-packages/pandas/core/generic.py\u001b[0m in \u001b[0;36m__nonzero__\u001b[0;34m(self)\u001b[0m\n\u001b[1;32m   1553\u001b[0m             \u001b[0;34m\"The truth value of a {0} is ambiguous. \"\u001b[0m\u001b[0;34m\u001b[0m\u001b[0;34m\u001b[0m\u001b[0m\n\u001b[1;32m   1554\u001b[0m             \"Use a.empty, a.bool(), a.item(), a.any() or a.all().\".format(\n\u001b[0;32m-> 1555\u001b[0;31m                 \u001b[0mself\u001b[0m\u001b[0;34m.\u001b[0m\u001b[0m__class__\u001b[0m\u001b[0;34m.\u001b[0m\u001b[0m__name__\u001b[0m\u001b[0;34m\u001b[0m\u001b[0;34m\u001b[0m\u001b[0m\n\u001b[0m\u001b[1;32m   1556\u001b[0m             )\n\u001b[1;32m   1557\u001b[0m         )\n",
      "\u001b[0;31mValueError\u001b[0m: The truth value of a Series is ambiguous. Use a.empty, a.bool(), a.item(), a.any() or a.all()."
     ]
    }
   ],
   "source": [
    "\n",
    "    "
   ]
  },
  {
   "cell_type": "code",
   "execution_count": null,
   "metadata": {},
   "outputs": [],
   "source": []
  },
  {
   "cell_type": "code",
   "execution_count": 181,
   "metadata": {},
   "outputs": [
    {
     "data": {
      "text/plain": [
       "Index(['customer_number', 'campaign_period_sales', 'historical_sales_volume',\n",
       "       'date_of_first_purchase', 'number_of_prior_year_transactions',\n",
       "       'do_not_direct_mail_solicit', 'do_not_email', 'do_not_telemarket',\n",
       "       'repurchase_method', 'last_transaction_channel', 'desk',\n",
       "       'executive_chair', 'standard_chair', 'monitor', 'printer', 'computer',\n",
       "       'insurance', 'toner', 'office_supplies', 'number_of_employees',\n",
       "       'language', 'made_purchase'],\n",
       "      dtype='object')"
      ]
     },
     "execution_count": 181,
     "metadata": {},
     "output_type": "execute_result"
    }
   ],
   "source": [
    "paid.columns"
   ]
  },
  {
   "cell_type": "code",
   "execution_count": null,
   "metadata": {},
   "outputs": [],
   "source": [
    "# It seems that those who were Portuguese speakers are those who made more purchase "
   ]
  },
  {
   "cell_type": "code",
   "execution_count": 143,
   "metadata": {},
   "outputs": [
    {
     "data": {
      "text/plain": [
       "<matplotlib.axes._subplots.AxesSubplot at 0x1a20c0c4d0>"
      ]
     },
     "execution_count": 143,
     "metadata": {},
     "output_type": "execute_result"
    },
    {
     "data": {
      "image/png": "[encoded data removed]",
      "text/plain": [
       "<Figure size 432x288 with 1 Axes>"
      ]
     },
     "metadata": {
      "needs_background": "light"
     },
     "output_type": "display_data"
    }
   ],
   "source": [
    "df.loc[df['campaign_period_sales']>0, 'campaign_period_sales'].hist()"
   ]
  },
  {
   "cell_type": "code",
   "execution_count": 144,
   "metadata": {},
   "outputs": [
    {
     "data": {
      "text/html": [
       "<div>\n",
       "<style scoped>\n",
       "    .dataframe tbody tr th:only-of-type {\n",
       "        vertical-align: middle;\n",
       "    }\n",
       "\n",
       "    .dataframe tbody tr th {\n",
       "        vertical-align: top;\n",
       "    }\n",
       "\n",
       "    .dataframe thead th {\n",
       "        text-align: right;\n",
       "    }\n",
       "</style>\n",
       "<table border=\"1\" class=\"dataframe\">\n",
       "  <thead>\n",
       "    <tr style=\"text-align: right;\">\n",
       "      <th></th>\n",
       "      <th>customer_number</th>\n",
       "      <th>campaign_period_sales</th>\n",
       "      <th>historical_sales_volume</th>\n",
       "      <th>number_of_prior_year_transactions</th>\n",
       "      <th>do_not_direct_mail_solicit</th>\n",
       "      <th>do_not_email</th>\n",
       "      <th>do_not_telemarket</th>\n",
       "    </tr>\n",
       "  </thead>\n",
       "  <tbody>\n",
       "    <tr>\n",
       "      <td>count</td>\n",
       "      <td>1.133600e+04</td>\n",
       "      <td>11336.000000</td>\n",
       "      <td>1.133600e+04</td>\n",
       "      <td>11336.000000</td>\n",
       "      <td>11336.000000</td>\n",
       "      <td>11336.000000</td>\n",
       "      <td>11336.000000</td>\n",
       "    </tr>\n",
       "    <tr>\n",
       "      <td>mean</td>\n",
       "      <td>1.688645e+07</td>\n",
       "      <td>107.227464</td>\n",
       "      <td>5.607041e+05</td>\n",
       "      <td>16.551076</td>\n",
       "      <td>0.089185</td>\n",
       "      <td>0.196454</td>\n",
       "      <td>0.080716</td>\n",
       "    </tr>\n",
       "    <tr>\n",
       "      <td>std</td>\n",
       "      <td>9.644248e+06</td>\n",
       "      <td>263.436938</td>\n",
       "      <td>6.871957e+05</td>\n",
       "      <td>5.593938</td>\n",
       "      <td>0.285023</td>\n",
       "      <td>0.397333</td>\n",
       "      <td>0.272411</td>\n",
       "    </tr>\n",
       "    <tr>\n",
       "      <td>min</td>\n",
       "      <td>8.673400e+04</td>\n",
       "      <td>-140.960000</td>\n",
       "      <td>-1.643031e+05</td>\n",
       "      <td>1.000000</td>\n",
       "      <td>0.000000</td>\n",
       "      <td>0.000000</td>\n",
       "      <td>0.000000</td>\n",
       "    </tr>\n",
       "    <tr>\n",
       "      <td>25%</td>\n",
       "      <td>8.480767e+06</td>\n",
       "      <td>0.000000</td>\n",
       "      <td>1.827440e+05</td>\n",
       "      <td>14.000000</td>\n",
       "      <td>0.000000</td>\n",
       "      <td>0.000000</td>\n",
       "      <td>0.000000</td>\n",
       "    </tr>\n",
       "    <tr>\n",
       "      <td>50%</td>\n",
       "      <td>1.676890e+07</td>\n",
       "      <td>0.000000</td>\n",
       "      <td>3.711373e+05</td>\n",
       "      <td>18.000000</td>\n",
       "      <td>0.000000</td>\n",
       "      <td>0.000000</td>\n",
       "      <td>0.000000</td>\n",
       "    </tr>\n",
       "    <tr>\n",
       "      <td>75%</td>\n",
       "      <td>2.516154e+07</td>\n",
       "      <td>136.526667</td>\n",
       "      <td>6.935578e+05</td>\n",
       "      <td>20.000000</td>\n",
       "      <td>0.000000</td>\n",
       "      <td>0.000000</td>\n",
       "      <td>0.000000</td>\n",
       "    </tr>\n",
       "    <tr>\n",
       "      <td>max</td>\n",
       "      <td>3.424034e+07</td>\n",
       "      <td>5927.306667</td>\n",
       "      <td>1.000423e+07</td>\n",
       "      <td>50.000000</td>\n",
       "      <td>1.000000</td>\n",
       "      <td>1.000000</td>\n",
       "      <td>1.000000</td>\n",
       "    </tr>\n",
       "  </tbody>\n",
       "</table>\n",
       "</div>"
      ],
      "text/plain": [
       "       customer_number  campaign_period_sales  historical_sales_volume  \\\n",
       "count     1.133600e+04           11336.000000             1.133600e+04   \n",
       "mean      1.688645e+07             107.227464             5.607041e+05   \n",
       "std       9.644248e+06             263.436938             6.871957e+05   \n",
       "min       8.673400e+04            -140.960000            -1.643031e+05   \n",
       "25%       8.480767e+06               0.000000             1.827440e+05   \n",
       "50%       1.676890e+07               0.000000             3.711373e+05   \n",
       "75%       2.516154e+07             136.526667             6.935578e+05   \n",
       "max       3.424034e+07            5927.306667             1.000423e+07   \n",
       "\n",
       "       number_of_prior_year_transactions  do_not_direct_mail_solicit  \\\n",
       "count                       11336.000000                11336.000000   \n",
       "mean                           16.551076                    0.089185   \n",
       "std                             5.593938                    0.285023   \n",
       "min                             1.000000                    0.000000   \n",
       "25%                            14.000000                    0.000000   \n",
       "50%                            18.000000                    0.000000   \n",
       "75%                            20.000000                    0.000000   \n",
       "max                            50.000000                    1.000000   \n",
       "\n",
       "       do_not_email  do_not_telemarket  \n",
       "count  11336.000000       11336.000000  \n",
       "mean       0.196454           0.080716  \n",
       "std        0.397333           0.272411  \n",
       "min        0.000000           0.000000  \n",
       "25%        0.000000           0.000000  \n",
       "50%        0.000000           0.000000  \n",
       "75%        0.000000           0.000000  \n",
       "max        1.000000           1.000000  "
      ]
     },
     "execution_count": 144,
     "metadata": {},
     "output_type": "execute_result"
    }
   ],
   "source": []
  },
  {
   "cell_type": "markdown",
   "metadata": {},
   "source": [
    "### Products\n"
   ]
  },
  {
   "cell_type": "code",
   "execution_count": 145,
   "metadata": {},
   "outputs": [
    {
     "data": {
      "text/plain": [
       "<matplotlib.axes._subplots.AxesSubplot at 0x1a209d0b90>"
      ]
     },
     "execution_count": 145,
     "metadata": {},
     "output_type": "execute_result"
    },
    {
     "data": {
      "image/png": "[encoded data removed]",
      "text/plain": [
       "<Figure size 432x288 with 1 Axes>"
      ]
     },
     "metadata": {
      "needs_background": "light"
     },
     "output_type": "display_data"
    }
   ],
   "source": [
    "sns.countplot(df['executive_chair'].map({'N': 0, 'Y': 1}))"
   ]
  },
  {
   "cell_type": "code",
   "execution_count": null,
   "metadata": {},
   "outputs": [],
   "source": []
  },
  {
   "cell_type": "code",
   "execution_count": null,
   "metadata": {},
   "outputs": [],
   "source": []
  },
  {
   "cell_type": "code",
   "execution_count": null,
   "metadata": {},
   "outputs": [],
   "source": []
  },
  {
   "cell_type": "code",
   "execution_count": null,
   "metadata": {},
   "outputs": [],
   "source": []
  },
  {
   "cell_type": "code",
   "execution_count": null,
   "metadata": {},
   "outputs": [],
   "source": []
  },
  {
   "cell_type": "code",
   "execution_count": null,
   "metadata": {},
   "outputs": [],
   "source": []
  },
  {
   "cell_type": "code",
   "execution_count": 97,
   "metadata": {},
   "outputs": [
    {
     "data": {
      "text/plain": [
       "<matplotlib.axes._subplots.AxesSubplot at 0x1a25a9ac10>"
      ]
     },
     "execution_count": 97,
     "metadata": {},
     "output_type": "execute_result"
    },
    {
     "data": {
      "image/png": "[encoded data removed]",
      "text/plain": [
       "<Figure size 432x288 with 1 Axes>"
      ]
     },
     "metadata": {
      "needs_background": "light"
     },
     "output_type": "display_data"
    }
   ],
   "source": []
  },
  {
   "cell_type": "code",
   "execution_count": null,
   "metadata": {},
   "outputs": [],
   "source": []
  },
  {
   "cell_type": "code",
   "execution_count": null,
   "metadata": {},
   "outputs": [],
   "source": []
  },
  {
   "cell_type": "code",
   "execution_count": null,
   "metadata": {},
   "outputs": [],
   "source": []
  },
  {
   "cell_type": "code",
   "execution_count": null,
   "metadata": {},
   "outputs": [],
   "source": []
  },
  {
   "cell_type": "code",
   "execution_count": null,
   "metadata": {},
   "outputs": [],
   "source": []
  },
  {
   "cell_type": "code",
   "execution_count": null,
   "metadata": {},
   "outputs": [],
   "source": []
  },
  {
   "cell_type": "markdown",
   "metadata": {},
   "source": [
    "* Because there are more missing data in `language` and `last_transaction_channel`, instead of dropping, we better replace them beacuse we are going to lost a lot of rows if we do so\n",
    "* But we can leave out for a momnet the columns with alot of missing values.\n",
    "* Later on we may replace them with none."
   ]
  },
  {
   "cell_type": "code",
   "execution_count": 50,
   "metadata": {},
   "outputs": [
    {
     "data": {
      "image/png": "[encoded data removed]",
      "text/plain": [
       "<Figure size 576x720 with 1 Axes>"
      ]
     },
     "metadata": {},
     "output_type": "display_data"
    }
   ],
   "source": []
  },
  {
   "cell_type": "code",
   "execution_count": 58,
   "metadata": {},
   "outputs": [
    {
     "data": {
      "text/plain": [
       "0    16173\n",
       "Name: language, dtype: int64"
      ]
     },
     "execution_count": 58,
     "metadata": {},
     "output_type": "execute_result"
    }
   ],
   "source": [
    "df.language.value_counts()"
   ]
  },
  {
   "cell_type": "markdown",
   "metadata": {},
   "source": [
    "* About 97% of the language is `English`.\n",
    "* We define a dummy variable for this columns as below;"
   ]
  },
  {
   "cell_type": "code",
   "execution_count": 69,
   "metadata": {},
   "outputs": [],
   "source": []
  },
  {
   "cell_type": "code",
   "execution_count": 71,
   "metadata": {},
   "outputs": [
    {
     "data": {
      "text/plain": [
       "0    16173\n",
       "Name: language, dtype: int64"
      ]
     },
     "execution_count": 71,
     "metadata": {},
     "output_type": "execute_result"
    }
   ],
   "source": [
    "df['language'] = df['language'].apply(english_or_not)\n",
    "\n",
    "df.language.value_counts()"
   ]
  },
  {
   "cell_type": "code",
   "execution_count": null,
   "metadata": {},
   "outputs": [],
   "source": []
  },
  {
   "cell_type": "code",
   "execution_count": 56,
   "metadata": {},
   "outputs": [
    {
     "data": {
      "text/plain": [
       "0    16173\n",
       "Name: language, dtype: int64"
      ]
     },
     "execution_count": 56,
     "metadata": {},
     "output_type": "execute_result"
    }
   ],
   "source": [
    "df.language.value_counts()"
   ]
  },
  {
   "cell_type": "code",
   "execution_count": 32,
   "metadata": {},
   "outputs": [
    {
     "data": {
      "text/plain": [
       "<matplotlib.axes._subplots.AxesSubplot at 0x1a1c518ed0>"
      ]
     },
     "execution_count": 32,
     "metadata": {},
     "output_type": "execute_result"
    },
    {
     "data": {
      "image/png": "[encoded data removed]",
      "text/plain": [
       "<Figure size 432x288 with 1 Axes>"
      ]
     },
     "metadata": {
      "needs_background": "light"
     },
     "output_type": "display_data"
    }
   ],
   "source": []
  },
  {
   "cell_type": "code",
   "execution_count": 31,
   "metadata": {},
   "outputs": [
    {
     "data": {
      "text/plain": [
       "MAIL              7769\n",
       "AUTO RENEW        3141\n",
       "WEB               2648\n",
       "PHONE             1096\n",
       "BRANCH (POS)       633\n",
       "unknow             443\n",
       "BRANCH (PHONE)     411\n",
       "BILLING             18\n",
       "IT                  14\n",
       "Name: last_transaction_channel, dtype: int64"
      ]
     },
     "execution_count": 31,
     "metadata": {},
     "output_type": "execute_result"
    }
   ],
   "source": [
    "df['last_transaction_channel'] = df['last_transaction_channel'].fillna('unknow')\n",
    "df['last_transaction_channel'].value_counts()\n"
   ]
  },
  {
   "cell_type": "code",
   "execution_count": 25,
   "metadata": {},
   "outputs": [
    {
     "data": {
      "text/plain": [
       "customer_number                         1\n",
       "campaign_period_sales                   1\n",
       "historical_sales_volume                 1\n",
       "date_of_first_purchase                  1\n",
       "number_of_prior_year_transactions       1\n",
       "do_not_direct_mail_solicit              1\n",
       "do_not_email                            1\n",
       "do_not_telemarket                       1\n",
       "repurchase_method                       1\n",
       "last_transaction_channel                0\n",
       "desk                                    0\n",
       "executive_chair                         2\n",
       "standard_chair                          2\n",
       "monitor                                 2\n",
       "printer                                 2\n",
       "computer                                1\n",
       "insurance                               3\n",
       "toner                                   3\n",
       "office_supplies                         1\n",
       "number_of_employees                     3\n",
       "language                             4472\n",
       "dtype: int64"
      ]
     },
     "execution_count": 25,
     "metadata": {},
     "output_type": "execute_result"
    }
   ],
   "source": [
    "df.isnull().sum()"
   ]
  },
  {
   "cell_type": "code",
   "execution_count": null,
   "metadata": {},
   "outputs": [],
   "source": [
    "# Let now begin by exploring the compaign period sales:\n",
    "   * we can use either a histogram or a boxplot\n",
    "   * we can thing of this data: How many of them are postive and how many of them 0 and neagtive\n",
    "   * You can also create some sort of realtionship between historical sale volume.\n",
    "   * Is there a customer who bought in these periods, or do not?"
   ]
  },
  {
   "cell_type": "code",
   "execution_count": null,
   "metadata": {},
   "outputs": [],
   "source": []
  },
  {
   "cell_type": "code",
   "execution_count": null,
   "metadata": {},
   "outputs": [],
   "source": []
  }
 ],
 "metadata": {
  "kernelspec": {
   "display_name": "Python 3",
   "language": "python",
   "name": "python3"
  },
  "language_info": {
   "codemirror_mode": {
    "name": "ipython",
    "version": 3
   },
   "file_extension": ".py",
   "mimetype": "text/x-python",
   "name": "python",
   "nbconvert_exporter": "python",
   "pygments_lexer": "ipython3",
   "version": "3.7.4"
  }
 },
 "nbformat": 4,
 "nbformat_minor": 2
}
